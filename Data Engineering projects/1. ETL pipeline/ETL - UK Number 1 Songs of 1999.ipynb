{
 "cells": [
  {
   "cell_type": "markdown",
   "metadata": {
    "application/vnd.databricks.v1+cell": {
     "cellMetadata": {
      "byteLimit": 2048000,
      "rowLimit": 10000
     },
     "inputWidgets": {},
     "nuid": "280b47fa-5d4b-4a89-87c2-c9bbd09a7149",
     "showTitle": false,
     "title": ""
    }
   },
   "source": [
    "# UK Number 1 Songs of 1999\n",
    "\n",
    "1999 was the last big 'hurrah' for the music industry during the CD era before the rise of the internet, file-sharing and illegal downloads through sites such as Napster decimated record sales. It was only once downloads became recognised as an official method of purchasing music, and streaming services such as Spotify really took hold, that sales for singles began to turn around (album sales, on the hand, still have a long way to go).\n",
    "\n",
    "For this project, the aim is to scrape data in a Wikitable about the songs that topped the UK Singles Chart each week of 1999 and the respective sales accumulated. Once that's done, we will transform the data so that it is ready to be loaded into a PostgreSQL database managed by AWS."
   ]
  },
  {
   "cell_type": "code",
   "execution_count": 0,
   "metadata": {
    "application/vnd.databricks.v1+cell": {
     "cellMetadata": {
      "byteLimit": 2048000,
      "rowLimit": 10000
     },
     "inputWidgets": {},
     "nuid": "da505f23-fce1-42ea-bb88-f1a614a00840",
     "showTitle": false,
     "title": ""
    }
   },
   "outputs": [
    {
     "output_type": "display_data",
     "data": {
      "application/vnd.databricks.v1+bamboolib_hint": "{\"pd.DataFrames\": [], \"version\": \"0.0.1\"}",
      "text/plain": []
     },
     "metadata": {},
     "output_type": "display_data"
    }
   ],
   "source": [
    "# Import libraries \n",
    "from bs4 import BeautifulSoup\n",
    "import requests\n",
    "import time\n",
    "from datetime import datetime\n",
    "import pandas as pd\n",
    "\n",
    "from pyspark.sql import SparkSession\n",
    "from pyspark.sql.functions import col, udf\n",
    "from pyspark.sql.types import *"
   ]
  },
  {
   "cell_type": "code",
   "execution_count": 0,
   "metadata": {
    "application/vnd.databricks.v1+cell": {
     "cellMetadata": {
      "byteLimit": 2048000,
      "rowLimit": 10000
     },
     "inputWidgets": {},
     "nuid": "b1586ef3-2c20-4175-86ed-f592eb2a46c8",
     "showTitle": false,
     "title": ""
    }
   },
   "outputs": [
    {
     "output_type": "stream",
     "name": "stdout",
     "output_type": "stream",
     "text": [
      "Out[3]: 200"
     ]
    }
   ],
   "source": [
    "# Request permission from the Wikipedia page to fetch data\n",
    "url = \"https://en.wikipedia.org/wiki/1999_in_British_music_charts#Year-end_charts\"\n",
    "response = requests.get(url)\n",
    "\n",
    "# Verify that permission has been granted - the response code returned should be 200 if so\n",
    "response.status_code"
   ]
  },
  {
   "cell_type": "code",
   "execution_count": 0,
   "metadata": {
    "application/vnd.databricks.v1+cell": {
     "cellMetadata": {
      "byteLimit": 2048000,
      "rowLimit": 10000
     },
     "inputWidgets": {},
     "nuid": "6eca2bcb-a096-4625-a22f-10579222515b",
     "showTitle": false,
     "title": ""
    }
   },
   "outputs": [
    {
     "output_type": "stream",
     "name": "stdout",
     "output_type": "stream",
     "text": [
      "<!DOCTYPE html>\n<html class=\"client-nojs vector-feature-language-in-header-enabled vector-feature-language-in-main-page-header-disabled vector-feature-sticky-header-disabled vector-feature-page-tools-pinned-disabled vector-feature-toc-pinned-clientpref-1 vector-feature-main-menu-pinned-disabled vector-feature-limited-width-clientpref-1 vector-feature-limited-width-content-enabled vector-feature-zebra-design-disabled vector-feature-custom-font-size-clientpref-disabled vector-feature-client-preferences-disabled\" dir=\"ltr\" lang=\"en\">\n <head>\n  <meta charset=\"utf-8\"/>\n  <title>\n   1999 in British music charts - Wikipedia\n  </title>\n  <script>\n   (function(){var className=\"client-js vector-feature-language-in-header-enabled vector-feature-language-in-main-page-header-disabled vector-feature-sticky-header-disabled vector-feature-page-tools-pinned-disabled vector-feature-toc-pinned-clientpref-1 vector-feature-main-menu-pinned-disabled vector-feature-limited-width-clientpref-1 vector-feature-limited-width-content-enabled vector-feature-zebra-design-disabled vector-feature-custom-font-size-clientpref-disabled vector-feature-client-preferences-disabled\";var cookie=document.cookie.match(/(?:^|; )enwikimwclientpreferences=([^;]+)/);if(cookie){cookie[1].split('%2C').forEach(function(pref){className=className.replace(new RegExp('(^| )'+pref.replace(/-clientpref-\\w+$|[^\\w-]+/g,'')+'-clientpref-\\\\w+( |$)'),'$1'+pref+'$2');});}document.documentElement.className=className;}());RLCONF={\"wgBreakFrames\":false,\"wgSeparatorTransformTable\":[\"\",\"\"],\"wgDigitTransformTable\":[\"\",\"\"],\"wgDefaultDateFormat\":\"dmy\",\"wgMonthNames\":[\"\",\"January\",\"February\",\n\"March\",\"April\",\"May\",\"June\",\"July\",\"August\",\"September\",\"October\",\"November\",\"December\"],\"wgRequestId\":\"c37b949f-c591-4cf5-8415-1fb1e86e69b5\",\"wgCanonicalNamespace\":\"\",\"wgCanonicalSpecialPageName\":false,\"wgNamespaceNumber\":0,\"wgPageName\":\"1999_in_British_music_charts\",\"wgTitle\":\"1999 in British music charts\",\"wgCurRevisionId\":1174663037,\"wgRevisionId\":1174663037,\"wgArticleId\":59566528,\"wgIsArticle\":true,\"wgIsRedirect\":false,\"wgAction\":\"view\",\"wgUserName\":null,\"wgUserGroups\":[\"*\"],\"wgCategories\":[\"Webarchive template wayback links\",\"Articles with short description\",\"Short description is different from Wikidata\",\"Use British English from January 2019\",\"Use dmy dates from March 2021\",\"Articles containing potentially dated statements from April 2011\",\"All articles containing potentially dated statements\",\"All articles with unsourced statements\",\"Articles with unsourced statements from March 2019\",\"Articles with hCards\",\"1999 in British music\",\"1999 record charts\",\"British record charts\"],\n\"wgPageViewLanguage\":\"en\",\"wgPageContentLanguage\":\"en\",\"wgPageContentModel\":\"wikitext\",\"wgRelevantPageName\":\"1999_in_British_music_charts\",\"wgRelevantArticleId\":59566528,\"wgIsProbablyEditable\":true,\"wgRelevantPageIsProbablyEditable\":true,\"wgRestrictionEdit\":[],\"wgRestrictionMove\":[],\"wgMFDisplayWikibaseDescriptions\":{\"search\":true,\"watchlist\":true,\"tagline\":false,\"nearby\":true},\"wgWMESchemaEditAttemptStepOversample\":false,\"wgWMEPageLength\":60000,\"wgNoticeProject\":\"wikipedia\",\"wgFlaggedRevsParams\":{\"tags\":{\"status\":{\"levels\":1}}},\"wgMediaViewerOnClick\":true,\"wgMediaViewerEnabledByDefault\":true,\"wgPopupsFlags\":10,\"wgVisualEditor\":{\"pageLanguageCode\":\"en\",\"pageLanguageDir\":\"ltr\",\"pageVariantFallbacks\":\"en\"},\"wgULSCurrentAutonym\":\"English\",\"wgCentralAuthMobileDomain\":false,\"wgEditSubmitButtonLabelPublish\":true,\"wgULSPosition\":\"interlanguage\",\"wgULSisCompactLinksEnabled\":true,\"wgULSisLanguageSelectorEmpty\":false,\"wgWikibaseItemId\":\"Q60542850\",\"wgCheckUserClientHintsHeadersJsApi\":[\n\"architecture\",\"bitness\",\"brands\",\"fullVersionList\",\"mobile\",\"model\",\"platform\",\"platformVersion\"],\"GEHomepageSuggestedEditsEnableTopics\":true,\"wgGETopicsMatchModeEnabled\":false,\"wgGEStructuredTaskRejectionReasonTextInputEnabled\":false,\"wgGELevelingUpEnabledForUser\":false};RLSTATE={\"skins.vector.user.styles\":\"ready\",\"ext.globalCssJs.user.styles\":\"ready\",\"site.styles\":\"ready\",\"user.styles\":\"ready\",\"skins.vector.user\":\"ready\",\"ext.globalCssJs.user\":\"ready\",\"user\":\"ready\",\"user.options\":\"loading\",\"ext.cite.styles\":\"ready\",\"codex-search-styles\":\"ready\",\"skins.vector.styles\":\"ready\",\"skins.vector.icons\":\"ready\",\"jquery.tablesorter.styles\":\"ready\",\"jquery.makeCollapsible.styles\":\"ready\",\"ext.wikimediaBadges\":\"ready\",\"ext.visualEditor.desktopArticleTarget.noscript\":\"ready\",\"ext.uls.interlanguage\":\"ready\",\"wikibase.client.init\":\"ready\"};RLPAGEMODULES=[\"ext.cite.ux-enhancements\",\"site\",\"mediawiki.page.ready\",\"jquery.tablesorter\",\"jquery.makeCollapsible\",\"mediawiki.toc\",\"skins.vector.js\",\n\"ext.urlShortener.toolbar\",\"ext.eventLogging\",\"ext.wikimediaEvents\",\"ext.navigationTiming\",\"ext.cx.eventlogging.campaigns\",\"ext.quicksurveys.init\",\"ext.centralNotice.geoIP\",\"ext.centralNotice.startUp\",\"ext.gadget.ReferenceTooltips\",\"ext.gadget.charinsert\",\"ext.gadget.extra-toolbar-buttons\",\"ext.gadget.switcher\",\"ext.centralauth.centralautologin\",\"ext.popups\",\"ext.visualEditor.desktopArticleTarget.init\",\"ext.visualEditor.targetLoader\",\"ext.echo.centralauth\",\"ext.uls.compactlinks\",\"ext.uls.interface\",\"ext.cx.uls.quick.actions\",\"wikibase.client.vector-2022\",\"ext.checkUser.clientHints\",\"ext.growthExperiments.SuggestedEditSession\"];\n  </script>\n  <script>\n   (RLQ=window.RLQ||[]).push(function(){mw.loader.impl(function(){return[\"user.options@12s5i\",function($,jQuery,require,module){mw.user.tokens.set({\"patrolToken\":\"+\\\\\",\"watchToken\":\"+\\\\\",\"csrfToken\":\"+\\\\\"});\n}];});});\n  </script>\n  <link href=\"/w/load.php?lang=en&amp;modules=codex-search-styles%7Cext.cite.styles%7Cext.uls.interlanguage%7Cext.visualEditor.desktopArticleTarget.noscript%7Cext.wikimediaBadges%7Cjquery.makeCollapsible.styles%7Cjquery.tablesorter.styles%7Cskins.vector.icons%2Cstyles%7Cwikibase.client.init&amp;only=styles&amp;skin=vector-2022\" rel=\"stylesheet\"/>\n  <script async=\"\" src=\"/w/load.php?lang=en&amp;modules=startup&amp;only=scripts&amp;raw=1&amp;skin=vector-2022\">\n  </script>\n  <meta content=\"\" name=\"ResourceLoaderDynamicStyles\"/>\n  <link href=\"/w/load.php?lang=en&amp;modules=site.styles&amp;only=styles&amp;skin=vector-2022\" rel=\"stylesheet\"/>\n  <meta content=\"MediaWiki 1.41.0-wmf.27\" name=\"generator\"/>\n  <meta content=\"origin\" name=\"referrer\"/>\n  <meta content=\"origin-when-cross-origin\" name=\"referrer\"/>\n  <meta content=\"max-image-preview:standard\" name=\"robots\"/>\n  <meta content=\"telephone=no\" name=\"format-detection\"/>\n  <meta content=\"width=1000\" name=\"viewport\"/>\n  <meta content=\"1999 in British music charts - Wikipedia\" property=\"og:title\"/>\n  <meta content=\"website\" property=\"og:type\"/>\n  <link href=\"//en.m.wikipedia.org/wiki/1999_in_British_music_charts\" media=\"only screen and (max-width: 720px)\" rel=\"alternate\"/>\n  <link href=\"/w/index.php?title=1999_in_British_music_charts&amp;action=edit\" rel=\"alternate\" title=\"Edit this page\" type=\"application/x-wiki\"/>\n  <link href=\"/static/apple-touch/wikipedia.png\" rel=\"apple-touch-icon\"/>\n  <link href=\"/static/favicon/wikipedia.ico\" rel=\"icon\"/>\n  <link href=\"/w/opensearch_desc.php\" rel=\"search\" title=\"Wikipedia (en)\" type=\"application/opensearchdescription+xml\"/>\n  <link href=\"//en.wikipedia.org/w/api.php?action=rsd\" rel=\"EditURI\" type=\"application/rsd+xml\"/>\n  <link href=\"https://en.wikipedia.org/wiki/1999_in_British_music_charts\" rel=\"canonical\"/>\n  <link href=\"https://creativecommons.org/licenses/by-sa/4.0/deed.en\" rel=\"license\"/>\n  <link href=\"/w/index.php?title=Special:RecentChanges&amp;feed=atom\" rel=\"alternate\" title=\"Wikipedia Atom feed\" type=\"application/atom+xml\"/>\n  <link href=\"//meta.wikimedia.org\" rel=\"dns-prefetch\">\n   <link href=\"//login.wikimedia.org\" rel=\"dns-prefetch\"/>\n  </link>\n </head>\n <body class=\"skin-vector skin-vector-search-vue mediawiki ltr sitedir-ltr mw-hide-empty-elt ns-0 ns-subject mw-editable page-1999_in_British_music_charts rootpage-1999_in_British_music_charts skin-vector-2022 action-view\">\n  <a class=\"mw-jump-link\" href=\"#bodyContent\">\n   Jump to content\n  </a>\n  <div class=\"vector-header-container\">\n   <header class=\"vector-header mw-header\">\n    <div class=\"vector-header-start\">\n     <nav aria-label=\"Site\" class=\"vector-main-menu-landmark\" role=\"navigation\">\n      <div class=\"vector-dropdown vector-main-menu-dropdown vector-button-flush-left vector-button-flush-right\" id=\"vector-main-menu-dropdown\">\n       <input aria-haspopup=\"true\" aria-label=\"Main menu\" class=\"vector-dropdown-checkbox\" data-event-name=\"ui.dropdown-vector-main-menu-dropdown\" id=\"vector-main-menu-dropdown-checkbox\" role=\"button\" type=\"checkbox\"/>\n       <label aria-hidden=\"true\" class=\"vector-dropdown-label cdx-button cdx-button--fake-button cdx-button--fake-button--enabled cdx-button--weight-quiet cdx-button--icon-only\" for=\"vector-main-menu-dropdown-checkbox\" id=\"vector-main-menu-dropdown-label\">\n        <span class=\"vector-icon mw-ui-icon-menu mw-ui-icon-wikimedia-menu\">\n        </span>\n        <span class=\"vector-dropdown-label-text\">\n         Main menu\n        </span>\n       </label>\n       <div class=\"vector-dropdown-content\">\n        <div class=\"vector-unpinned-container\" id=\"vector-main-menu-unpinned-container\">\n         <div class=\"vector-main-menu vector-pinnable-element\" id=\"vector-main-menu\">\n          <div class=\"vector-pinnable-header vector-main-menu-pinnable-header vector-pinnable-header-unpinned\" data-feature-name=\"main-menu-pinned\" data-pinnable-element-id=\"vector-main-menu\" data-pinned-container-id=\"vector-main-menu-pinned-container\" data-unpinned-container-id=\"vector-main-menu-unpinned-container\">\n           <div class=\"vector-pinnable-header-label\">\n            Main menu\n           </div>\n           <button class=\"vector-pinnable-header-toggle-button vector-pinnable-header-pin-button\" data-event-name=\"pinnable-header.vector-main-menu.pin\">\n            move to sidebar\n           </button>\n           <button class=\"vector-pinnable-header-toggle-button vector-pinnable-header-unpin-button\" data-event-name=\"pinnable-header.vector-main-menu.unpin\">\n            hide\n           </button>\n          </div>\n          <div class=\"vector-menu mw-portlet mw-portlet-navigation\" id=\"p-navigation\">\n           <div class=\"vector-menu-heading\">\n            Navigation\n           </div>\n           <div class=\"vector-menu-content\">\n            <ul class=\"vector-menu-content-list\">\n             <li class=\"mw-list-item\" id=\"n-mainpage-description\">\n              <a accesskey=\"z\" href=\"/wiki/Main_Page\" title=\"Visit the main page [z]\">\n               <span>\n                Main page\n               </span>\n              </a>\n             </li>\n             <li class=\"mw-list-item\" id=\"n-contents\">\n              <a href=\"/wiki/Wikipedia:Contents\" title=\"Guides to browsing Wikipedia\">\n               <span>\n                Contents\n               </span>\n              </a>\n             </li>\n             <li class=\"mw-list-item\" id=\"n-currentevents\">\n              <a href=\"/wiki/Portal:Current_events\" title=\"Articles related to current events\">\n               <span>\n                Current events\n               </span>\n              </a>\n             </li>\n             <li class=\"mw-list-item\" id=\"n-randompage\">\n              <a accesskey=\"x\" href=\"/wiki/Special:Random\" title=\"Visit a randomly selected article [x]\">\n               <span>\n                Random article\n               </span>\n              </a>\n             </li>\n             <li class=\"mw-list-item\" id=\"n-aboutsite\">\n              <a href=\"/wiki/Wikipedia:About\" title=\"Learn about Wikipedia and how it works\">\n               <span>\n                About Wikipedia\n               </span>\n              </a>\n             </li>\n             <li class=\"mw-list-item\" id=\"n-contactpage\">\n              <a href=\"//en.wikipedia.org/wiki/Wikipedia:Contact_us\" title=\"How to contact Wikipedia\">\n               <span>\n                Contact us\n               </span>\n              </a>\n             </li>\n             <li class=\"mw-list-item\" id=\"n-sitesupport\">\n              <a href=\"https://donate.wikimedia.org/wiki/Special:FundraiserRedirector?utm_source=donate&amp;utm_medium=sidebar&amp;utm_campaign=C13_en.wikipedia.org&amp;uselang=en\" title=\"Support us by donating to the Wikimedia Foundation\">\n               <span>\n                Donate\n               </span>\n              </a>\n             </li>\n            </ul>\n           </div>\n          </div>\n          <div class=\"vector-menu mw-portlet mw-portlet-interaction\" id=\"p-interaction\">\n           <div class=\"vector-menu-heading\">\n            Contribute\n           </div>\n           <div class=\"vector-menu-content\">\n            <ul class=\"vector-menu-content-list\">\n             <li class=\"mw-list-item\" id=\"n-help\">\n              <a href=\"/wiki/Help:Contents\" title=\"Guidance on how to use and edit Wikipedia\">\n               <span>\n                Help\n               </span>\n              </a>\n             </li>\n             <li class=\"mw-list-item\" id=\"n-introduction\">\n              <a href=\"/wiki/Help:Introduction\" title=\"Learn how to edit Wikipedia\">\n               <span>\n                Learn to edit\n               </span>\n              </a>\n             </li>\n             <li class=\"mw-list-item\" id=\"n-portal\">\n              <a href=\"/wiki/Wikipedia:Community_portal\" title=\"The hub for editors\">\n               <span>\n                Community portal\n               </span>\n              </a>\n             </li>\n             <li class=\"mw-list-item\" id=\"n-recentchanges\">\n              <a accesskey=\"r\" href=\"/wiki/Special:RecentChanges\" title=\"A list of recent changes to Wikipedia [r]\">\n               <span>\n                Recent changes\n               </span>\n              </a>\n             </li>\n             <li class=\"mw-list-item\" id=\"n-upload\">\n              <a href=\"/wiki/Wikipedia:File_upload_wizard\" title=\"Add images or other media for use on Wikipedia\">\n               <span>\n                Upload file\n               </span>\n              </a>\n             </li>\n            </ul>\n           </div>\n          </div>\n          <div class=\"vector-main-menu-action vector-main-menu-action-lang-alert vector-main-menu-action-lang-alert-empty\">\n           <div class=\"vector-main-menu-action-item\">\n            <div class=\"vector-main-menu-action-heading vector-menu-heading\">\n             Languages\n            </div>\n            <div class=\"vector-main-menu-action-content vector-menu-content\">\n             <div class=\"mw-message-box cdx-message cdx-message--block mw-message-box-notice cdx-message--notice vector-language-sidebar-alert\">\n              <span class=\"cdx-message__icon\">\n              </span>\n              <div class=\"cdx-message__content\">\n               Language links are at the top of the page across from the title.\n              </div>\n             </div>\n            </div>\n           </div>\n          </div>\n         </div>\n        </div>\n       </div>\n      </div>\n     </nav>\n     <a class=\"mw-logo\" href=\"/wiki/Main_Page\">\n      <img alt=\"\" aria-hidden=\"true\" class=\"mw-logo-icon\" height=\"50\" src=\"/static/images/icons/wikipedia.png\" width=\"50\"/>\n      <span class=\"mw-logo-container\">\n       <img alt=\"Wikipedia\" class=\"mw-logo-wordmark\" src=\"/static/images/mobile/copyright/wikipedia-wordmark-en.svg\" style=\"width: 7.5em; height: 1.125em;\"/>\n       <img alt=\"The Free Encyclopedia\" class=\"mw-logo-tagline\" height=\"13\" src=\"/static/images/mobile/copyright/wikipedia-tagline-en.svg\" style=\"width: 7.3125em; height: 0.8125em;\" width=\"117\"/>\n      </span>\n     </a>\n    </div>\n    <div class=\"vector-header-end\">\n     <div class=\"vector-search-box-vue vector-search-box-collapses vector-search-box-show-thumbnail vector-search-box-auto-expand-width vector-search-box\" id=\"p-search\" role=\"search\">\n      <a accesskey=\"f\" class=\"cdx-button cdx-button--fake-button cdx-button--fake-button--enabled cdx-button--weight-quiet cdx-button--icon-only search-toggle\" href=\"/wiki/Special:Search\" id=\"\" title=\"Search Wikipedia [f]\">\n       <span class=\"vector-icon mw-ui-icon-search mw-ui-icon-wikimedia-search\">\n       </span>\n       <span>\n        Search\n       </span>\n      </a>\n      <div class=\"vector-typeahead-search-container\">\n       <div class=\"cdx-typeahead-search cdx-typeahead-search--show-thumbnail cdx-typeahead-search--auto-expand-width\">\n        <form action=\"/w/index.php\" class=\"cdx-search-input cdx-search-input--has-end-button\" id=\"searchform\">\n         <div class=\"cdx-search-input__input-wrapper\" data-search-loc=\"header-moved\" id=\"simpleSearch\">\n          <div class=\"cdx-text-input cdx-text-input--has-start-icon\">\n           <input accesskey=\"f\" aria-label=\"Search Wikipedia\" autocapitalize=\"sentences\" class=\"cdx-text-input__input\" id=\"searchInput\" name=\"search\" placeholder=\"Search Wikipedia\" title=\"Search Wikipedia [f]\" type=\"search\"/>\n           <span class=\"cdx-text-input__icon cdx-text-input__start-icon\">\n           </span>\n          </div>\n          <input name=\"title\" type=\"hidden\" value=\"Special:Search\"/>\n         </div>\n         <button class=\"cdx-button cdx-search-input__end-button\">\n          Search\n         </button>\n        </form>\n       </div>\n      </div>\n     </div>\n     <nav aria-label=\"Personal tools\" class=\"vector-user-links\" role=\"navigation\">\n      <div class=\"vector-menu mw-portlet mw-portlet-vector-user-menu-overflow\" id=\"p-vector-user-menu-overflow\">\n       <div class=\"vector-menu-content\">\n        <ul class=\"vector-menu-content-list\">\n         <li class=\"user-links-collapsible-item mw-list-item\" id=\"pt-createaccount-2\">\n          <a href=\"/w/index.php?title=Special:CreateAccount&amp;returnto=1999+in+British+music+charts\" title=\"You are encouraged to create an account and log in; however, it is not mandatory\">\n           <span>\n            Create account\n           </span>\n          </a>\n         </li>\n         <li class=\"user-links-collapsible-item mw-list-item\" id=\"pt-login-2\">\n          <a accesskey=\"o\" href=\"/w/index.php?title=Special:UserLogin&amp;returnto=1999+in+British+music+charts\" title=\"You're encouraged to log in; however, it's not mandatory. [o]\">\n           <span>\n            Log in\n           </span>\n          </a>\n         </li>\n        </ul>\n       </div>\n      </div>\n      <div class=\"vector-dropdown vector-user-menu vector-button-flush-right vector-user-menu-logged-out\" id=\"vector-user-links-dropdown\" title=\"Log in and more options\">\n       <input aria-haspopup=\"true\" aria-label=\"Personal tools\" class=\"vector-dropdown-checkbox\" data-event-name=\"ui.dropdown-vector-user-links-dropdown\" id=\"vector-user-links-dropdown-checkbox\" role=\"button\" type=\"checkbox\"/>\n       <label aria-hidden=\"true\" class=\"vector-dropdown-label cdx-button cdx-button--fake-button cdx-button--fake-button--enabled cdx-button--weight-quiet cdx-button--icon-only\" for=\"vector-user-links-dropdown-checkbox\" id=\"vector-user-links-dropdown-label\">\n        <span class=\"vector-icon mw-ui-icon-ellipsis mw-ui-icon-wikimedia-ellipsis\">\n        </span>\n        <span class=\"vector-dropdown-label-text\">\n         Personal tools\n        </span>\n       </label>\n       <div class=\"vector-dropdown-content\">\n        <div class=\"vector-menu mw-portlet mw-portlet-personal user-links-collapsible-item\" id=\"p-personal\" title=\"User menu\">\n         <div class=\"vector-menu-content\">\n          <ul class=\"vector-menu-content-list\">\n           <li class=\"user-links-collapsible-item mw-list-item\" id=\"pt-createaccount\">\n            <a href=\"/w/index.php?title=Special:CreateAccount&amp;returnto=1999+in+British+music+charts\" title=\"You are encouraged to create an account and log in; however, it is not mandatory\">\n             <span class=\"vector-icon mw-ui-icon-userAdd mw-ui-icon-wikimedia-userAdd\">\n             </span>\n             <span>\n              Create account\n             </span>\n            </a>\n           </li>\n           <li class=\"user-links-collapsible-item mw-list-item\" id=\"pt-login\">\n            <a accesskey=\"o\" href=\"/w/index.php?title=Special:UserLogin&amp;returnto=1999+in+British+music+charts\" title=\"You're encouraged to log in; however, it's not mandatory. [o]\">\n             <span class=\"vector-icon mw-ui-icon-logIn mw-ui-icon-wikimedia-logIn\">\n             </span>\n             <span>\n              Log in\n             </span>\n            </a>\n           </li>\n          </ul>\n         </div>\n        </div>\n        <div class=\"vector-menu mw-portlet mw-portlet-user-menu-anon-editor\" id=\"p-user-menu-anon-editor\">\n         <div class=\"vector-menu-heading\">\n          Pages for logged out editors\n          <a aria-label=\"Learn more about editing\" href=\"/wiki/Help:Introduction\">\n           <span>\n            learn more\n           </span>\n          </a>\n         </div>\n         <div class=\"vector-menu-content\">\n          <ul class=\"vector-menu-content-list\">\n           <li class=\"mw-list-item\" id=\"pt-anoncontribs\">\n            <a accesskey=\"y\" href=\"/wiki/Special:MyContributions\" title=\"A list of edits made from this IP address [y]\">\n             <span>\n              Contributions\n             </span>\n            </a>\n           </li>\n           <li class=\"mw-list-item\" id=\"pt-anontalk\">\n            <a accesskey=\"n\" href=\"/wiki/Special:MyTalk\" title=\"Discussion about edits from this IP address [n]\">\n             <span>\n              Talk\n             </span>\n            </a>\n           </li>\n          </ul>\n         </div>\n        </div>\n       </div>\n      </div>\n     </nav>\n    </div>\n   </header>\n  </div>\n  <div class=\"mw-page-container\">\n   <div class=\"mw-page-container-inner\">\n    <div class=\"vector-main-menu-container\">\n     <div id=\"mw-navigation\">\n      <nav aria-label=\"Site\" class=\"vector-main-menu-landmark\" id=\"mw-panel\" role=\"navigation\">\n       <div class=\"vector-pinned-container\" id=\"vector-main-menu-pinned-container\">\n       </div>\n      </nav>\n     </div>\n    </div>\n    <div class=\"vector-sitenotice-container\">\n     <div id=\"siteNotice\">\n      <!-- CentralNotice -->\n     </div>\n    </div>\n    <input class=\"vector-menu-checkbox\" id=\"vector-toc-collapsed-checkbox\" type=\"checkbox\"/>\n    <nav aria-label=\"Contents\" class=\"mw-table-of-contents-container vector-toc-landmark vector-sticky-pinned-container\" data-event-name=\"ui.sidebar-toc\" id=\"mw-panel-toc\" role=\"navigation\">\n     <div class=\"vector-pinned-container\" id=\"vector-toc-pinned-container\">\n      <div class=\"vector-toc vector-pinnable-element\" id=\"vector-toc\">\n       <div class=\"vector-pinnable-header vector-toc-pinnable-header vector-pinnable-header-pinned\" data-feature-name=\"toc-pinned\" data-pinnable-element-id=\"vector-toc\">\n        <h2 class=\"vector-pinnable-header-label\">\n         Contents\n        </h2>\n        <button class=\"vector-pinnable-header-toggle-button vector-pinnable-header-pin-button\" data-event-name=\"pinnable-header.vector-toc.pin\">\n         move to sidebar\n        </button>\n        <button class=\"vector-pinnable-header-toggle-button vector-pinnable-header-unpin-button\" data-event-name=\"pinnable-header.vector-toc.unpin\">\n         hide\n        </button>\n       </div>\n       <ul class=\"vector-toc-contents\" id=\"mw-panel-toc-list\">\n        <li class=\"vector-toc-list-item vector-toc-level-1\" id=\"toc-mw-content-text\">\n         <a class=\"vector-toc-link\" href=\"#\">\n          <div class=\"vector-toc-text\">\n           (Top)\n          </div>\n         </a>\n        </li>\n        <li class=\"vector-toc-list-item vector-toc-level-1\" id=\"toc-Summary\">\n         <a class=\"vector-toc-link\" href=\"#Summary\">\n          <div class=\"vector-toc-text\">\n           <span class=\"vector-toc-numb\">\n            1\n           </span>\n           Summary\n          </div>\n         </a>\n         <ul class=\"vector-toc-list\" id=\"toc-Summary-sublist\">\n         </ul>\n        </li>\n        <li class=\"vector-toc-list-item vector-toc-level-1\" id=\"toc-Developments\">\n         <a class=\"vector-toc-link\" href=\"#Developments\">\n          <div class=\"vector-toc-text\">\n           <span class=\"vector-toc-numb\">\n            2\n           </span>\n           Developments\n          </div>\n         </a>\n         <button aria-controls=\"toc-Developments-sublist\" class=\"cdx-button cdx-button--weight-quiet cdx-button--icon-only vector-toc-toggle\">\n          <span class=\"vector-icon vector-icon--x-small mw-ui-icon-wikimedia-expand\">\n          </span>\n          <span>\n           Toggle Developments subsection\n          </span>\n         </button>\n         <ul class=\"vector-toc-list\" id=\"toc-Developments-sublist\">\n          <li class=\"vector-toc-list-item vector-toc-level-2\" id=\"toc-Girl_groups\">\n           <a class=\"vector-toc-link\" href=\"#Girl_groups\">\n            <div class=\"vector-toc-text\">\n             <span class=\"vector-toc-numb\">\n              2.1\n             </span>\n             Girl groups\n            </div>\n           </a>\n           <ul class=\"vector-toc-list\" id=\"toc-Girl_groups-sublist\">\n           </ul>\n          </li>\n          <li class=\"vector-toc-list-item vector-toc-level-2\" id=\"toc-Boy_bands\">\n           <a class=\"vector-toc-link\" href=\"\n\n*** WARNING: max output size exceeded, skipping output. ***\n\n         </a>\n                     </li>\n                     <li>\n                      <a href=\"/wiki/UK_Independent_Singles_and_Albums_Charts\" title=\"UK Independent Singles and Albums Charts\">\n                       Indie chart\n                      </a>\n                     </li>\n                     <li>\n                      <a href=\"/wiki/UK_R%26B_Singles_and_Albums_Charts\" title=\"UK R&amp;B Singles and Albums Charts\">\n                       R&amp;B chart\n                      </a>\n                     </li>\n                     <li>\n                      <a class=\"mw-redirect\" href=\"/wiki/UK_Rock_%26_Metal_Singles_and_Albums_Charts\" title=\"UK Rock &amp; Metal Singles and Albums Charts\">\n                       Rock chart\n                      </a>\n                     </li>\n                     <li>\n                      <a href=\"/wiki/UK_Singles_Chart\" title=\"UK Singles Chart\">\n                       Singles chart\n                      </a>\n                     </li>\n                     <li>\n                      <a href=\"/wiki/Official_Subscription_Plays_Chart\" title=\"Official Subscription Plays Chart\">\n                       Subscription plays chart\n                      </a>\n                     </li>\n                    </ul>\n                   </div>\n                  </td>\n                 </tr>\n                 <tr>\n                  <th class=\"navbox-group\" scope=\"row\" style=\"width:1%\">\n                   Music festivals\n                  </th>\n                  <td class=\"navbox-list-with-group navbox-list navbox-even\" style=\"width:100%;padding:0\">\n                   <div style=\"padding:0 0.25em\">\n                    <ul>\n                     <li>\n                      <a href=\"/wiki/Boomtown_(festival)\" title=\"Boomtown (festival)\">\n                       Boomtown\n                      </a>\n                     </li>\n                     <li>\n                      <a href=\"/wiki/C2C:_Country_to_Country\" title=\"C2C: Country to Country\">\n                       C2C: Country to Country\n                      </a>\n                     </li>\n                     <li>\n                      <a href=\"/wiki/Cambridge_Folk_Festival\" title=\"Cambridge Folk Festival\">\n                       Cambridge Folk\n                      </a>\n                     </li>\n                     <li>\n                      <a href=\"/wiki/Download_Festival\" title=\"Download Festival\">\n                       Download\n                      </a>\n                     </li>\n                     <li>\n                      <a href=\"/wiki/Edinburgh_International_Festival\" title=\"Edinburgh International Festival\">\n                       Edinburgh\n                      </a>\n                     </li>\n                     <li>\n                      <a href=\"/wiki/Eisteddfod\" title=\"Eisteddfod\">\n                       Eisteddfod\n                      </a>\n                     </li>\n                     <li>\n                      <a href=\"/wiki/Glastonbury_Festival\" title=\"Glastonbury Festival\">\n                       Glastonbury\n                      </a>\n                     </li>\n                     <li>\n                      <a href=\"/wiki/Isle_of_Wight_Festival\" title=\"Isle of Wight Festival\">\n                       Isle of Wight\n                      </a>\n                     </li>\n                     <li>\n                      <a class=\"mw-redirect\" href=\"/wiki/Concerts_at_Knebworth_House\" title=\"Concerts at Knebworth House\">\n                       Knebworth\n                      </a>\n                     </li>\n                     <li>\n                      <a href=\"/wiki/Royal_National_M%C3%B2d\" title=\"Royal National Mòd\">\n                       Royal National Mòd\n                      </a>\n                     </li>\n                     <li>\n                      <a class=\"mw-redirect\" href=\"/wiki/The_Proms\" title=\"The Proms\">\n                       The Proms\n                      </a>\n                     </li>\n                     <li>\n                      <a href=\"/wiki/Reading_and_Leeds_Festivals\" title=\"Reading and Leeds Festivals\">\n                       Reading and Leeds\n                      </a>\n                     </li>\n                     <li>\n                      <a class=\"mw-redirect\" href=\"/wiki/Sidmouth_Folk_Week\" title=\"Sidmouth Folk Week\">\n                       Sidmouth\n                      </a>\n                     </li>\n                     <li>\n                      <a href=\"/wiki/T_in_the_Park\" title=\"T in the Park\">\n                       T in the Park\n                      </a>\n                     </li>\n                     <li>\n                      <a href=\"/wiki/V_Festival\" title=\"V Festival\">\n                       V\n                      </a>\n                     </li>\n                    </ul>\n                   </div>\n                  </td>\n                 </tr>\n                 <tr>\n                  <th class=\"navbox-group\" scope=\"row\" style=\"width:1%\">\n                   Music media\n                  </th>\n                  <td class=\"navbox-list-with-group navbox-list navbox-odd\" style=\"width:100%;padding:0\">\n                   <div style=\"padding:0 0.25em\">\n                    <ul>\n                     <li>\n                      <i>\n                       <a href=\"/wiki/FRoots\" title=\"FRoots\">\n                        fRoots\n                       </a>\n                      </i>\n                     </li>\n                     <li>\n                      <i>\n                       <a href=\"/wiki/Gramophone_(magazine)\" title=\"Gramophone (magazine)\">\n                        The Gramophone\n                       </a>\n                      </i>\n                     </li>\n                     <li>\n                      <i>\n                       <a href=\"/wiki/Kerrang!\" title=\"Kerrang!\">\n                        Kerrang!\n                       </a>\n                      </i>\n                     </li>\n                     <li>\n                      <i>\n                       <a href=\"/wiki/Melody_Maker\" title=\"Melody Maker\">\n                        Melody Maker\n                       </a>\n                      </i>\n                     </li>\n                     <li>\n                      <i>\n                       <a href=\"/wiki/Mojo_(magazine)\" title=\"Mojo (magazine)\">\n                        Mojo\n                       </a>\n                      </i>\n                     </li>\n                     <li>\n                      <i>\n                       <a href=\"/wiki/NME\" title=\"NME\">\n                        NME\n                       </a>\n                      </i>\n                     </li>\n                     <li>\n                      <i>\n                       <a href=\"/wiki/Q_(magazine)\" title=\"Q (magazine)\">\n                        Q\n                       </a>\n                      </i>\n                     </li>\n                     <li>\n                      <i>\n                       <a href=\"/wiki/The_Wire_(magazine)\" title=\"The Wire (magazine)\">\n                        The Wire\n                       </a>\n                      </i>\n                     </li>\n                    </ul>\n                   </div>\n                  </td>\n                 </tr>\n                 <tr>\n                  <th class=\"navbox-group\" scope=\"row\" style=\"width:1%\">\n                   National anthem\n                  </th>\n                  <td class=\"navbox-list-with-group navbox-list navbox-even\" style=\"width:100%;padding:0\">\n                   <div style=\"padding:0 0.25em\">\n                    <ul>\n                     <li>\n                      \"\n                      <a href=\"/wiki/God_Save_the_King\" title=\"God Save the King\">\n                       God Save the King\n                      </a>\n                      \"\n                     </li>\n                    </ul>\n                   </div>\n                  </td>\n                 </tr>\n                </tbody>\n               </table>\n               <div>\n               </div>\n              </td>\n             </tr>\n             <tr>\n              <th class=\"navbox-group\" scope=\"row\" style=\"width:1%;padding:0.35em 1.0em; line-height:1.1em;\">\n               Regional music\n              </th>\n              <td class=\"navbox-list-with-group navbox-list navbox-odd hlist\" style=\"width:100%;padding:0\">\n               <div style=\"padding:0 0.25em\">\n               </div>\n               <table class=\"nowraplinks navbox-subgroup\" style=\"border-spacing:0\">\n                <tbody>\n                 <tr>\n                  <th class=\"navbox-group\" scope=\"row\" style=\"width:1%\">\n                   British Isles\n                  </th>\n                  <td class=\"navbox-list-with-group navbox-list navbox-odd\" style=\"width:100%;padding:0\">\n                   <div style=\"padding:0 0.25em\">\n                    <ul>\n                     <li>\n                      Birmingham (\n                      <a href=\"/wiki/Classical_music_of_Birmingham\" title=\"Classical music of Birmingham\">\n                       Classical music\n                      </a>\n                      ,\n                      <a href=\"/wiki/Jazz_of_Birmingham\" title=\"Jazz of Birmingham\">\n                       Jazz\n                      </a>\n                      ,\n                      <a href=\"/wiki/Popular_music_of_Birmingham\" title=\"Popular music of Birmingham\">\n                       Popular music\n                      </a>\n                      )\n                     </li>\n                     <li>\n                      <a href=\"/wiki/Music_of_Cardiff\" title=\"Music of Cardiff\">\n                       Cardiff\n                      </a>\n                     </li>\n                     <li>\n                      <a href=\"/wiki/Music_of_Cornwall\" title=\"Music of Cornwall\">\n                       Cornwall\n                      </a>\n                     </li>\n                     <li>\n                      <a href=\"/wiki/Music_of_Liverpool\" title=\"Music of Liverpool\">\n                       Liverpool\n                      </a>\n                     </li>\n                     <li>\n                      <a href=\"/wiki/Culture_of_Manchester#Music\" title=\"Culture of Manchester\">\n                       Manchester\n                      </a>\n                     </li>\n                     <li>\n                      <a href=\"/wiki/Music_of_Newport\" title=\"Music of Newport\">\n                       Newport\n                      </a>\n                     </li>\n                     <li>\n                      <a href=\"/wiki/Music_of_Northumbria\" title=\"Music of Northumbria\">\n                       Northumbria\n                      </a>\n                     </li>\n                     <li>\n                      <a href=\"/wiki/Music_of_Somerset\" title=\"Music of Somerset\">\n                       Somerset\n                      </a>\n                     </li>\n                     <li>\n                      <a href=\"/wiki/Music_of_Sussex\" title=\"Music of Sussex\">\n                       Sussex\n                      </a>\n                     </li>\n                     <li>\n                      <a href=\"/wiki/Culture_of_Yorkshire#Music\" title=\"Culture of Yorkshire\">\n                       Yorkshire\n                      </a>\n                     </li>\n                    </ul>\n                   </div>\n                  </td>\n                 </tr>\n                 <tr>\n                  <th class=\"navbox-group\" scope=\"row\" style=\"width:1%\">\n                   Overseas\n                  </th>\n                  <td class=\"navbox-list-with-group navbox-list navbox-even\" style=\"width:100%;padding:0\">\n                   <div style=\"padding:0 0.25em\">\n                    <ul>\n                     <li>\n                      <a href=\"/wiki/Music_of_Anguilla\" title=\"Music of Anguilla\">\n                       Anguilla\n                      </a>\n                     </li>\n                     <li>\n                      <a href=\"/wiki/Music_of_Bermuda\" title=\"Music of Bermuda\">\n                       Bermuda\n                      </a>\n                     </li>\n                     <li>\n                      <a href=\"/wiki/Music_of_the_Cayman_Islands\" title=\"Music of the Cayman Islands\">\n                       Cayman Islands\n                      </a>\n                     </li>\n                     <li>\n                      <a href=\"/wiki/Music_of_Gibraltar\" title=\"Music of Gibraltar\">\n                       Gibraltar\n                      </a>\n                     </li>\n                     <li>\n                      <a href=\"/wiki/Music_of_Montserrat\" title=\"Music of Montserrat\">\n                       Montserrat\n                      </a>\n                     </li>\n                     <li>\n                      <a href=\"/wiki/Music_of_the_Turks_and_Caicos_Islands\" title=\"Music of the Turks and Caicos Islands\">\n                       Turks and Caicos\n                      </a>\n                     </li>\n                     <li>\n                      <a href=\"/wiki/Music_of_the_Virgin_Islands\" title=\"Music of the Virgin Islands\">\n                       Virgin Islands\n                      </a>\n                     </li>\n                    </ul>\n                   </div>\n                  </td>\n                 </tr>\n                </tbody>\n               </table>\n               <div>\n               </div>\n              </td>\n             </tr>\n            </tbody>\n           </table>\n          </div>\n          <!-- \nNewPP limit report\nParsed by mw2413\nCached time: 20230925132850\nCache expiry: 1814400\nReduced expiry: false\nComplications: [vary‐revision‐sha1, show‐toc]\nCPU time usage: 0.528 seconds\nReal time usage: 0.718 seconds\nPreprocessor visited node count: 4387/1000000\nPost‐expand include size: 74719/2097152 bytes\nTemplate argument size: 5511/2097152 bytes\nHighest expansion depth: 20/100\nExpensive parser function count: 8/500\nUnstrip recursion depth: 1/20\nUnstrip post‐expand size: 39734/5000000 bytes\nLua time usage: 0.216/10.000 seconds\nLua memory usage: 5829740/52428800 bytes\nNumber of Wikibase entities loaded: 0/400\n-->\n          <!--\nTransclusion expansion time report (%,ms,calls,template)\n100.00%  528.499      1 -total\n 25.69%  135.755      2 Template:Reflist\n 15.21%   80.392      1 Template:Cite_web\n 14.55%   76.882      1 Template:1990s_in_music_(UK)\n 14.32%   75.695      3 Template:Navbox\n 14.27%   75.391      1 Template:Decade_in_music_(UK)\n 13.91%   73.508      1 Template:Music_of_the_United_Kingdom\n 13.84%   73.149      1 Template:Sidebar\n 12.99%   68.635      6 Template:Efn\n  9.41%   49.750      1 Template:Short_description\n-->\n          <!-- Saved in parser cache with key enwiki:pcache:idhash:59566528-0!canonical and timestamp 20230925132849 and revision id 1174663037. Rendering was triggered because: page-view\n -->\n         </meta>\n        </div>\n        <!--esi <esi:include src=\"/esitest-fa8a495983347898/content\" /> -->\n        <noscript>\n         <img alt=\"\" height=\"1\" src=\"//en.wikipedia.org/wiki/Special:CentralAutoLogin/start?type=1x1\" style=\"border: none; position: absolute;\" title=\"\" width=\"1\"/>\n        </noscript>\n        <div class=\"printfooter\" data-nosnippet=\"\">\n         Retrieved from \"\n         <a dir=\"ltr\" href=\"https://en.wikipedia.org/w/index.php?title=1999_in_British_music_charts&amp;oldid=1174663037\">\n          https://en.wikipedia.org/w/index.php?title=1999_in_British_music_charts&amp;oldid=1174663037\n         </a>\n         \"\n        </div>\n       </div>\n       <div class=\"catlinks\" data-mw=\"interface\" id=\"catlinks\">\n        <div class=\"mw-normal-catlinks\" id=\"mw-normal-catlinks\">\n         <a href=\"/wiki/Help:Category\" title=\"Help:Category\">\n          Categories\n         </a>\n         :\n         <ul>\n          <li>\n           <a href=\"/wiki/Category:1999_in_British_music\" title=\"Category:1999 in British music\">\n            1999 in British music\n           </a>\n          </li>\n          <li>\n           <a href=\"/wiki/Category:1999_record_charts\" title=\"Category:1999 record charts\">\n            1999 record charts\n           </a>\n          </li>\n          <li>\n           <a href=\"/wiki/Category:British_record_charts\" title=\"Category:British record charts\">\n            British record charts\n           </a>\n          </li>\n         </ul>\n        </div>\n        <div class=\"mw-hidden-catlinks mw-hidden-cats-hidden\" id=\"mw-hidden-catlinks\">\n         Hidden categories:\n         <ul>\n          <li>\n           <a href=\"/wiki/Category:Webarchive_template_wayback_links\" title=\"Category:Webarchive template wayback links\">\n            Webarchive template wayback links\n           </a>\n          </li>\n          <li>\n           <a href=\"/wiki/Category:Articles_with_short_description\" title=\"Category:Articles with short description\">\n            Articles with short description\n           </a>\n          </li>\n          <li>\n           <a href=\"/wiki/Category:Short_description_is_different_from_Wikidata\" title=\"Category:Short description is different from Wikidata\">\n            Short description is different from Wikidata\n           </a>\n          </li>\n          <li>\n           <a href=\"/wiki/Category:Use_British_English_from_January_2019\" title=\"Category:Use British English from January 2019\">\n            Use British English from January 2019\n           </a>\n          </li>\n          <li>\n           <a href=\"/wiki/Category:Use_dmy_dates_from_March_2021\" title=\"Category:Use dmy dates from March 2021\">\n            Use dmy dates from March 2021\n           </a>\n          </li>\n          <li>\n           <a href=\"/wiki/Category:Articles_containing_potentially_dated_statements_from_April_2011\" title=\"Category:Articles containing potentially dated statements from April 2011\">\n            Articles containing potentially dated statements from April 2011\n           </a>\n          </li>\n          <li>\n           <a href=\"/wiki/Category:All_articles_containing_potentially_dated_statements\" title=\"Category:All articles containing potentially dated statements\">\n            All articles containing potentially dated statements\n           </a>\n          </li>\n          <li>\n           <a href=\"/wiki/Category:All_articles_with_unsourced_statements\" title=\"Category:All articles with unsourced statements\">\n            All articles with unsourced statements\n           </a>\n          </li>\n          <li>\n           <a href=\"/wiki/Category:Articles_with_unsourced_statements_from_March_2019\" title=\"Category:Articles with unsourced statements from March 2019\">\n            Articles with unsourced statements from March 2019\n           </a>\n          </li>\n          <li>\n           <a href=\"/wiki/Category:Articles_with_hCards\" title=\"Category:Articles with hCards\">\n            Articles with hCards\n           </a>\n          </li>\n         </ul>\n        </div>\n       </div>\n      </div>\n     </main>\n    </div>\n    <div class=\"mw-footer-container\">\n     <footer class=\"mw-footer\" id=\"footer\" role=\"contentinfo\">\n      <ul id=\"footer-info\">\n       <li id=\"footer-info-lastmod\">\n        This page was last edited on 9 September 2023, at 23:03\n        <span class=\"anonymous-show\">\n         (UTC)\n        </span>\n        .\n       </li>\n       <li id=\"footer-info-copyright\">\n        Text is available under the\n        <a href=\"//en.wikipedia.org/wiki/Wikipedia:Text_of_the_Creative_Commons_Attribution-ShareAlike_4.0_International_License\" rel=\"license\">\n         Creative Commons Attribution-ShareAlike License 4.0\n        </a>\n        <a href=\"//en.wikipedia.org/wiki/Wikipedia:Text_of_the_Creative_Commons_Attribution-ShareAlike_4.0_International_License\" rel=\"license\" style=\"display:none;\">\n        </a>\n        ;\nadditional terms may apply.  By using this site, you agree to the\n        <a href=\"//foundation.wikimedia.org/wiki/Terms_of_Use\">\n         Terms of Use\n        </a>\n        and\n        <a href=\"//foundation.wikimedia.org/wiki/Privacy_policy\">\n         Privacy Policy\n        </a>\n        . Wikipedia® is a registered trademark of the\n        <a href=\"//www.wikimediafoundation.org/\">\n         Wikimedia Foundation, Inc.\n        </a>\n        , a non-profit organization.\n       </li>\n      </ul>\n      <ul id=\"footer-places\">\n       <li id=\"footer-places-privacy\">\n        <a href=\"https://foundation.wikimedia.org/wiki/Special:MyLanguage/Policy:Privacy_policy\">\n         Privacy policy\n        </a>\n       </li>\n       <li id=\"footer-places-about\">\n        <a href=\"/wiki/Wikipedia:About\">\n         About Wikipedia\n        </a>\n       </li>\n       <li id=\"footer-places-disclaimers\">\n        <a href=\"/wiki/Wikipedia:General_disclaimer\">\n         Disclaimers\n        </a>\n       </li>\n       <li id=\"footer-places-contact\">\n        <a href=\"//en.wikipedia.org/wiki/Wikipedia:Contact_us\">\n         Contact Wikipedia\n        </a>\n       </li>\n       <li id=\"footer-places-wm-codeofconduct\">\n        <a href=\"https://foundation.wikimedia.org/wiki/Special:MyLanguage/Universal_Code_of_Conduct\">\n         Code of Conduct\n        </a>\n       </li>\n       <li id=\"footer-places-mobileview\">\n        <a class=\"noprint stopMobileRedirectToggle\" href=\"//en.m.wikipedia.org/w/index.php?title=1999_in_British_music_charts&amp;mobileaction=toggle_view_mobile\">\n         Mobile view\n        </a>\n       </li>\n       <li id=\"footer-places-developers\">\n        <a href=\"https://developer.wikimedia.org\">\n         Developers\n        </a>\n       </li>\n       <li id=\"footer-places-statslink\">\n        <a href=\"https://stats.wikimedia.org/#/en.wikipedia.org\">\n         Statistics\n        </a>\n       </li>\n       <li id=\"footer-places-cookiestatement\">\n        <a href=\"https://foundation.wikimedia.org/wiki/Special:MyLanguage/Policy:Cookie_statement\">\n         Cookie statement\n        </a>\n       </li>\n      </ul>\n      <ul class=\"noprint\" id=\"footer-icons\">\n       <li id=\"footer-copyrightico\">\n        <a href=\"https://wikimediafoundation.org/\">\n         <img alt=\"Wikimedia Foundation\" height=\"31\" loading=\"lazy\" src=\"/static/images/footer/wikimedia-button.png\" srcset=\"/static/images/footer/wikimedia-button-1.5x.png 1.5x, /static/images/footer/wikimedia-button-2x.png 2x\" width=\"88\"/>\n        </a>\n       </li>\n       <li id=\"footer-poweredbyico\">\n        <a href=\"https://www.mediawiki.org/\">\n         <img alt=\"Powered by MediaWiki\" height=\"31\" loading=\"lazy\" src=\"/static/images/footer/poweredby_mediawiki_88x31.png\" srcset=\"/static/images/footer/poweredby_mediawiki_132x47.png 1.5x, /static/images/footer/poweredby_mediawiki_176x62.png 2x\" width=\"88\"/>\n        </a>\n       </li>\n      </ul>\n     </footer>\n    </div>\n   </div>\n  </div>\n  <div class=\"vector-settings\" id=\"p-dock-bottom\">\n   <ul>\n    <li>\n     <button class=\"cdx-button cdx-button--icon-only vector-limited-width-toggle\" id=\"\">\n      <span class=\"vector-icon mw-ui-icon-fullScreen mw-ui-icon-wikimedia-fullScreen\">\n      </span>\n      <span>\n       Toggle limited content width\n      </span>\n     </button>\n    </li>\n   </ul>\n  </div>\n  <script>\n   (RLQ=window.RLQ||[]).push(function(){mw.config.set({\"wgHostname\":\"mw2389\",\"wgBackendResponseTime\":123,\"wgPageParseReport\":{\"limitreport\":{\"cputime\":\"0.528\",\"walltime\":\"0.718\",\"ppvisitednodes\":{\"value\":4387,\"limit\":1000000},\"postexpandincludesize\":{\"value\":74719,\"limit\":2097152},\"templateargumentsize\":{\"value\":5511,\"limit\":2097152},\"expansiondepth\":{\"value\":20,\"limit\":100},\"expensivefunctioncount\":{\"value\":8,\"limit\":500},\"unstrip-depth\":{\"value\":1,\"limit\":20},\"unstrip-size\":{\"value\":39734,\"limit\":5000000},\"entityaccesscount\":{\"value\":0,\"limit\":400},\"timingprofile\":[\"100.00%  528.499      1 -total\",\" 25.69%  135.755      2 Template:Reflist\",\" 15.21%   80.392      1 Template:Cite_web\",\" 14.55%   76.882      1 Template:1990s_in_music_(UK)\",\" 14.32%   75.695      3 Template:Navbox\",\" 14.27%   75.391      1 Template:Decade_in_music_(UK)\",\" 13.91%   73.508      1 Template:Music_of_the_United_Kingdom\",\" 13.84%   73.149      1 Template:Sidebar\",\" 12.99%   68.635      6 Template:Efn\",\"  9.41%   49.750      1 Template:Short_description\"]},\"scribunto\":{\"limitreport-timeusage\":{\"value\":\"0.216\",\"limit\":\"10.000\"},\"limitreport-memusage\":{\"value\":5829740,\"limit\":52428800}},\"cachereport\":{\"origin\":\"mw2413\",\"timestamp\":\"20230925132850\",\"ttl\":1814400,\"transientcontent\":false}}});});\n  </script>\n  <script type=\"application/ld+json\">\n   {\"@context\":\"https:\\/\\/schema.org\",\"@type\":\"Article\",\"name\":\"1999 in British music charts\",\"url\":\"https:\\/\\/en.wikipedia.org\\/wiki\\/1999_in_British_music_charts\",\"sameAs\":\"http:\\/\\/www.wikidata.org\\/entity\\/Q60542850\",\"mainEntity\":\"http:\\/\\/www.wikidata.org\\/entity\\/Q60542850\",\"author\":{\"@type\":\"Organization\",\"name\":\"Contributors to Wikimedia projects\"},\"publisher\":{\"@type\":\"Organization\",\"name\":\"Wikimedia Foundation, Inc.\",\"logo\":{\"@type\":\"ImageObject\",\"url\":\"https:\\/\\/www.wikimedia.org\\/static\\/images\\/wmf-hor-googpub.png\"}},\"datePublished\":\"2019-01-03T19:15:45Z\",\"dateModified\":\"2023-09-09T23:03:18Z\",\"headline\":\"he created Ahlul Bayt Islamic school around 2013\"}\n  </script>\n </body>\n</html>\n"
     ]
    }
   ],
   "source": [
    "# Print user-friendly code representing all the data from the Wikipedia page\n",
    "soup = BeautifulSoup(response.text)\n",
    "print(soup.prettify())"
   ]
  },
  {
   "cell_type": "markdown",
   "metadata": {
    "application/vnd.databricks.v1+cell": {
     "cellMetadata": {
      "byteLimit": 2048000,
      "rowLimit": 10000
     },
     "inputWidgets": {},
     "nuid": "c12f4213-021d-43cf-b3b8-fdfede691270",
     "showTitle": false,
     "title": ""
    }
   },
   "source": [
    "## 1. Extract the data\n",
    "\n",
    "In the original Wikipedia table, song/artist pairs that stayed at Number 1 for more than 1 week are listed once only, so we need to 'fill in the gaps' to ensure that the dataframe we want to create correctly labels a particular sales week with the right song/artist pair.  \n",
    "\n",
    "In the list created below, we can group items like so - all information relating to a particular week starts with an item containing the last date of the chart week, followed by the name of the song and its artist(s), and ends with an item containing the number of sales accumulated. \n",
    "\n",
    "So that we don't get ahead of ourselves, let's test our approach on a couple of examples within our list relating to songs that spent more than 1 week at Number 1."
   ]
  },
  {
   "cell_type": "code",
   "execution_count": 0,
   "metadata": {
    "application/vnd.databricks.v1+cell": {
     "cellMetadata": {
      "byteLimit": 2048000,
      "rowLimit": 10000
     },
     "inputWidgets": {},
     "nuid": "1d49cdb9-69d0-435a-8eb7-7ae3220174d2",
     "showTitle": false,
     "title": ""
    }
   },
   "outputs": [
    {
     "output_type": "stream",
     "name": "stdout",
     "output_type": "stream",
     "text": [
      "Out[5]: ['2 January',\n '\"Chocolate Salty Balls\"',\n 'Chef',\n '320,000\\n',\n '9 January',\n '\"Heartbeat\" / \"Tragedy\"',\n 'Steps',\n '98,000\\n',\n '16 January',\n '\"Praise You\"',\n 'Fatboy Slim',\n '80,913\\n',\n '23 January',\n '\"A Little Bit More\"',\n '911',\n '75,400\\n',\n '30 January',\n '\"Pretty Fly (for a White Guy)\"',\n 'The Offspring',\n '140,000\\n',\n '6 February',\n '\"You Don\\'t Know Me\"',\n 'Armand Van Helden featuring Duane Harden',\n '118,500\\n',\n '13 February',\n '\"Maria\"',\n 'Blondie',\n '128,000\\n',\n '20 February',\n '\"Fly Away\"',\n 'Lenny Kravitz',\n '123,000\\n',\n '27 February',\n '\"...Baby One More Time\"',\n 'Britney Spears',\n '463,722\\n',\n '6 March',\n '231,000\\n',\n '13 March',\n '\"When the Going Gets Tough\"',\n 'Boyzone',\n '213,000\\n',\n '20 March',\n '197,000\\n',\n '27 March',\n '\"Blame It on the Weatherman\"',\n 'B*Witched',\n '90,000\\n',\n '3 April',\n '\"Flat Beat\"',\n 'Mr. Oizo',\n '283,000\\n',\n '10 April',\n '184,000\\n',\n '17 April',\n '\"Perfect Moment\"',\n 'Martine McCutcheon',\n '200,000\\n',\n '24 April',\n '140,000\\n',\n '1 May',\n '\"Swear It Again\"',\n 'Westlife',\n '102,000\\n',\n '8 May',\n '80,000\\n',\n '15 May',\n '\"I Want It That Way\"',\n 'Backstreet Boys',\n '93,000\\n',\n '22 May',\n '\"You Needed Me\"',\n 'Boyzone',\n '142,901\\n',\n '29 May',\n '\"Sweet Like Chocolate\"',\n 'Shanks & Bigfoot',\n '251,000\\n',\n '5 June',\n '141,000\\n',\n '12 June',\n '\"Everybody\\'s Free (To Wear Sunscreen)\"',\n 'Baz Luhrmann',\n '206,000\\n',\n '19 June',\n '\"Bring It All Back\"',\n 'S Club 7',\n '190,000\\n',\n '26 June',\n '\"Boom Boom Boom Boom\"',\n 'Vengaboys',\n '134,279\\n',\n '3 July',\n '\"9pm (Till I Come)\"',\n 'ATB',\n '270,000\\n',\n '10 July',\n '108,000\\n',\n '17 July',\n '\"Livin\\' la Vida Loca\"',\n 'Ricky Martin',\n '131,000\\n',\n '24 July',\n '125,000\\n',\n '31 July',\n '96,600\\n',\n '7 August',\n '\"When You Say Nothing at All\"',\n 'Ronan Keating',\n '197,565\\n',\n '14 August',\n '100,000\\n',\n '21 August',\n '\"If I Let You Go\"',\n 'Westlife',\n '90,491\\n',\n '28 August',\n '\"Mi Chico Latino\"',\n 'Geri Halliwell',\n '132,000\\n',\n '4 September',\n '\"Mambo No. 5 (A Little Bit of...)\"',\n 'Lou Bega',\n '224,000\\n',\n '11 September',\n '175,000\\n',\n '18 September',\n '\"We\\'re Going to Ibiza\"',\n 'Vengaboys',\n '142,809\\n',\n '25 September',\n '\"Blue (Da Ba Dee)\"',\n 'Eiffel 65',\n '226,500\\n',\n '2 October',\n '164,500\\n',\n '9 October',\n '141,000\\n',\n '16 October',\n '\"Genie in a Bottle\"',\n 'Christina Aguilera',\n '172,600\\n',\n '23 October',\n '123,000\\n',\n '30 October',\n '\"Flying Without Wings\"',\n 'Westlife',\n '92,000\\n',\n '6 November',\n '\"Keep on Movin\\'\"',\n 'Five',\n '137,000\\n',\n '13 November',\n '\"Lift Me Up\"',\n 'Geri Halliwell',\n '139,000\\n',\n '20 November',\n '\"She\\'s the One\" / \"It\\'s Only Us\"',\n 'Robbie Williams',\n '120,000\\n',\n '27 November',\n '\"King of My Castle\"',\n 'Wamdue Project',\n '148,000\\n',\n '4 December',\n '\"The Millennium Prayer\"',\n 'Cliff Richard',\n '147,000\\n',\n '11 December',\n '158,000\\n',\n '18 December',\n '159,000\\n',\n '25 December',\n '\"I Have a Dream\" / \"Seasons in the Sun\"',\n 'Westlife',\n '213,000\\n']"
     ]
    }
   ],
   "source": [
    "# Create a list containing scraped data about each Number 1 song in 1999    \n",
    "data = [td.text for td in soup.find('table', class_='wikitable plainrowheaders').tbody.findAll('td')]\n",
    "data"
   ]
  },
  {
   "cell_type": "code",
   "execution_count": 0,
   "metadata": {
    "application/vnd.databricks.v1+cell": {
     "cellMetadata": {
      "byteLimit": 2048000,
      "rowLimit": 10000
     },
     "inputWidgets": {},
     "nuid": "6144e015-4d24-4ee6-b66e-e4e91e62e466",
     "showTitle": false,
     "title": ""
    }
   },
   "outputs": [
    {
     "output_type": "stream",
     "name": "stdout",
     "output_type": "stream",
     "text": [
      "Check the following item: 27 February\nCheck the following item: \"...Baby One More Time\"\nCheck the following item: Britney Spears\nCheck the following item: 463,722\n\nCheck the following item: 6 March\nCheck the following item: 231,000\n\nOut[6]: ['27 February',\n '\"...Baby One More Time\"',\n 'Britney Spears',\n '463,722\\n',\n '6 March',\n '\"...Baby One More Time\"',\n 'Britney Spears',\n '231,000\\n']"
     ]
    }
   ],
   "source": [
    "# \"...Baby One More Time\" by Britney Spears \n",
    "britney = ['27 February', \n",
    "           '\"...Baby One More Time\"', \n",
    "           'Britney Spears', \n",
    "           '463,722\\n', \n",
    "           '6 March', \n",
    "           '231,000\\n']\n",
    "\n",
    "# Any item relating to the chart week contains a month of the year\n",
    "# Any item relating to the number of sales that week contains the special character '\\n'\n",
    "# We can use this information to iterate through the following loop in order to fill in missing data\n",
    "\n",
    "months = ['January', \n",
    "          'February', \n",
    "          'March', \n",
    "          'April', \n",
    "          'May', \n",
    "          'June', \n",
    "          'July', \n",
    "          'August', \n",
    "          'September', \n",
    "          'October', \n",
    "          'November', \n",
    "          'December']\n",
    "\n",
    "# Iterate through the available indices of the list\n",
    "for i in range(len(britney)):\n",
    "    \n",
    "    # Print the current item of the list\n",
    "    print(f\"Check the following item: {britney[i]}\")\n",
    "    \n",
    "    # Check if the current item is the chart week (i.e. contains a month of the year)\n",
    "    for m in months:\n",
    "        # If so, assign a new variable to the given month and break the inner for loop\n",
    "        if m in britney[i]:\n",
    "            month = m\n",
    "            break\n",
    "            \n",
    "    # Move the outer for loop along to the next item if the current item is the chart week        \n",
    "    if month in britney[i]:\n",
    "        continue\n",
    "        \n",
    "    # Check if the current item is NOT the number of sales\n",
    "    if '\\n' not in britney[i]:\n",
    "        # If so and the next item also isn't the number of sales, \n",
    "        # prepare variables for the song and artist before continuing the loop to the next item\n",
    "        if '\\n' not in britney[i+1]:\n",
    "            song = britney[i]\n",
    "            artist = britney[i+1]\n",
    "            continue\n",
    "        # If so and the next item IS the number of sales, \n",
    "        # continue the loop to the next item without creating new variables\n",
    "        else:\n",
    "            continue       \n",
    "    else:\n",
    "        # If the current item IS the number of sales, \n",
    "        # and none of the previous 2 items relate to the chart week, continue the loop to the next item\n",
    "        if (month not in britney[i-1]) and (month not in britney[i-2]):\n",
    "            continue\n",
    "        # If at least one of the 2 previous items is the chart week, insert the song and artist names into the list\n",
    "        else:\n",
    "            britney.insert(i, song)\n",
    "            britney.insert(i+1, artist)\n",
    "            continue\n",
    "            \n",
    "britney           "
   ]
  },
  {
   "cell_type": "code",
   "execution_count": 0,
   "metadata": {
    "application/vnd.databricks.v1+cell": {
     "cellMetadata": {
      "byteLimit": 2048000,
      "rowLimit": 10000
     },
     "inputWidgets": {},
     "nuid": "016f4ae8-c8d4-4ad9-8bb2-a456e33a135e",
     "showTitle": false,
     "title": ""
    }
   },
   "outputs": [
    {
     "output_type": "stream",
     "name": "stdout",
     "output_type": "stream",
     "text": [
      "Check the following item: 17 July\n17 July\nCheck the following item: \"Livin' la Vida Loca\"\n\"Livin' la Vida Loca\"\nCheck the following item: Ricky Martin\nRicky Martin\nCheck the following item: 131,000\n\n131,000\n\nCheck the following item: 24 July\n24 July\nCheck the following item: 125,000\n\n\"Livin' la Vida Loca\"\nCheck the following item: Ricky Martin\nRicky Martin\nCheck the following item: 125,000\n\n125,000\n\nOut[7]: ['17 July',\n '\"Livin\\' la Vida Loca\"',\n 'Ricky Martin',\n '131,000\\n',\n '24 July',\n '\"Livin\\' la Vida Loca\"',\n 'Ricky Martin',\n '125,000\\n',\n '31 July',\n '96,600\\n']"
     ]
    }
   ],
   "source": [
    "# \"Livin' la Vida Loca\" by Ricky Martin \n",
    "ricky = ['17 July', \n",
    "         '\"Livin\\' la Vida Loca\"', \n",
    "         'Ricky Martin', \n",
    "         '131,000\\n', \n",
    "         '24 July', \n",
    "         '125,000\\n', \n",
    "         '31 July', \n",
    "         '96,600\\n']\n",
    "\n",
    "# Iterate through the available indices of the list\n",
    "for i in range(len(ricky)):\n",
    "    \n",
    "    # Print the current item of the list\n",
    "    print(f\"Check the following item: {ricky[i]}\")\n",
    "    \n",
    "    # Check if the current item is the chart week (i.e. contains a month of the year)\n",
    "    for m in months:\n",
    "        # If so, assign a new variable to the given month and break the inner for loop\n",
    "        if m in ricky[i]:\n",
    "            month = m\n",
    "            break\n",
    "            \n",
    "    # Move the outer for loop along to the next item if the current item is the chart week\n",
    "    if month in ricky[i]: \n",
    "        print(ricky[i])\n",
    "        continue\n",
    "        \n",
    "    # Check if the current element is NOT the number of sales\n",
    "    if '\\n' not in ricky[i]:\n",
    "        # If so and the next item also isn't the number of sales, \n",
    "        # prepare variables for the song and artist before continuing the loop to the next item\n",
    "        if '\\n' not in ricky[i+1]:\n",
    "            song = ricky[i]\n",
    "            artist = ricky[i+1]\n",
    "            print(ricky[i])\n",
    "            continue\n",
    "        # If so and the next item IS the number of sales, \n",
    "        # continue the loop to the next item without creating new variables\n",
    "        else:\n",
    "            print(ricky[i])\n",
    "            continue\n",
    "    else:\n",
    "        # If the current item IS the number of sales, \n",
    "        # and none of the previous 2 items relate to the chart week, continue the loop to the next item\n",
    "        if (month not in ricky[i-1]) and (month not in ricky[i-2]):\n",
    "            print(ricky[i])\n",
    "            continue\n",
    "        # If at least one of the 2 previous items is the chart week, insert the song and artist names into the list\n",
    "        else:\n",
    "            ricky.insert(i, song)\n",
    "            ricky.insert(i+1, artist)\n",
    "            print(ricky[i])\n",
    "            \n",
    "ricky"
   ]
  },
  {
   "cell_type": "markdown",
   "metadata": {
    "application/vnd.databricks.v1+cell": {
     "cellMetadata": {
      "byteLimit": 2048000,
      "rowLimit": 10000
     },
     "inputWidgets": {},
     "nuid": "13b2c450-6f1c-4cb7-bbff-a1e4fd78a530",
     "showTitle": false,
     "title": ""
    }
   },
   "source": [
    "We have a problem in the last example - \"Ricky Martin\" and \"Livin' La Vida Loca\" wasn't added to the list in relation to its last week at Number 1 (week ending 31st July). \n",
    "\n",
    "Why is this happening? Notice that the outer loop doesn't iterate through the original list but through its available indices. Since the loop aims to update the list, this method may not account for this or multiple occurences of the same item (for the case of the song and artist). \n",
    "\n",
    "Let's try again but this time iterate through the actual list of items instead. "
   ]
  },
  {
   "cell_type": "code",
   "execution_count": 0,
   "metadata": {
    "application/vnd.databricks.v1+cell": {
     "cellMetadata": {
      "byteLimit": 2048000,
      "rowLimit": 10000
     },
     "inputWidgets": {},
     "nuid": "150bff7b-11eb-44c1-b432-9b1eee9a0db7",
     "showTitle": false,
     "title": ""
    }
   },
   "outputs": [
    {
     "output_type": "stream",
     "name": "stdout",
     "output_type": "stream",
     "text": [
      "Check the following item: 17 July\nCheck the following item: \"Livin' la Vida Loca\"\nCheck the following item: Ricky Martin\nCheck the following item: 131,000\n\nCheck the following item: 24 July\nCheck the following item: 125,000\n\nCheck the following item: Ricky Martin\nCheck the following item: 125,000\n\nCheck the following item: 31 July\nCheck the following item: 96,600\n\nCheck the following item: Ricky Martin\nCheck the following item: 96,600\n\nOut[8]: ['17 July',\n '\"Livin\\' la Vida Loca\"',\n 'Ricky Martin',\n '131,000\\n',\n '24 July',\n '\"Livin\\' la Vida Loca\"',\n 'Ricky Martin',\n '125,000\\n',\n '31 July',\n '\"Livin\\' la Vida Loca\"',\n 'Ricky Martin',\n '96,600\\n']"
     ]
    }
   ],
   "source": [
    "ricky = ['17 July', '\"Livin\\' la Vida Loca\"', 'Ricky Martin', '131,000\\n', '24 July', '125,000\\n', '31 July', '96,600\\n']\n",
    "\n",
    "# Iterate through the actual items of the list\n",
    "for r in ricky:\n",
    "    \n",
    "    # Print out the current item in the list\n",
    "    print(f\"Check the following item: {r}\")\n",
    "    \n",
    "    # Find the index of the last occurence of the current item in the list\n",
    "    index = len(ricky) - [i for i in reversed(ricky)].index(r) - 1 \n",
    "    \n",
    "    # Check if the current item is the chart week \n",
    "    for m in months: # check if any of the months are contained within an element of the main list\n",
    "        if m in r:\n",
    "            month = m\n",
    "            break\n",
    "    if month in r: \n",
    "        continue\n",
    "    # Check if the current element is NOT the number of sales\n",
    "    if '\\n' not in r:\n",
    "        # If so and the next element also isn't the number of sales, \n",
    "        # prepare variables for the song and artist before continuing the loop to the next element\n",
    "        if '\\n' not in ricky[index + 1]:\n",
    "            song = r\n",
    "            artist = ricky[index + 1]\n",
    "            continue\n",
    "        # If so and the next element IS the number of sales, \n",
    "        # continue the loop to the next element without creating new variables\n",
    "        else:\n",
    "            continue\n",
    "    else:\n",
    "        # If the current element IS the number of sales, \n",
    "        # and none of the previous 2 elements relate to the chart week, continue the loop to the next element\n",
    "        if (month not in ricky[index - 1]) and (month not in ricky[index - 2]):\n",
    "            continue\n",
    "        # If at least one of the 2 previous elements is the chart week, insert the song and artist names into the list\n",
    "        else:\n",
    "            ricky.insert(index, song)\n",
    "            ricky.insert(index + 1, artist)\n",
    "            \n",
    "ricky"
   ]
  },
  {
   "cell_type": "markdown",
   "metadata": {
    "application/vnd.databricks.v1+cell": {
     "cellMetadata": {
      "byteLimit": 2048000,
      "rowLimit": 10000
     },
     "inputWidgets": {},
     "nuid": "e2b93f43-c2eb-496f-bc2b-cc1573596c32",
     "showTitle": false,
     "title": ""
    }
   },
   "source": [
    "Now that this new program works on these examples, let's apply it to the entire list of scraped data. If successful, the updated list should return 208 items - 4 items (chart week, song, artist(s), sales) for each week of the year."
   ]
  },
  {
   "cell_type": "code",
   "execution_count": 0,
   "metadata": {
    "application/vnd.databricks.v1+cell": {
     "cellMetadata": {
      "byteLimit": 2048000,
      "rowLimit": 10000
     },
     "inputWidgets": {},
     "nuid": "a49e585d-48e2-4578-9834-69d85ac8be57",
     "showTitle": false,
     "title": ""
    }
   },
   "outputs": [
    {
     "output_type": "stream",
     "name": "stdout",
     "output_type": "stream",
     "text": [
      "There are 206 items in the updated list\nOut[9]: ['2 January',\n '\"Chocolate Salty Balls\"',\n 'Chef',\n '320,000\\n',\n '9 January',\n '\"Heartbeat\" / \"Tragedy\"',\n 'Steps',\n '98,000\\n',\n '16 January',\n '\"Praise You\"',\n 'Fatboy Slim',\n '80,913\\n',\n '23 January',\n '\"A Little Bit More\"',\n '911',\n '75,400\\n',\n '30 January',\n '\"Pretty Fly (for a White Guy)\"',\n 'The Offspring',\n '140,000\\n',\n '6 February',\n '\"You Don\\'t Know Me\"',\n 'Armand Van Helden featuring Duane Harden',\n '118,500\\n',\n '13 February',\n '\"Maria\"',\n 'Blondie',\n '128,000\\n',\n '20 February',\n '\"Fly Away\"',\n 'Lenny Kravitz',\n '123,000\\n',\n '27 February',\n '\"...Baby One More Time\"',\n 'Britney Spears',\n '463,722\\n',\n '6 March',\n '\"...Baby One More Time\"',\n 'Britney Spears',\n '231,000\\n',\n '13 March',\n '\"When the Going Gets Tough\"',\n 'Boyzone',\n '213,000\\n',\n '20 March',\n '\"When the Going Gets Tough\"',\n 'Boyzone',\n '197,000\\n',\n '27 March',\n '\"Blame It on the Weatherman\"',\n 'B*Witched',\n '90,000\\n',\n '3 April',\n '\"Flat Beat\"',\n 'Mr. Oizo',\n '283,000\\n',\n '10 April',\n '\"Flat Beat\"',\n 'Mr. Oizo',\n '184,000\\n',\n '17 April',\n '\"Perfect Moment\"',\n 'Martine McCutcheon',\n '200,000\\n',\n '24 April',\n '\"Perfect Moment\"',\n 'Martine McCutcheon',\n '140,000\\n',\n '1 May',\n '\"Swear It Again\"',\n 'Westlife',\n '102,000\\n',\n '8 May',\n '\"Swear It Again\"',\n 'Westlife',\n '80,000\\n',\n '15 May',\n '\"I Want It That Way\"',\n 'Backstreet Boys',\n '93,000\\n',\n '22 May',\n '\"You Needed Me\"',\n 'Boyzone',\n '142,901\\n',\n '29 May',\n '\"Sweet Like Chocolate\"',\n 'Shanks & Bigfoot',\n '251,000\\n',\n '5 June',\n '141,000\\n',\n '12 June',\n '\"Everybody\\'s Free (To Wear Sunscreen)\"',\n 'Baz Luhrmann',\n '206,000\\n',\n '19 June',\n '\"Bring It All Back\"',\n 'S Club 7',\n '190,000\\n',\n '26 June',\n '\"Boom Boom Boom Boom\"',\n 'Vengaboys',\n '134,279\\n',\n '3 July',\n '\"9pm (Till I Come)\"',\n 'ATB',\n '270,000\\n',\n '10 July',\n '\"9pm (Till I Come)\"',\n 'ATB',\n '108,000\\n',\n '17 July',\n '\"Livin\\' la Vida Loca\"',\n 'Ricky Martin',\n '131,000\\n',\n '24 July',\n '\"Livin\\' la Vida Loca\"',\n 'Ricky Martin',\n '125,000\\n',\n '31 July',\n '\"Livin\\' la Vida Loca\"',\n 'Ricky Martin',\n '96,600\\n',\n '7 August',\n '\"When You Say Nothing at All\"',\n 'Ronan Keating',\n '197,565\\n',\n '14 August',\n '\"When You Say Nothing at All\"',\n 'Ronan Keating',\n '100,000\\n',\n '21 August',\n '\"If I Let You Go\"',\n 'Westlife',\n '90,491\\n',\n '28 August',\n '\"Mi Chico Latino\"',\n 'Geri Halliwell',\n '132,000\\n',\n '4 September',\n '\"Mambo No. 5 (A Little Bit of...)\"',\n 'Lou Bega',\n '224,000\\n',\n '11 September',\n '\"Mambo No. 5 (A Little Bit of...)\"',\n 'Lou Bega',\n '175,000\\n',\n '18 September',\n '\"We\\'re Going to Ibiza\"',\n 'Vengaboys',\n '142,809\\n',\n '25 September',\n '\"Blue (Da Ba Dee)\"',\n 'Eiffel 65',\n '226,500\\n',\n '2 October',\n '\"Blue (Da Ba Dee)\"',\n 'Eiffel 65',\n '164,500\\n',\n '9 October',\n '\"Blue (Da Ba Dee)\"',\n 'Eiffel 65',\n '141,000\\n',\n '16 October',\n '\"Genie in a Bottle\"',\n 'Christina Aguilera',\n '172,600\\n',\n '23 October',\n '\"Genie in a Bottle\"',\n 'Christina Aguilera',\n '123,000\\n',\n '30 October',\n '\"Flying Without Wings\"',\n 'Westlife',\n '92,000\\n',\n '6 November',\n '\"Keep on Movin\\'\"',\n 'Five',\n '137,000\\n',\n '13 November',\n '\"Lift Me Up\"',\n 'Geri Halliwell',\n '139,000\\n',\n '20 November',\n '\"She\\'s the One\" / \"It\\'s Only Us\"',\n 'Robbie Williams',\n '120,000\\n',\n '27 November',\n '\"King of My Castle\"',\n 'Wamdue Project',\n '148,000\\n',\n '4 December',\n '\"The Millennium Prayer\"',\n 'Cliff Richard',\n '147,000\\n',\n '11 December',\n '\"The Millennium Prayer\"',\n 'Cliff Richard',\n '158,000\\n',\n '18 December',\n '\"The Millennium Prayer\"',\n 'Cliff Richard',\n '159,000\\n',\n '25 December',\n '\"I Have a Dream\" / \"Seasons in the Sun\"',\n 'Westlife',\n '213,000\\n']"
     ]
    }
   ],
   "source": [
    "data = [td.text for td in soup.find('table', class_='wikitable plainrowheaders').tbody.findAll('td')]\n",
    "months = ['January', \n",
    "          'February', \n",
    "          'March', \n",
    "          'April', \n",
    "          'May', \n",
    "          'June', \n",
    "          'July', \n",
    "          'August', \n",
    "          'September', \n",
    "          'October', \n",
    "          'November', \n",
    "          'December']\n",
    "\n",
    "for d in data:\n",
    "    index = len(data) - [i for i in reversed(data)].index(d) - 1\n",
    "    for m in months: \n",
    "        if m in d:\n",
    "            month = m\n",
    "            break\n",
    "    if month in d: \n",
    "        continue  \n",
    "    if '\\n' not in d:\n",
    "        if '\\n' not in data[index + 1]:\n",
    "            song = d\n",
    "            artist = data[index + 1]\n",
    "            continue\n",
    "        else:\n",
    "            continue\n",
    "    else:\n",
    "        if (month not in data[index - 1]) and (month not in data[index - 2]):\n",
    "            continue\n",
    "        else:\n",
    "            data.insert(index, song)\n",
    "            data.insert(index + 1, artist)\n",
    "            \n",
    "print(f\"There are {len(data)} items in the updated list\")            \n",
    "data"
   ]
  },
  {
   "cell_type": "markdown",
   "metadata": {
    "application/vnd.databricks.v1+cell": {
     "cellMetadata": {
      "byteLimit": 2048000,
      "rowLimit": 10000
     },
     "inputWidgets": {},
     "nuid": "12bf41c4-dda7-455b-8a7b-d5709c375825",
     "showTitle": false,
     "title": ""
    }
   },
   "source": [
    "Almost there but not quite right! The list returned 206 items, so we are missing 2 items.\n",
    "\n",
    "Upon further investigation, the issue relates to the song \"Sweet Like Chocolate\" by Shanks & Bigfoot. Let's take a closer a look to see what's going wrong."
   ]
  },
  {
   "cell_type": "code",
   "execution_count": 0,
   "metadata": {
    "application/vnd.databricks.v1+cell": {
     "cellMetadata": {
      "byteLimit": 2048000,
      "rowLimit": 10000
     },
     "inputWidgets": {},
     "nuid": "a54ddb96-0a6e-4149-a4cf-0da45ab56ed4",
     "showTitle": false,
     "title": ""
    }
   },
   "outputs": [
    {
     "output_type": "stream",
     "name": "stdout",
     "output_type": "stream",
     "text": [
      "Check the following item: 29 May\nCheck the following item: \"Sweet Like Chocolate\"\nCheck the following item: Shanks & Bigfoot\nCheck the following item: 251,000\n\nCheck the following item: 5 June\nCheck the following item: 141,000\n\nCheck the following item: Shanks & Bigfoot\nCheck the following item: 141,000\n\nOut[10]: ['29 May',\n '\"Sweet Like Chocolate\"',\n 'Shanks & Bigfoot',\n '251,000\\n',\n '5 June',\n '\"Sweet Like Chocolate\"',\n 'Shanks & Bigfoot',\n '141,000\\n']"
     ]
    }
   ],
   "source": [
    "shanks = ['29 May',\n",
    " '\"Sweet Like Chocolate\"',\n",
    " 'Shanks & Bigfoot',\n",
    " '251,000\\n',\n",
    " '5 June',\n",
    " '141,000\\n']\n",
    "\n",
    "for d in shanks:\n",
    "    print(f\"Check the following item: {d}\")\n",
    "    index = len(shanks) - [i for i in reversed(shanks)].index(d) - 1\n",
    "    for m in months:\n",
    "        if m in d:\n",
    "            month = m\n",
    "            break\n",
    "    if month in d: \n",
    "        continue\n",
    "    if '\\n' not in d:\n",
    "        if '\\n' not in shanks[index + 1]:\n",
    "            song = d\n",
    "            artist = shanks[index + 1]\n",
    "            continue\n",
    "        else:\n",
    "            continue\n",
    "    else:\n",
    "        if (month not in shanks[index - 1]) and (month not in shanks[index - 2]):\n",
    "            continue\n",
    "        else:\n",
    "            shanks.insert(index, song)\n",
    "            shanks.insert(index + 1, artist)\n",
    "            \n",
    "shanks"
   ]
  },
  {
   "cell_type": "markdown",
   "metadata": {
    "application/vnd.databricks.v1+cell": {
     "cellMetadata": {
      "byteLimit": 2048000,
      "rowLimit": 10000
     },
     "inputWidgets": {},
     "nuid": "311ec379-9b06-4511-80d3-97dfd1d14977",
     "showTitle": false,
     "title": ""
    }
   },
   "source": [
    "One solution is to insert the correct missing data into the list. Note that this only works for this specific case - a more general solution would have to be applied in case we wanted to scrape data from similar Wikipedia tables and came across similar issues. Once a more general solution is found, this notebook will be updated. "
   ]
  },
  {
   "cell_type": "code",
   "execution_count": 0,
   "metadata": {
    "application/vnd.databricks.v1+cell": {
     "cellMetadata": {
      "byteLimit": 2048000,
      "rowLimit": 10000
     },
     "inputWidgets": {},
     "nuid": "aeabcc3b-4fef-438f-a331-3b66971ef226",
     "showTitle": false,
     "title": ""
    }
   },
   "outputs": [
    {
     "output_type": "stream",
     "name": "stdout",
     "output_type": "stream",
     "text": [
      "There are 208 items in the updated list\nOut[11]: ['2 January',\n '\"Chocolate Salty Balls\"',\n 'Chef',\n '320,000\\n',\n '9 January',\n '\"Heartbeat\" / \"Tragedy\"',\n 'Steps',\n '98,000\\n',\n '16 January',\n '\"Praise You\"',\n 'Fatboy Slim',\n '80,913\\n',\n '23 January',\n '\"A Little Bit More\"',\n '911',\n '75,400\\n',\n '30 January',\n '\"Pretty Fly (for a White Guy)\"',\n 'The Offspring',\n '140,000\\n',\n '6 February',\n '\"You Don\\'t Know Me\"',\n 'Armand Van Helden featuring Duane Harden',\n '118,500\\n',\n '13 February',\n '\"Maria\"',\n 'Blondie',\n '128,000\\n',\n '20 February',\n '\"Fly Away\"',\n 'Lenny Kravitz',\n '123,000\\n',\n '27 February',\n '\"...Baby One More Time\"',\n 'Britney Spears',\n '463,722\\n',\n '6 March',\n '\"...Baby One More Time\"',\n 'Britney Spears',\n '231,000\\n',\n '13 March',\n '\"When the Going Gets Tough\"',\n 'Boyzone',\n '213,000\\n',\n '20 March',\n '\"When the Going Gets Tough\"',\n 'Boyzone',\n '197,000\\n',\n '27 March',\n '\"Blame It on the Weatherman\"',\n 'B*Witched',\n '90,000\\n',\n '3 April',\n '\"Flat Beat\"',\n 'Mr. Oizo',\n '283,000\\n',\n '10 April',\n '\"Flat Beat\"',\n 'Mr. Oizo',\n '184,000\\n',\n '17 April',\n '\"Perfect Moment\"',\n 'Martine McCutcheon',\n '200,000\\n',\n '24 April',\n '\"Perfect Moment\"',\n 'Martine McCutcheon',\n '140,000\\n',\n '1 May',\n '\"Swear It Again\"',\n 'Westlife',\n '102,000\\n',\n '8 May',\n '\"Swear It Again\"',\n 'Westlife',\n '80,000\\n',\n '15 May',\n '\"I Want It That Way\"',\n 'Backstreet Boys',\n '93,000\\n',\n '22 May',\n '\"You Needed Me\"',\n 'Boyzone',\n '142,901\\n',\n '29 May',\n '\"Sweet Like Chocolate\"',\n 'Shanks & Bigfoot',\n '251,000\\n',\n '5 June',\n 'Sweet Like Chocolate',\n 'Shanks & Bigfoot',\n '141,000\\n',\n '12 June',\n '\"Everybody\\'s Free (To Wear Sunscreen)\"',\n 'Baz Luhrmann',\n '206,000\\n',\n '19 June',\n '\"Bring It All Back\"',\n 'S Club 7',\n '190,000\\n',\n '26 June',\n '\"Boom Boom Boom Boom\"',\n 'Vengaboys',\n '134,279\\n',\n '3 July',\n '\"9pm (Till I Come)\"',\n 'ATB',\n '270,000\\n',\n '10 July',\n '\"9pm (Till I Come)\"',\n 'ATB',\n '108,000\\n',\n '17 July',\n '\"Livin\\' la Vida Loca\"',\n 'Ricky Martin',\n '131,000\\n',\n '24 July',\n '\"Livin\\' la Vida Loca\"',\n 'Ricky Martin',\n '125,000\\n',\n '31 July',\n '\"Livin\\' la Vida Loca\"',\n 'Ricky Martin',\n '96,600\\n',\n '7 August',\n '\"When You Say Nothing at All\"',\n 'Ronan Keating',\n '197,565\\n',\n '14 August',\n '\"When You Say Nothing at All\"',\n 'Ronan Keating',\n '100,000\\n',\n '21 August',\n '\"If I Let You Go\"',\n 'Westlife',\n '90,491\\n',\n '28 August',\n '\"Mi Chico Latino\"',\n 'Geri Halliwell',\n '132,000\\n',\n '4 September',\n '\"Mambo No. 5 (A Little Bit of...)\"',\n 'Lou Bega',\n '224,000\\n',\n '11 September',\n '\"Mambo No. 5 (A Little Bit of...)\"',\n 'Lou Bega',\n '175,000\\n',\n '18 September',\n '\"We\\'re Going to Ibiza\"',\n 'Vengaboys',\n '142,809\\n',\n '25 September',\n '\"Blue (Da Ba Dee)\"',\n 'Eiffel 65',\n '226,500\\n',\n '2 October',\n '\"Blue (Da Ba Dee)\"',\n 'Eiffel 65',\n '164,500\\n',\n '9 October',\n '\"Blue (Da Ba Dee)\"',\n 'Eiffel 65',\n '141,000\\n',\n '16 October',\n '\"Genie in a Bottle\"',\n 'Christina Aguilera',\n '172,600\\n',\n '23 October',\n '\"Genie in a Bottle\"',\n 'Christina Aguilera',\n '123,000\\n',\n '30 October',\n '\"Flying Without Wings\"',\n 'Westlife',\n '92,000\\n',\n '6 November',\n '\"Keep on Movin\\'\"',\n 'Five',\n '137,000\\n',\n '13 November',\n '\"Lift Me Up\"',\n 'Geri Halliwell',\n '139,000\\n',\n '20 November',\n '\"She\\'s the One\" / \"It\\'s Only Us\"',\n 'Robbie Williams',\n '120,000\\n',\n '27 November',\n '\"King of My Castle\"',\n 'Wamdue Project',\n '148,000\\n',\n '4 December',\n '\"The Millennium Prayer\"',\n 'Cliff Richard',\n '147,000\\n',\n '11 December',\n '\"The Millennium Prayer\"',\n 'Cliff Richard',\n '158,000\\n',\n '18 December',\n '\"The Millennium Prayer\"',\n 'Cliff Richard',\n '159,000\\n',\n '25 December',\n '\"I Have a Dream\" / \"Seasons in the Sun\"',\n 'Westlife',\n '213,000\\n']"
     ]
    }
   ],
   "source": [
    "# Find the index of '5 June' within the list of scraped data\n",
    "shanks_date = data.index(\"5 June\")\n",
    "\n",
    "# Insert 'Sweet Like Chocolate' and 'Shanks & Bigfoot' into the list to complete the dataset\n",
    "data.insert(shanks_date + 1, \"Shanks & Bigfoot\")\n",
    "data.insert(shanks_date + 1, \"Sweet Like Chocolate\")\n",
    "\n",
    "print(f\"There are {len(data)} items in the updated list\")            \n",
    "data"
   ]
  },
  {
   "cell_type": "markdown",
   "metadata": {
    "application/vnd.databricks.v1+cell": {
     "cellMetadata": {
      "byteLimit": 2048000,
      "rowLimit": 10000
     },
     "inputWidgets": {},
     "nuid": "843b6af3-3b22-414a-9cdb-88bbed07cd7b",
     "showTitle": false,
     "title": ""
    }
   },
   "source": [
    "Perfect! We now have our complete dataset to create the final dataframe."
   ]
  },
  {
   "cell_type": "code",
   "execution_count": 0,
   "metadata": {
    "application/vnd.databricks.v1+cell": {
     "cellMetadata": {
      "byteLimit": 2048000,
      "rowLimit": 10000
     },
     "inputWidgets": {},
     "nuid": "d5eccb45-f29e-4f73-8aaf-849621ee0a63",
     "showTitle": false,
     "title": ""
    }
   },
   "outputs": [
    {
     "output_type": "stream",
     "name": "stdout",
     "output_type": "stream",
     "text": [
      "Out[12]: [('2 January', 'Chocolate Salty Balls', 'Chef', '320000'),\n ('9 January', 'Heartbeat / Tragedy', 'Steps', '98000'),\n ('16 January', 'Praise You', 'Fatboy Slim', '80913'),\n ('23 January', 'A Little Bit More', '911', '75400'),\n ('30 January', 'Pretty Fly (for a White Guy)', 'The Offspring', '140000'),\n ('6 February',\n  \"You Don't Know Me\",\n  'Armand Van Helden featuring Duane Harden',\n  '118500'),\n ('13 February', 'Maria', 'Blondie', '128000'),\n ('20 February', 'Fly Away', 'Lenny Kravitz', '123000'),\n ('27 February', '...Baby One More Time', 'Britney Spears', '463722'),\n ('6 March', '...Baby One More Time', 'Britney Spears', '231000'),\n ('13 March', 'When the Going Gets Tough', 'Boyzone', '213000'),\n ('20 March', 'When the Going Gets Tough', 'Boyzone', '197000'),\n ('27 March', 'Blame It on the Weatherman', 'B*Witched', '90000'),\n ('3 April', 'Flat Beat', 'Mr. Oizo', '283000'),\n ('10 April', 'Flat Beat', 'Mr. Oizo', '184000'),\n ('17 April', 'Perfect Moment', 'Martine McCutcheon', '200000'),\n ('24 April', 'Perfect Moment', 'Martine McCutcheon', '140000'),\n ('1 May', 'Swear It Again', 'Westlife', '102000'),\n ('8 May', 'Swear It Again', 'Westlife', '80000'),\n ('15 May', 'I Want It That Way', 'Backstreet Boys', '93000'),\n ('22 May', 'You Needed Me', 'Boyzone', '142901'),\n ('29 May', 'Sweet Like Chocolate', 'Shanks & Bigfoot', '251000'),\n ('5 June', 'Sweet Like Chocolate', 'Shanks & Bigfoot', '141000'),\n ('12 June', \"Everybody's Free (To Wear Sunscreen)\", 'Baz Luhrmann', '206000'),\n ('19 June', 'Bring It All Back', 'S Club 7', '190000'),\n ('26 June', 'Boom Boom Boom Boom', 'Vengaboys', '134279'),\n ('3 July', '9pm (Till I Come)', 'ATB', '270000'),\n ('10 July', '9pm (Till I Come)', 'ATB', '108000'),\n ('17 July', \"Livin' la Vida Loca\", 'Ricky Martin', '131000'),\n ('24 July', \"Livin' la Vida Loca\", 'Ricky Martin', '125000'),\n ('31 July', \"Livin' la Vida Loca\", 'Ricky Martin', '96600'),\n ('7 August', 'When You Say Nothing at All', 'Ronan Keating', '197565'),\n ('14 August', 'When You Say Nothing at All', 'Ronan Keating', '100000'),\n ('21 August', 'If I Let You Go', 'Westlife', '90491'),\n ('28 August', 'Mi Chico Latino', 'Geri Halliwell', '132000'),\n ('4 September', 'Mambo No. 5 (A Little Bit of...)', 'Lou Bega', '224000'),\n ('11 September', 'Mambo No. 5 (A Little Bit of...)', 'Lou Bega', '175000'),\n ('18 September', \"We're Going to Ibiza\", 'Vengaboys', '142809'),\n ('25 September', 'Blue (Da Ba Dee)', 'Eiffel 65', '226500'),\n ('2 October', 'Blue (Da Ba Dee)', 'Eiffel 65', '164500'),\n ('9 October', 'Blue (Da Ba Dee)', 'Eiffel 65', '141000'),\n ('16 October', 'Genie in a Bottle', 'Christina Aguilera', '172600'),\n ('23 October', 'Genie in a Bottle', 'Christina Aguilera', '123000'),\n ('30 October', 'Flying Without Wings', 'Westlife', '92000'),\n ('6 November', \"Keep on Movin'\", 'Five', '137000'),\n ('13 November', 'Lift Me Up', 'Geri Halliwell', '139000'),\n ('20 November', \"She's the One / It's Only Us\", 'Robbie Williams', '120000'),\n ('27 November', 'King of My Castle', 'Wamdue Project', '148000'),\n ('4 December', 'The Millennium Prayer', 'Cliff Richard', '147000'),\n ('11 December', 'The Millennium Prayer', 'Cliff Richard', '158000'),\n ('18 December', 'The Millennium Prayer', 'Cliff Richard', '159000'),\n ('25 December', 'I Have a Dream / Seasons in the Sun', 'Westlife', '213000')]"
     ]
    }
   ],
   "source": [
    "# Remove special characters from Sales data so that they only include digits\n",
    "for i in range(3,208,4):\n",
    "    data[i] = data[i].strip(\"\\n\").replace(\",\", \"\")\n",
    "\n",
    "# Remove extra quotation marks from Song data\n",
    "for i in range(1,206,4):\n",
    "    data[i] = data[i].replace('\"', \"\")\n",
    "\n",
    "# Convert the extracted data into a list of tuples, each representing the rows that will form the subsequent dataframe\n",
    "it = iter(data)\n",
    "rows = list(zip(it, it, it, it))\n",
    "rows"
   ]
  },
  {
   "cell_type": "code",
   "execution_count": 0,
   "metadata": {
    "application/vnd.databricks.v1+cell": {
     "cellMetadata": {
      "byteLimit": 2048000,
      "rowLimit": 10000
     },
     "inputWidgets": {},
     "nuid": "b1552c10-562b-445b-b385-59557d379d1c",
     "showTitle": false,
     "title": ""
    }
   },
   "outputs": [
    {
     "output_type": "display_data",
     "data": {
      "text/html": [
       "<style scoped>\n",
       "  .table-result-container {\n",
       "    max-height: 300px;\n",
       "    overflow: auto;\n",
       "  }\n",
       "  table, th, td {\n",
       "    border: 1px solid black;\n",
       "    border-collapse: collapse;\n",
       "  }\n",
       "  th, td {\n",
       "    padding: 5px;\n",
       "  }\n",
       "  th {\n",
       "    text-align: left;\n",
       "  }\n",
       "</style><div class='table-result-container'><table class='table-result'><thead style='background-color: white'><tr><th>ChartDate_WeekEnding</th><th>Song</th><th>Artists</th><th>Sales</th></tr></thead><tbody><tr><td>2 January</td><td>Chocolate Salty Balls</td><td>Chef</td><td>320000</td></tr><tr><td>9 January</td><td>Heartbeat / Tragedy</td><td>Steps</td><td>98000</td></tr><tr><td>16 January</td><td>Praise You</td><td>Fatboy Slim</td><td>80913</td></tr><tr><td>23 January</td><td>A Little Bit More</td><td>911</td><td>75400</td></tr><tr><td>30 January</td><td>Pretty Fly (for a White Guy)</td><td>The Offspring</td><td>140000</td></tr><tr><td>6 February</td><td>You Don't Know Me</td><td>Armand Van Helden featuring Duane Harden</td><td>118500</td></tr><tr><td>13 February</td><td>Maria</td><td>Blondie</td><td>128000</td></tr><tr><td>20 February</td><td>Fly Away</td><td>Lenny Kravitz</td><td>123000</td></tr><tr><td>27 February</td><td>...Baby One More Time</td><td>Britney Spears</td><td>463722</td></tr><tr><td>6 March</td><td>...Baby One More Time</td><td>Britney Spears</td><td>231000</td></tr><tr><td>13 March</td><td>When the Going Gets Tough</td><td>Boyzone</td><td>213000</td></tr><tr><td>20 March</td><td>When the Going Gets Tough</td><td>Boyzone</td><td>197000</td></tr><tr><td>27 March</td><td>Blame It on the Weatherman</td><td>B*Witched</td><td>90000</td></tr><tr><td>3 April</td><td>Flat Beat</td><td>Mr. Oizo</td><td>283000</td></tr><tr><td>10 April</td><td>Flat Beat</td><td>Mr. Oizo</td><td>184000</td></tr><tr><td>17 April</td><td>Perfect Moment</td><td>Martine McCutcheon</td><td>200000</td></tr><tr><td>24 April</td><td>Perfect Moment</td><td>Martine McCutcheon</td><td>140000</td></tr><tr><td>1 May</td><td>Swear It Again</td><td>Westlife</td><td>102000</td></tr><tr><td>8 May</td><td>Swear It Again</td><td>Westlife</td><td>80000</td></tr><tr><td>15 May</td><td>I Want It That Way</td><td>Backstreet Boys</td><td>93000</td></tr><tr><td>22 May</td><td>You Needed Me</td><td>Boyzone</td><td>142901</td></tr><tr><td>29 May</td><td>Sweet Like Chocolate</td><td>Shanks & Bigfoot</td><td>251000</td></tr><tr><td>5 June</td><td>Sweet Like Chocolate</td><td>Shanks & Bigfoot</td><td>141000</td></tr><tr><td>12 June</td><td>Everybody's Free (To Wear Sunscreen)</td><td>Baz Luhrmann</td><td>206000</td></tr><tr><td>19 June</td><td>Bring It All Back</td><td>S Club 7</td><td>190000</td></tr><tr><td>26 June</td><td>Boom Boom Boom Boom</td><td>Vengaboys</td><td>134279</td></tr><tr><td>3 July</td><td>9pm (Till I Come)</td><td>ATB</td><td>270000</td></tr><tr><td>10 July</td><td>9pm (Till I Come)</td><td>ATB</td><td>108000</td></tr><tr><td>17 July</td><td>Livin' la Vida Loca</td><td>Ricky Martin</td><td>131000</td></tr><tr><td>24 July</td><td>Livin' la Vida Loca</td><td>Ricky Martin</td><td>125000</td></tr><tr><td>31 July</td><td>Livin' la Vida Loca</td><td>Ricky Martin</td><td>96600</td></tr><tr><td>7 August</td><td>When You Say Nothing at All</td><td>Ronan Keating</td><td>197565</td></tr><tr><td>14 August</td><td>When You Say Nothing at All</td><td>Ronan Keating</td><td>100000</td></tr><tr><td>21 August</td><td>If I Let You Go</td><td>Westlife</td><td>90491</td></tr><tr><td>28 August</td><td>Mi Chico Latino</td><td>Geri Halliwell</td><td>132000</td></tr><tr><td>4 September</td><td>Mambo No. 5 (A Little Bit of...)</td><td>Lou Bega</td><td>224000</td></tr><tr><td>11 September</td><td>Mambo No. 5 (A Little Bit of...)</td><td>Lou Bega</td><td>175000</td></tr><tr><td>18 September</td><td>We're Going to Ibiza</td><td>Vengaboys</td><td>142809</td></tr><tr><td>25 September</td><td>Blue (Da Ba Dee)</td><td>Eiffel 65</td><td>226500</td></tr><tr><td>2 October</td><td>Blue (Da Ba Dee)</td><td>Eiffel 65</td><td>164500</td></tr><tr><td>9 October</td><td>Blue (Da Ba Dee)</td><td>Eiffel 65</td><td>141000</td></tr><tr><td>16 October</td><td>Genie in a Bottle</td><td>Christina Aguilera</td><td>172600</td></tr><tr><td>23 October</td><td>Genie in a Bottle</td><td>Christina Aguilera</td><td>123000</td></tr><tr><td>30 October</td><td>Flying Without Wings</td><td>Westlife</td><td>92000</td></tr><tr><td>6 November</td><td>Keep on Movin'</td><td>Five</td><td>137000</td></tr><tr><td>13 November</td><td>Lift Me Up</td><td>Geri Halliwell</td><td>139000</td></tr><tr><td>20 November</td><td>She's the One / It's Only Us</td><td>Robbie Williams</td><td>120000</td></tr><tr><td>27 November</td><td>King of My Castle</td><td>Wamdue Project</td><td>148000</td></tr><tr><td>4 December</td><td>The Millennium Prayer</td><td>Cliff Richard</td><td>147000</td></tr><tr><td>11 December</td><td>The Millennium Prayer</td><td>Cliff Richard</td><td>158000</td></tr><tr><td>18 December</td><td>The Millennium Prayer</td><td>Cliff Richard</td><td>159000</td></tr><tr><td>25 December</td><td>I Have a Dream / Seasons in the Sun</td><td>Westlife</td><td>213000</td></tr></tbody></table></div>"
      ]
     },
     "metadata": {
      "application/vnd.databricks.v1+output": {
       "addedWidgets": {},
       "aggData": [],
       "aggError": "",
       "aggOverflow": false,
       "aggSchema": [],
       "aggSeriesLimitReached": false,
       "aggType": "",
       "arguments": {},
       "columnCustomDisplayInfos": {},
       "data": [
        [
         "2 January",
         "Chocolate Salty Balls",
         "Chef",
         "320000"
        ],
        [
         "9 January",
         "Heartbeat / Tragedy",
         "Steps",
         "98000"
        ],
        [
         "16 January",
         "Praise You",
         "Fatboy Slim",
         "80913"
        ],
        [
         "23 January",
         "A Little Bit More",
         "911",
         "75400"
        ],
        [
         "30 January",
         "Pretty Fly (for a White Guy)",
         "The Offspring",
         "140000"
        ],
        [
         "6 February",
         "You Don't Know Me",
         "Armand Van Helden featuring Duane Harden",
         "118500"
        ],
        [
         "13 February",
         "Maria",
         "Blondie",
         "128000"
        ],
        [
         "20 February",
         "Fly Away",
         "Lenny Kravitz",
         "123000"
        ],
        [
         "27 February",
         "...Baby One More Time",
         "Britney Spears",
         "463722"
        ],
        [
         "6 March",
         "...Baby One More Time",
         "Britney Spears",
         "231000"
        ],
        [
         "13 March",
         "When the Going Gets Tough",
         "Boyzone",
         "213000"
        ],
        [
         "20 March",
         "When the Going Gets Tough",
         "Boyzone",
         "197000"
        ],
        [
         "27 March",
         "Blame It on the Weatherman",
         "B*Witched",
         "90000"
        ],
        [
         "3 April",
         "Flat Beat",
         "Mr. Oizo",
         "283000"
        ],
        [
         "10 April",
         "Flat Beat",
         "Mr. Oizo",
         "184000"
        ],
        [
         "17 April",
         "Perfect Moment",
         "Martine McCutcheon",
         "200000"
        ],
        [
         "24 April",
         "Perfect Moment",
         "Martine McCutcheon",
         "140000"
        ],
        [
         "1 May",
         "Swear It Again",
         "Westlife",
         "102000"
        ],
        [
         "8 May",
         "Swear It Again",
         "Westlife",
         "80000"
        ],
        [
         "15 May",
         "I Want It That Way",
         "Backstreet Boys",
         "93000"
        ],
        [
         "22 May",
         "You Needed Me",
         "Boyzone",
         "142901"
        ],
        [
         "29 May",
         "Sweet Like Chocolate",
         "Shanks & Bigfoot",
         "251000"
        ],
        [
         "5 June",
         "Sweet Like Chocolate",
         "Shanks & Bigfoot",
         "141000"
        ],
        [
         "12 June",
         "Everybody's Free (To Wear Sunscreen)",
         "Baz Luhrmann",
         "206000"
        ],
        [
         "19 June",
         "Bring It All Back",
         "S Club 7",
         "190000"
        ],
        [
         "26 June",
         "Boom Boom Boom Boom",
         "Vengaboys",
         "134279"
        ],
        [
         "3 July",
         "9pm (Till I Come)",
         "ATB",
         "270000"
        ],
        [
         "10 July",
         "9pm (Till I Come)",
         "ATB",
         "108000"
        ],
        [
         "17 July",
         "Livin' la Vida Loca",
         "Ricky Martin",
         "131000"
        ],
        [
         "24 July",
         "Livin' la Vida Loca",
         "Ricky Martin",
         "125000"
        ],
        [
         "31 July",
         "Livin' la Vida Loca",
         "Ricky Martin",
         "96600"
        ],
        [
         "7 August",
         "When You Say Nothing at All",
         "Ronan Keating",
         "197565"
        ],
        [
         "14 August",
         "When You Say Nothing at All",
         "Ronan Keating",
         "100000"
        ],
        [
         "21 August",
         "If I Let You Go",
         "Westlife",
         "90491"
        ],
        [
         "28 August",
         "Mi Chico Latino",
         "Geri Halliwell",
         "132000"
        ],
        [
         "4 September",
         "Mambo No. 5 (A Little Bit of...)",
         "Lou Bega",
         "224000"
        ],
        [
         "11 September",
         "Mambo No. 5 (A Little Bit of...)",
         "Lou Bega",
         "175000"
        ],
        [
         "18 September",
         "We're Going to Ibiza",
         "Vengaboys",
         "142809"
        ],
        [
         "25 September",
         "Blue (Da Ba Dee)",
         "Eiffel 65",
         "226500"
        ],
        [
         "2 October",
         "Blue (Da Ba Dee)",
         "Eiffel 65",
         "164500"
        ],
        [
         "9 October",
         "Blue (Da Ba Dee)",
         "Eiffel 65",
         "141000"
        ],
        [
         "16 October",
         "Genie in a Bottle",
         "Christina Aguilera",
         "172600"
        ],
        [
         "23 October",
         "Genie in a Bottle",
         "Christina Aguilera",
         "123000"
        ],
        [
         "30 October",
         "Flying Without Wings",
         "Westlife",
         "92000"
        ],
        [
         "6 November",
         "Keep on Movin'",
         "Five",
         "137000"
        ],
        [
         "13 November",
         "Lift Me Up",
         "Geri Halliwell",
         "139000"
        ],
        [
         "20 November",
         "She's the One / It's Only Us",
         "Robbie Williams",
         "120000"
        ],
        [
         "27 November",
         "King of My Castle",
         "Wamdue Project",
         "148000"
        ],
        [
         "4 December",
         "The Millennium Prayer",
         "Cliff Richard",
         "147000"
        ],
        [
         "11 December",
         "The Millennium Prayer",
         "Cliff Richard",
         "158000"
        ],
        [
         "18 December",
         "The Millennium Prayer",
         "Cliff Richard",
         "159000"
        ],
        [
         "25 December",
         "I Have a Dream / Seasons in the Sun",
         "Westlife",
         "213000"
        ]
       ],
       "datasetInfos": [],
       "dbfsResultPath": null,
       "isJsonSchema": true,
       "metadata": {},
       "overflow": false,
       "plotOptions": {
        "customPlotOptions": {},
        "displayType": "table",
        "pivotAggregation": null,
        "pivotColumns": null,
        "xColumns": null,
        "yColumns": null
       },
       "removedWidgets": [],
       "schema": [
        {
         "metadata": "{}",
         "name": "ChartDate_WeekEnding",
         "type": "\"string\""
        },
        {
         "metadata": "{}",
         "name": "Song",
         "type": "\"string\""
        },
        {
         "metadata": "{}",
         "name": "Artists",
         "type": "\"string\""
        },
        {
         "metadata": "{}",
         "name": "Sales",
         "type": "\"string\""
        }
       ],
       "type": "table"
      }
     },
     "output_type": "display_data"
    }
   ],
   "source": [
    "# Initialise Spark session to create Spark dataframe\n",
    "spark = SparkSession.builder.appName(\"Spark DataFrames\").getOrCreate()\n",
    "columns = [\"ChartDate_WeekEnding\", \"Song\", \"Artists\", \"Sales\"]\n",
    "df = spark.createDataFrame(data = rows, schema = columns)\n",
    "\n",
    "# Display dataframe\n",
    "display(df)"
   ]
  },
  {
   "cell_type": "markdown",
   "metadata": {
    "application/vnd.databricks.v1+cell": {
     "cellMetadata": {
      "byteLimit": 2048000,
      "rowLimit": 10000
     },
     "inputWidgets": {},
     "nuid": "01944bf9-89ff-478c-809c-028eaad6ebf4",
     "showTitle": false,
     "title": ""
    }
   },
   "source": [
    "## 2. Transform the data"
   ]
  },
  {
   "cell_type": "code",
   "execution_count": 0,
   "metadata": {
    "application/vnd.databricks.v1+cell": {
     "cellMetadata": {
      "byteLimit": 2048000,
      "rowLimit": 10000
     },
     "inputWidgets": {},
     "nuid": "cca34635-6a41-418b-be07-cb2d621d82ba",
     "showTitle": false,
     "title": ""
    }
   },
   "outputs": [
    {
     "output_type": "stream",
     "name": "stdout",
     "output_type": "stream",
     "text": [
      "root\n |-- ChartDate_WeekEnding: string (nullable = true)\n |-- Song: string (nullable = true)\n |-- Artists: string (nullable = true)\n |-- Sales: string (nullable = true)\n\n"
     ]
    }
   ],
   "source": [
    "# Check the data type for each column\n",
    "df.printSchema()"
   ]
  },
  {
   "cell_type": "markdown",
   "metadata": {
    "application/vnd.databricks.v1+cell": {
     "cellMetadata": {
      "byteLimit": 2048000,
      "rowLimit": 10000
     },
     "inputWidgets": {},
     "nuid": "0f83ea40-a135-4ba7-bac4-31fa694d0852",
     "showTitle": false,
     "title": ""
    }
   },
   "source": [
    "As we can see from the dataframe's schema, we need to transform some columns. The Sales column should contain integer values only, and the Chart Date column should contain dates only. "
   ]
  },
  {
   "cell_type": "code",
   "execution_count": 0,
   "metadata": {
    "application/vnd.databricks.v1+cell": {
     "cellMetadata": {
      "byteLimit": 2048000,
      "rowLimit": 10000
     },
     "inputWidgets": {},
     "nuid": "a8eccc25-0023-4488-8b57-fc175100712e",
     "showTitle": false,
     "title": ""
    }
   },
   "outputs": [
    {
     "output_type": "display_data",
     "data": {
      "text/html": [
       "<style scoped>\n",
       "  .table-result-container {\n",
       "    max-height: 300px;\n",
       "    overflow: auto;\n",
       "  }\n",
       "  table, th, td {\n",
       "    border: 1px solid black;\n",
       "    border-collapse: collapse;\n",
       "  }\n",
       "  th, td {\n",
       "    padding: 5px;\n",
       "  }\n",
       "  th {\n",
       "    text-align: left;\n",
       "  }\n",
       "</style><div class='table-result-container'><table class='table-result'><thead style='background-color: white'><tr><th>ChartDate_WeekEnding</th><th>Song</th><th>Artists</th><th>Sales</th></tr></thead><tbody><tr><td>1999-01-02</td><td>Chocolate Salty Balls</td><td>Chef</td><td>320000</td></tr><tr><td>1999-01-09</td><td>Heartbeat / Tragedy</td><td>Steps</td><td>98000</td></tr><tr><td>1999-01-16</td><td>Praise You</td><td>Fatboy Slim</td><td>80913</td></tr><tr><td>1999-01-23</td><td>A Little Bit More</td><td>911</td><td>75400</td></tr><tr><td>1999-01-30</td><td>Pretty Fly (for a White Guy)</td><td>The Offspring</td><td>140000</td></tr><tr><td>1999-02-06</td><td>You Don't Know Me</td><td>Armand Van Helden featuring Duane Harden</td><td>118500</td></tr><tr><td>1999-02-13</td><td>Maria</td><td>Blondie</td><td>128000</td></tr><tr><td>1999-02-20</td><td>Fly Away</td><td>Lenny Kravitz</td><td>123000</td></tr><tr><td>1999-02-27</td><td>...Baby One More Time</td><td>Britney Spears</td><td>463722</td></tr><tr><td>1999-03-06</td><td>...Baby One More Time</td><td>Britney Spears</td><td>231000</td></tr><tr><td>1999-03-13</td><td>When the Going Gets Tough</td><td>Boyzone</td><td>213000</td></tr><tr><td>1999-03-20</td><td>When the Going Gets Tough</td><td>Boyzone</td><td>197000</td></tr><tr><td>1999-03-27</td><td>Blame It on the Weatherman</td><td>B*Witched</td><td>90000</td></tr><tr><td>1999-04-03</td><td>Flat Beat</td><td>Mr. Oizo</td><td>283000</td></tr><tr><td>1999-04-10</td><td>Flat Beat</td><td>Mr. Oizo</td><td>184000</td></tr><tr><td>1999-04-17</td><td>Perfect Moment</td><td>Martine McCutcheon</td><td>200000</td></tr><tr><td>1999-04-24</td><td>Perfect Moment</td><td>Martine McCutcheon</td><td>140000</td></tr><tr><td>1999-05-01</td><td>Swear It Again</td><td>Westlife</td><td>102000</td></tr><tr><td>1999-05-08</td><td>Swear It Again</td><td>Westlife</td><td>80000</td></tr><tr><td>1999-05-15</td><td>I Want It That Way</td><td>Backstreet Boys</td><td>93000</td></tr><tr><td>1999-05-22</td><td>You Needed Me</td><td>Boyzone</td><td>142901</td></tr><tr><td>1999-05-29</td><td>Sweet Like Chocolate</td><td>Shanks & Bigfoot</td><td>251000</td></tr><tr><td>1999-06-05</td><td>Sweet Like Chocolate</td><td>Shanks & Bigfoot</td><td>141000</td></tr><tr><td>1999-06-12</td><td>Everybody's Free (To Wear Sunscreen)</td><td>Baz Luhrmann</td><td>206000</td></tr><tr><td>1999-06-19</td><td>Bring It All Back</td><td>S Club 7</td><td>190000</td></tr><tr><td>1999-06-26</td><td>Boom Boom Boom Boom</td><td>Vengaboys</td><td>134279</td></tr><tr><td>1999-07-03</td><td>9pm (Till I Come)</td><td>ATB</td><td>270000</td></tr><tr><td>1999-07-10</td><td>9pm (Till I Come)</td><td>ATB</td><td>108000</td></tr><tr><td>1999-07-17</td><td>Livin' la Vida Loca</td><td>Ricky Martin</td><td>131000</td></tr><tr><td>1999-07-24</td><td>Livin' la Vida Loca</td><td>Ricky Martin</td><td>125000</td></tr><tr><td>1999-07-31</td><td>Livin' la Vida Loca</td><td>Ricky Martin</td><td>96600</td></tr><tr><td>1999-08-07</td><td>When You Say Nothing at All</td><td>Ronan Keating</td><td>197565</td></tr><tr><td>1999-08-14</td><td>When You Say Nothing at All</td><td>Ronan Keating</td><td>100000</td></tr><tr><td>1999-08-21</td><td>If I Let You Go</td><td>Westlife</td><td>90491</td></tr><tr><td>1999-08-28</td><td>Mi Chico Latino</td><td>Geri Halliwell</td><td>132000</td></tr><tr><td>1999-09-04</td><td>Mambo No. 5 (A Little Bit of...)</td><td>Lou Bega</td><td>224000</td></tr><tr><td>1999-09-11</td><td>Mambo No. 5 (A Little Bit of...)</td><td>Lou Bega</td><td>175000</td></tr><tr><td>1999-09-18</td><td>We're Going to Ibiza</td><td>Vengaboys</td><td>142809</td></tr><tr><td>1999-09-25</td><td>Blue (Da Ba Dee)</td><td>Eiffel 65</td><td>226500</td></tr><tr><td>1999-10-02</td><td>Blue (Da Ba Dee)</td><td>Eiffel 65</td><td>164500</td></tr><tr><td>1999-10-09</td><td>Blue (Da Ba Dee)</td><td>Eiffel 65</td><td>141000</td></tr><tr><td>1999-10-16</td><td>Genie in a Bottle</td><td>Christina Aguilera</td><td>172600</td></tr><tr><td>1999-10-23</td><td>Genie in a Bottle</td><td>Christina Aguilera</td><td>123000</td></tr><tr><td>1999-10-30</td><td>Flying Without Wings</td><td>Westlife</td><td>92000</td></tr><tr><td>1999-11-06</td><td>Keep on Movin'</td><td>Five</td><td>137000</td></tr><tr><td>1999-11-13</td><td>Lift Me Up</td><td>Geri Halliwell</td><td>139000</td></tr><tr><td>1999-11-20</td><td>She's the One / It's Only Us</td><td>Robbie Williams</td><td>120000</td></tr><tr><td>1999-11-27</td><td>King of My Castle</td><td>Wamdue Project</td><td>148000</td></tr><tr><td>1999-12-04</td><td>The Millennium Prayer</td><td>Cliff Richard</td><td>147000</td></tr><tr><td>1999-12-11</td><td>The Millennium Prayer</td><td>Cliff Richard</td><td>158000</td></tr><tr><td>1999-12-18</td><td>The Millennium Prayer</td><td>Cliff Richard</td><td>159000</td></tr><tr><td>1999-12-25</td><td>I Have a Dream / Seasons in the Sun</td><td>Westlife</td><td>213000</td></tr></tbody></table></div>"
      ]
     },
     "metadata": {
      "application/vnd.databricks.v1+output": {
       "addedWidgets": {},
       "aggData": [],
       "aggError": "",
       "aggOverflow": false,
       "aggSchema": [],
       "aggSeriesLimitReached": false,
       "aggType": "",
       "arguments": {},
       "columnCustomDisplayInfos": {},
       "data": [
        [
         "1999-01-02",
         "Chocolate Salty Balls",
         "Chef",
         320000
        ],
        [
         "1999-01-09",
         "Heartbeat / Tragedy",
         "Steps",
         98000
        ],
        [
         "1999-01-16",
         "Praise You",
         "Fatboy Slim",
         80913
        ],
        [
         "1999-01-23",
         "A Little Bit More",
         "911",
         75400
        ],
        [
         "1999-01-30",
         "Pretty Fly (for a White Guy)",
         "The Offspring",
         140000
        ],
        [
         "1999-02-06",
         "You Don't Know Me",
         "Armand Van Helden featuring Duane Harden",
         118500
        ],
        [
         "1999-02-13",
         "Maria",
         "Blondie",
         128000
        ],
        [
         "1999-02-20",
         "Fly Away",
         "Lenny Kravitz",
         123000
        ],
        [
         "1999-02-27",
         "...Baby One More Time",
         "Britney Spears",
         463722
        ],
        [
         "1999-03-06",
         "...Baby One More Time",
         "Britney Spears",
         231000
        ],
        [
         "1999-03-13",
         "When the Going Gets Tough",
         "Boyzone",
         213000
        ],
        [
         "1999-03-20",
         "When the Going Gets Tough",
         "Boyzone",
         197000
        ],
        [
         "1999-03-27",
         "Blame It on the Weatherman",
         "B*Witched",
         90000
        ],
        [
         "1999-04-03",
         "Flat Beat",
         "Mr. Oizo",
         283000
        ],
        [
         "1999-04-10",
         "Flat Beat",
         "Mr. Oizo",
         184000
        ],
        [
         "1999-04-17",
         "Perfect Moment",
         "Martine McCutcheon",
         200000
        ],
        [
         "1999-04-24",
         "Perfect Moment",
         "Martine McCutcheon",
         140000
        ],
        [
         "1999-05-01",
         "Swear It Again",
         "Westlife",
         102000
        ],
        [
         "1999-05-08",
         "Swear It Again",
         "Westlife",
         80000
        ],
        [
         "1999-05-15",
         "I Want It That Way",
         "Backstreet Boys",
         93000
        ],
        [
         "1999-05-22",
         "You Needed Me",
         "Boyzone",
         142901
        ],
        [
         "1999-05-29",
         "Sweet Like Chocolate",
         "Shanks & Bigfoot",
         251000
        ],
        [
         "1999-06-05",
         "Sweet Like Chocolate",
         "Shanks & Bigfoot",
         141000
        ],
        [
         "1999-06-12",
         "Everybody's Free (To Wear Sunscreen)",
         "Baz Luhrmann",
         206000
        ],
        [
         "1999-06-19",
         "Bring It All Back",
         "S Club 7",
         190000
        ],
        [
         "1999-06-26",
         "Boom Boom Boom Boom",
         "Vengaboys",
         134279
        ],
        [
         "1999-07-03",
         "9pm (Till I Come)",
         "ATB",
         270000
        ],
        [
         "1999-07-10",
         "9pm (Till I Come)",
         "ATB",
         108000
        ],
        [
         "1999-07-17",
         "Livin' la Vida Loca",
         "Ricky Martin",
         131000
        ],
        [
         "1999-07-24",
         "Livin' la Vida Loca",
         "Ricky Martin",
         125000
        ],
        [
         "1999-07-31",
         "Livin' la Vida Loca",
         "Ricky Martin",
         96600
        ],
        [
         "1999-08-07",
         "When You Say Nothing at All",
         "Ronan Keating",
         197565
        ],
        [
         "1999-08-14",
         "When You Say Nothing at All",
         "Ronan Keating",
         100000
        ],
        [
         "1999-08-21",
         "If I Let You Go",
         "Westlife",
         90491
        ],
        [
         "1999-08-28",
         "Mi Chico Latino",
         "Geri Halliwell",
         132000
        ],
        [
         "1999-09-04",
         "Mambo No. 5 (A Little Bit of...)",
         "Lou Bega",
         224000
        ],
        [
         "1999-09-11",
         "Mambo No. 5 (A Little Bit of...)",
         "Lou Bega",
         175000
        ],
        [
         "1999-09-18",
         "We're Going to Ibiza",
         "Vengaboys",
         142809
        ],
        [
         "1999-09-25",
         "Blue (Da Ba Dee)",
         "Eiffel 65",
         226500
        ],
        [
         "1999-10-02",
         "Blue (Da Ba Dee)",
         "Eiffel 65",
         164500
        ],
        [
         "1999-10-09",
         "Blue (Da Ba Dee)",
         "Eiffel 65",
         141000
        ],
        [
         "1999-10-16",
         "Genie in a Bottle",
         "Christina Aguilera",
         172600
        ],
        [
         "1999-10-23",
         "Genie in a Bottle",
         "Christina Aguilera",
         123000
        ],
        [
         "1999-10-30",
         "Flying Without Wings",
         "Westlife",
         92000
        ],
        [
         "1999-11-06",
         "Keep on Movin'",
         "Five",
         137000
        ],
        [
         "1999-11-13",
         "Lift Me Up",
         "Geri Halliwell",
         139000
        ],
        [
         "1999-11-20",
         "She's the One / It's Only Us",
         "Robbie Williams",
         120000
        ],
        [
         "1999-11-27",
         "King of My Castle",
         "Wamdue Project",
         148000
        ],
        [
         "1999-12-04",
         "The Millennium Prayer",
         "Cliff Richard",
         147000
        ],
        [
         "1999-12-11",
         "The Millennium Prayer",
         "Cliff Richard",
         158000
        ],
        [
         "1999-12-18",
         "The Millennium Prayer",
         "Cliff Richard",
         159000
        ],
        [
         "1999-12-25",
         "I Have a Dream / Seasons in the Sun",
         "Westlife",
         213000
        ]
       ],
       "datasetInfos": [],
       "dbfsResultPath": null,
       "isJsonSchema": true,
       "metadata": {},
       "overflow": false,
       "plotOptions": {
        "customPlotOptions": {},
        "displayType": "table",
        "pivotAggregation": null,
        "pivotColumns": null,
        "xColumns": null,
        "yColumns": null
       },
       "removedWidgets": [],
       "schema": [
        {
         "metadata": "{}",
         "name": "ChartDate_WeekEnding",
         "type": "\"date\""
        },
        {
         "metadata": "{}",
         "name": "Song",
         "type": "\"string\""
        },
        {
         "metadata": "{}",
         "name": "Artists",
         "type": "\"string\""
        },
        {
         "metadata": "{}",
         "name": "Sales",
         "type": "\"integer\""
        }
       ],
       "type": "table"
      }
     },
     "output_type": "display_data"
    }
   ],
   "source": [
    "# Create a UDF (user-defined function) to transform data in the Chart Date column\n",
    "def make_date(date):\n",
    "\n",
    "    # Isolate the day from the date argument, ensuring that it always contains 2 digits\n",
    "    if len(date.split()[0]) == 1:\n",
    "        day = \"0\" + date.split()[0]\n",
    "    else:\n",
    "        day = date.split()[0]\n",
    "\n",
    "    # Create a dictionary linking months to their associated numbers\n",
    "    keys = ['January', \n",
    "          'February', \n",
    "          'March', \n",
    "          'April', \n",
    "          'May', \n",
    "          'June', \n",
    "          'July', \n",
    "          'August', \n",
    "          'September', \n",
    "          'October', \n",
    "          'November', \n",
    "          'December']\n",
    "    values = [\"01\",\"02\",\"03\",\"04\",\"05\",\"06\",\"07\",\"08\",\"09\",\"10\",\"11\",\"12\"]\n",
    "    month_dict = dict(map(lambda x,y: (x,y), keys,values))\n",
    "    \n",
    "    # Based on this dictionary, isolate the month from the date argument in numbered form  \n",
    "    for m in keys:\n",
    "        if m == date.split()[1]:\n",
    "            month = month_dict[m]\n",
    "\n",
    "    # Now convert the date string argument to a datetime.date() object in desired format\n",
    "    return datetime.strptime(\"1999\" + \"-\" + month + \"-\" + day,\"%Y-%m-%d\")\n",
    "\n",
    "# Finalise UDF, specifying the data type it should return\n",
    "makeDateUDF = udf(lambda x: make_date(x), DateType())\n",
    "\n",
    "# Now apply UDF to Chart Date column, and convert Sales column from strings to integers \n",
    "df = df.withColumn('ChartDate_WeekEnding', makeDateUDF(col('ChartDate_WeekEnding'))).withColumn('Sales', col('Sales').cast('integer'))\n",
    "\n",
    "# Finally, make sure the dataframe is sorted in chronological order before it gets loaded into the database later to avoid any potential discrepancies\n",
    "df = df.sort(df.ChartDate_WeekEnding.asc())\n",
    "\n",
    "# View transformed dataframe\n",
    "display(df)"
   ]
  },
  {
   "cell_type": "code",
   "execution_count": 0,
   "metadata": {
    "application/vnd.databricks.v1+cell": {
     "cellMetadata": {
      "byteLimit": 2048000,
      "rowLimit": 10000
     },
     "inputWidgets": {},
     "nuid": "a4cd25ed-a95f-4cc7-a168-026d50705824",
     "showTitle": false,
     "title": ""
    }
   },
   "outputs": [
    {
     "output_type": "stream",
     "name": "stdout",
     "output_type": "stream",
     "text": [
      "root\n |-- ChartDate_WeekEnding: date (nullable = true)\n |-- Song: string (nullable = true)\n |-- Artists: string (nullable = true)\n |-- Sales: integer (nullable = true)\n\n"
     ]
    }
   ],
   "source": [
    "# Check new dataframe schema for updated data types\n",
    "df.printSchema()"
   ]
  },
  {
   "cell_type": "markdown",
   "metadata": {
    "application/vnd.databricks.v1+cell": {
     "cellMetadata": {
      "byteLimit": 2048000,
      "rowLimit": 10000
     },
     "inputWidgets": {},
     "nuid": "8c00ce8a-fa0b-4b76-8975-73df6dd4e994",
     "showTitle": false,
     "title": ""
    }
   },
   "source": [
    "## 3. Create the database\n",
    "<br>\n",
    "<ol>\n",
    "  <li>Create a free-tier AWS account <a href='https://aws.amazon.com/free/'>here</a> if you don't already have one, and head to the RDS Management Console.</li>\n",
    "  <li>Go to <i>Parameter groups</i> and create a custom parameter group for the database group family <i>postgres15</i>.\n",
    "  <br>\n",
    "  Then modify the parameters below with the following values:\n",
    "    <ul>\n",
    "      <li><i>rds.force_ssl</i> = 0</li>\n",
    "      <li><i>rds.logical_replication</i>  = 1</li>\n",
    "      <li><i>wal_sender_timeout</i> = 0</li>\n",
    "      <li><i>max_worker_processes</i> = 12</li>\n",
    "      <li><i>max_logical_replication_workers</i> = 1</li>\n",
    "      <li><i>autovacuum_max_workers</i> = 3</li>\n",
    "      <li><i>max_parallel_workers</i> = 8</li>\n",
    "      <li><i>shared_preload_libraries</i> = pglogical</li>\n",
    "    </ul>\n",
    "  </li>\n",
    "  <li>Go to <i>Databases</i> and create a free-tier PostgreSQL database running on the engine version <i>PostgreSQL 15</i>, \n",
    "  <br>\n",
    "  following the instructions <a href='https://docs.aws.amazon.com/AmazonRDS/latest/UserGuide/CHAP_Tutorials.WebServerDB.CreateDBInstance.html'>here</a> except:\n",
    "  <ul>\n",
    "      <li>In the <i>Connectivity</i> section, select <i>Don’t connect to an EC2 compute resource</i>.</li>\n",
    "      <li>In the same section, ensure the default VPC, DB subnet group and VPC security group options are selected.</li>\n",
    "      <li>In the <i>Additional configuration</i> section, leave the initial database name blank - it defaults to <i>postgres</i>.</li>\n",
    "      <li>In the same section, select the DB parameter group you've just created.</li>\n",
    "    </ul>\n",
    "  <li>Once created, under the database's <i>Connectivity & security</i> go to <i>Security</i> and click the link under <i>VPC security groups.</i>\n",
    "  <br>\n",
    "  Go to <i>Inbound rules</i> and edit the security group's inbound rules so that they only include the follow\n",
    "    <ul>\n",
    "      <li><i>Type</i>: All traffic, <i>Source type</i>: Custom, <i>Source</i>: ::/0</li>\n",
    "      <li><i>Type</i>: All traffic, <i>Source type</i>: Custom, <i>Source</i>: 0.0.0.0/0</li>\n",
    "      <li><i>Type</i>: PostgreSQL, <i>Source type</i>: Custom, <i>Source</i>: ::/0</li>\n",
    "      <li><i>Type</i>: PostgreSQL, <i>Source type</i>: Custom, <i>Source</i>: 0.0.0.0/0</li>\n",
    "    </ul>\n",
    "  </li>\n",
    "  <li>Download and install PostgreSQL by following <a href='https://www.postgresqltutorial.com/postgresql-getting-started/install-postgresql/'>this guide</a>.</li>\n",
    "  <li>Download and set up the PostgreSQL driver <a href='https://jdbc.postgresql.org/documentation/setup/'>here</a>.</li>\n",
    "  <li>Open pgAdmin on your desktop and connect to the database just created by following <a href='https://www.postgresqltutorial.com/postgresql-getting-started/connect-to-postgresql-database/'>these instructions</a>, \n",
    "  <br>\n",
    "  using the database's endpoint (found in RDS) as the hostname and keeping <i>postgres</i> as the maintanence database.</li>\n",
    "</ol>"
   ]
  },
  {
   "cell_type": "markdown",
   "metadata": {
    "application/vnd.databricks.v1+cell": {
     "cellMetadata": {
      "byteLimit": 2048000,
      "rowLimit": 10000
     },
     "inputWidgets": {},
     "nuid": "48a24881-0bb7-4640-9b6d-946f349bbeb4",
     "showTitle": false,
     "title": ""
    }
   },
   "source": [
    "## 4. Load the data into the database"
   ]
  },
  {
   "cell_type": "code",
   "execution_count": 0,
   "metadata": {
    "application/vnd.databricks.v1+cell": {
     "cellMetadata": {
      "byteLimit": 2048000,
      "rowLimit": 10000
     },
     "inputWidgets": {},
     "nuid": "983bb32f-34a7-4b4a-8164-df17e625d11e",
     "showTitle": false,
     "title": ""
    }
   },
   "outputs": [],
   "source": [
    "# Prepare credentials to connect to the database and the table where the data will be stored\n",
    "driver = \"org.postgresql.Driver\"\n",
    "url = \"jdbc:postgresql://database-1.chadxmjk4y7a.eu-north-1.rds.amazonaws.com/\" #\"jdbc:postgresql://{insert database endpoint url}/\"\n",
    "table = \"mwag_pyspark.songsales\" #\"{choose schema name}.{choose table name}\"\n",
    "user = \"postgres\" #\"{insert database username}\"\n",
    "password = \"postgres123\" #\"{insert database password}\"\n",
    "\n",
    "# Write data to the database\n",
    "df.write.format(\"jdbc\").option(\"driver\", driver).option(\"url\", url).option(\"dbtable\", table).option(\"mode\", \"append\").option(\"user\",user).option(\"password\", password).save()"
   ]
  },
  {
   "cell_type": "markdown",
   "metadata": {
    "application/vnd.databricks.v1+cell": {
     "cellMetadata": {
      "byteLimit": 2048000,
      "rowLimit": 10000
     },
     "inputWidgets": {},
     "nuid": "8c73ec26-ac17-4596-813b-2dcba7c879c6",
     "showTitle": false,
     "title": ""
    }
   },
   "source": [
    "All done! Now that we've completed this ETL pipeline, we can move on to the next project where we will build a CDC pipeline to migrate the data from our PostgreSQL database to a new target MySQL database, and replicate any changes we've made to the source data in the target. Click <a href='#'>here</a> to get started."
   ]
  }
 ],
 "metadata": {
  "application/vnd.databricks.v1+notebook": {
   "dashboards": [],
   "language": "python",
   "notebookMetadata": {
    "pythonIndentUnit": 4
   },
   "notebookName": "ETL - UK Number 1 Songs of 1999",
   "widgets": {}
  }
 },
 "nbformat": 4,
 "nbformat_minor": 0
}
