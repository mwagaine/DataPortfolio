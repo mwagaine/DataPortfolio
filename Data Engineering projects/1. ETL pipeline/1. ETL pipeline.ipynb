{
 "cells": [
  {
   "cell_type": "markdown",
   "metadata": {
    "application/vnd.databricks.v1+cell": {
     "cellMetadata": {
      "byteLimit": 2048000,
      "rowLimit": 10000
     },
     "inputWidgets": {},
     "nuid": "c12f4213-021d-43cf-b3b8-fdfede691270",
     "showTitle": false,
     "title": ""
    }
   },
   "source": [
    "# ETL pipeline\n",
    "\n",
    "## 1. Extract the data\n",
    "\n",
    "In the <a href='https://en.wikipedia.org/wiki/1999_in_British_music_charts#Year-end_charts'>Wikitable</a> from which data will be extracted, song/artist pairs that stayed at Number 1 for more than 1 week are listed once only, so we need to 'fill in the gaps' to ensure that the dataframe we want to create correctly labels a particular sales week with the right song/artist pair."
   ]
  },
  {
   "cell_type": "code",
   "execution_count": 0,
   "metadata": {
    "application/vnd.databricks.v1+cell": {
     "cellMetadata": {
      "byteLimit": 2048000,
      "rowLimit": 10000
     },
     "inputWidgets": {},
     "nuid": "da505f23-fce1-42ea-bb88-f1a614a00840",
     "showTitle": false,
     "title": ""
    }
   },
   "outputs": [
    {
     "output_type": "display_data",
     "data": {
      "application/vnd.databricks.v1+bamboolib_hint": "{\"pd.DataFrames\": [], \"version\": \"0.0.1\"}",
      "text/plain": []
     },
     "metadata": {},
     "output_type": "display_data"
    }
   ],
   "source": [
    "# Import libraries \n",
    "from bs4 import BeautifulSoup\n",
    "import requests\n",
    "import time\n",
    "from datetime import datetime\n",
    "import pandas as pd\n",
    "\n",
    "from pyspark.sql import SparkSession\n",
    "from pyspark.sql.functions import col, udf\n",
    "from pyspark.sql.types import *"
   ]
  },
  {
   "cell_type": "code",
   "execution_count": 0,
   "metadata": {
    "application/vnd.databricks.v1+cell": {
     "cellMetadata": {
      "byteLimit": 2048000,
      "rowLimit": 10000
     },
     "inputWidgets": {},
     "nuid": "b1586ef3-2c20-4175-86ed-f592eb2a46c8",
     "showTitle": false,
     "title": ""
    }
   },
   "outputs": [
    {
     "output_type": "stream",
     "name": "stdout",
     "output_type": "stream",
     "text": [
      "Out[2]: 200"
     ]
    }
   ],
   "source": [
    "# Request permission from the Wikipedia page to fetch data\n",
    "url = \"https://en.wikipedia.org/wiki/1999_in_British_music_charts#Year-end_charts\"\n",
    "response = requests.get(url)\n",
    "\n",
    "# Verify that permission has been granted - the response code returned should be 200 if so\n",
    "response.status_code"
   ]
  },
  {
   "cell_type": "code",
   "execution_count": 0,
   "metadata": {
    "application/vnd.databricks.v1+cell": {
     "cellMetadata": {
      "byteLimit": 2048000,
      "rowLimit": 10000
     },
     "inputWidgets": {},
     "nuid": "1d49cdb9-69d0-435a-8eb7-7ae3220174d2",
     "showTitle": false,
     "title": ""
    }
   },
   "outputs": [
    {
     "output_type": "stream",
     "name": "stdout",
     "output_type": "stream",
     "text": [
      "Out[3]: ['2 January',\n '\"Chocolate Salty Balls\"',\n 'Chef',\n '320,000\\n',\n '9 January',\n '\"Heartbeat\" / \"Tragedy\"',\n 'Steps',\n '98,000\\n',\n '16 January',\n '\"Praise You\"',\n 'Fatboy Slim',\n '80,913\\n',\n '23 January',\n '\"A Little Bit More\"',\n '911',\n '75,400\\n',\n '30 January',\n '\"Pretty Fly (for a White Guy)\"',\n 'The Offspring',\n '140,000\\n',\n '6 February',\n '\"You Don\\'t Know Me\"',\n 'Armand Van Helden featuring Duane Harden',\n '118,500\\n',\n '13 February',\n '\"Maria\"',\n 'Blondie',\n '128,000\\n',\n '20 February',\n '\"Fly Away\"',\n 'Lenny Kravitz',\n '123,000\\n',\n '27 February',\n '\"...Baby One More Time\"',\n 'Britney Spears',\n '463,722\\n',\n '6 March',\n '231,000\\n',\n '13 March',\n '\"When the Going Gets Tough\"',\n 'Boyzone',\n '213,000\\n',\n '20 March',\n '197,000\\n',\n '27 March',\n '\"Blame It on the Weatherman\"',\n 'B*Witched',\n '90,000\\n',\n '3 April',\n '\"Flat Beat\"',\n 'Mr. Oizo',\n '283,000\\n',\n '10 April',\n '184,000\\n',\n '17 April',\n '\"Perfect Moment\"',\n 'Martine McCutcheon',\n '200,000\\n',\n '24 April',\n '140,000\\n',\n '1 May',\n '\"Swear It Again\"',\n 'Westlife',\n '102,000\\n',\n '8 May',\n '80,000\\n',\n '15 May',\n '\"I Want It That Way\"',\n 'Backstreet Boys',\n '93,000\\n',\n '22 May',\n '\"You Needed Me\"',\n 'Boyzone',\n '142,901\\n',\n '29 May',\n '\"Sweet Like Chocolate\"',\n 'Shanks & Bigfoot',\n '251,000\\n',\n '5 June',\n '141,000\\n',\n '12 June',\n '\"Everybody\\'s Free (To Wear Sunscreen)\"',\n 'Baz Luhrmann',\n '206,000\\n',\n '19 June',\n '\"Bring It All Back\"',\n 'S Club 7',\n '190,000\\n',\n '26 June',\n '\"Boom Boom Boom Boom\"',\n 'Vengaboys',\n '134,279\\n',\n '3 July',\n '\"9pm (Till I Come)\"',\n 'ATB',\n '270,000\\n',\n '10 July',\n '108,000\\n',\n '17 July',\n '\"Livin\\' la Vida Loca\"',\n 'Ricky Martin',\n '131,000\\n',\n '24 July',\n '125,000\\n',\n '31 July',\n '96,600\\n',\n '7 August',\n '\"When You Say Nothing at All\"',\n 'Ronan Keating',\n '197,565\\n',\n '14 August',\n '100,000\\n',\n '21 August',\n '\"If I Let You Go\"',\n 'Westlife',\n '90,491\\n',\n '28 August',\n '\"Mi Chico Latino\"',\n 'Geri Halliwell',\n '132,000\\n',\n '4 September',\n '\"Mambo No. 5 (A Little Bit of...)\"',\n 'Lou Bega',\n '224,000\\n',\n '11 September',\n '175,000\\n',\n '18 September',\n '\"We\\'re Going to Ibiza\"',\n 'Vengaboys',\n '142,809\\n',\n '25 September',\n '\"Blue (Da Ba Dee)\"',\n 'Eiffel 65',\n '226,500\\n',\n '2 October',\n '164,500\\n',\n '9 October',\n '141,000\\n',\n '16 October',\n '\"Genie in a Bottle\"',\n 'Christina Aguilera',\n '172,600\\n',\n '23 October',\n '123,000\\n',\n '30 October',\n '\"Flying Without Wings\"',\n 'Westlife',\n '92,000\\n',\n '6 November',\n '\"Keep on Movin\\'\"',\n 'Five',\n '137,000\\n',\n '13 November',\n '\"Lift Me Up\"',\n 'Geri Halliwell',\n '139,000\\n',\n '20 November',\n '\"She\\'s the One\" / \"It\\'s Only Us\"',\n 'Robbie Williams',\n '120,000\\n',\n '27 November',\n '\"King of My Castle\"',\n 'Wamdue Project',\n '148,000\\n',\n '4 December',\n '\"The Millennium Prayer\"',\n 'Cliff Richard',\n '147,000\\n',\n '11 December',\n '158,000\\n',\n '18 December',\n '159,000\\n',\n '25 December',\n '\"I Have a Dream\" / \"Seasons in the Sun\"',\n 'Westlife',\n '213,000\\n']"
     ]
    }
   ],
   "source": [
    "# Create a list containing scraped data about each Number 1 song in 1999    \n",
    "soup = BeautifulSoup(response.text)\n",
    "data = [td.text for td in soup.find('table', class_='wikitable plainrowheaders').tbody.findAll('td')]\n",
    "data"
   ]
  },
  {
   "cell_type": "markdown",
   "metadata": {
    "application/vnd.databricks.v1+cell": {
     "cellMetadata": {
      "byteLimit": 2048000,
      "rowLimit": 10000
     },
     "inputWidgets": {},
     "nuid": "31085956-d7de-4449-bccb-6ebb6ffe0aca",
     "showTitle": false,
     "title": ""
    }
   },
   "source": [
    "In the list created above, we can group items like so - all information relating to a particular week starts with an item containing the last date of the chart week, followed by the name of the song and its artist(s), and ends with an item containing the number of sales accumulated. \n",
    "\n",
    "So that we don't get ahead of ourselves, let's test our approach on a couple of examples within our list relating to songs that spent more than 1 week at Number 1."
   ]
  },
  {
   "cell_type": "code",
   "execution_count": 0,
   "metadata": {
    "application/vnd.databricks.v1+cell": {
     "cellMetadata": {
      "byteLimit": 2048000,
      "rowLimit": 10000
     },
     "inputWidgets": {},
     "nuid": "6144e015-4d24-4ee6-b66e-e4e91e62e466",
     "showTitle": false,
     "title": ""
    }
   },
   "outputs": [
    {
     "output_type": "stream",
     "name": "stdout",
     "output_type": "stream",
     "text": [
      "Check the following item: 27 February\nCheck the following item: \"...Baby One More Time\"\nCheck the following item: Britney Spears\nCheck the following item: 463,722\n\nCheck the following item: 6 March\nCheck the following item: 231,000\n\nOut[4]: ['27 February',\n '\"...Baby One More Time\"',\n 'Britney Spears',\n '463,722\\n',\n '6 March',\n '\"...Baby One More Time\"',\n 'Britney Spears',\n '231,000\\n']"
     ]
    }
   ],
   "source": [
    "# \"...Baby One More Time\" by Britney Spears \n",
    "britney = ['27 February', \n",
    "           '\"...Baby One More Time\"', \n",
    "           'Britney Spears', \n",
    "           '463,722\\n', \n",
    "           '6 March', \n",
    "           '231,000\\n']\n",
    "\n",
    "# Any item relating to the chart week contains a month of the year\n",
    "# Any item relating to the number of sales that week contains the special character '\\n'\n",
    "# We can use this information to iterate through the following loop in order to fill in missing data\n",
    "\n",
    "months = ['January', \n",
    "          'February', \n",
    "          'March', \n",
    "          'April', \n",
    "          'May', \n",
    "          'June', \n",
    "          'July', \n",
    "          'August', \n",
    "          'September', \n",
    "          'October', \n",
    "          'November', \n",
    "          'December']\n",
    "\n",
    "# Iterate through the available indices of the list\n",
    "for i in range(len(britney)):\n",
    "    \n",
    "    # Print the current item of the list\n",
    "    print(f\"Check the following item: {britney[i]}\")\n",
    "    \n",
    "    # Check if the current item is the chart week (i.e. contains a month of the year)\n",
    "    for m in months:\n",
    "        # If so, assign a new variable to the given month and break the inner for loop\n",
    "        if m in britney[i]:\n",
    "            month = m\n",
    "            break\n",
    "            \n",
    "    # Move the outer for loop along to the next item if the current item is the chart week        \n",
    "    if month in britney[i]:\n",
    "        continue\n",
    "        \n",
    "    # Check if the current item is NOT the number of sales\n",
    "    if '\\n' not in britney[i]:\n",
    "        # If so and the next item also isn't the number of sales, \n",
    "        # prepare variables for the song and artist before continuing the loop to the next item\n",
    "        if '\\n' not in britney[i+1]:\n",
    "            song = britney[i]\n",
    "            artist = britney[i+1]\n",
    "            continue\n",
    "        # If so and the next item IS the number of sales, \n",
    "        # continue the loop to the next item without creating new variables\n",
    "        else:\n",
    "            continue       \n",
    "    else:\n",
    "        # If the current item IS the number of sales, \n",
    "        # and none of the previous 2 items relate to the chart week, continue the loop to the next item\n",
    "        if (month not in britney[i-1]) and (month not in britney[i-2]):\n",
    "            continue\n",
    "        # If at least one of the 2 previous items is the chart week, \n",
    "        # insert the song and artist names into the list\n",
    "        else:\n",
    "            britney.insert(i, song)\n",
    "            britney.insert(i+1, artist)\n",
    "            continue\n",
    "            \n",
    "britney           "
   ]
  },
  {
   "cell_type": "code",
   "execution_count": 0,
   "metadata": {
    "application/vnd.databricks.v1+cell": {
     "cellMetadata": {
      "byteLimit": 2048000,
      "rowLimit": 10000
     },
     "inputWidgets": {},
     "nuid": "016f4ae8-c8d4-4ad9-8bb2-a456e33a135e",
     "showTitle": false,
     "title": ""
    }
   },
   "outputs": [
    {
     "output_type": "stream",
     "name": "stdout",
     "output_type": "stream",
     "text": [
      "Check the following item: 17 July\n17 July\nCheck the following item: \"Livin' la Vida Loca\"\n\"Livin' la Vida Loca\"\nCheck the following item: Ricky Martin\nRicky Martin\nCheck the following item: 131,000\n\n131,000\n\nCheck the following item: 24 July\n24 July\nCheck the following item: 125,000\n\n\"Livin' la Vida Loca\"\nCheck the following item: Ricky Martin\nRicky Martin\nCheck the following item: 125,000\n\n125,000\n\nOut[5]: ['17 July',\n '\"Livin\\' la Vida Loca\"',\n 'Ricky Martin',\n '131,000\\n',\n '24 July',\n '\"Livin\\' la Vida Loca\"',\n 'Ricky Martin',\n '125,000\\n',\n '31 July',\n '96,600\\n']"
     ]
    }
   ],
   "source": [
    "# \"Livin' la Vida Loca\" by Ricky Martin \n",
    "ricky = ['17 July', \n",
    "         '\"Livin\\' la Vida Loca\"', \n",
    "         'Ricky Martin', \n",
    "         '131,000\\n', \n",
    "         '24 July', \n",
    "         '125,000\\n', \n",
    "         '31 July', \n",
    "         '96,600\\n']\n",
    "\n",
    "# Iterate through the available indices of the list\n",
    "for i in range(len(ricky)):\n",
    "    \n",
    "    # Print the current item of the list\n",
    "    print(f\"Check the following item: {ricky[i]}\")\n",
    "    \n",
    "    # Check if the current item is the chart week (i.e. contains a month of the year)\n",
    "    for m in months:\n",
    "        # If so, assign a new variable to the given month and break the inner for loop\n",
    "        if m in ricky[i]:\n",
    "            month = m\n",
    "            break\n",
    "            \n",
    "    # Move the outer for loop along to the next item if the current item is the chart week\n",
    "    if month in ricky[i]: \n",
    "        print(ricky[i])\n",
    "        continue\n",
    "        \n",
    "    # Check if the current element is NOT the number of sales\n",
    "    if '\\n' not in ricky[i]:\n",
    "        # If so and the next item also isn't the number of sales, \n",
    "        # prepare variables for the song and artist before continuing the loop to the next item\n",
    "        if '\\n' not in ricky[i+1]:\n",
    "            song = ricky[i]\n",
    "            artist = ricky[i+1]\n",
    "            print(ricky[i])\n",
    "            continue\n",
    "        # If so and the next item IS the number of sales, \n",
    "        # continue the loop to the next item without creating new variables\n",
    "        else:\n",
    "            print(ricky[i])\n",
    "            continue\n",
    "    else:\n",
    "        # If the current item IS the number of sales, \n",
    "        # and none of the previous 2 items relate to the chart week, continue the loop to the next item\n",
    "        if (month not in ricky[i-1]) and (month not in ricky[i-2]):\n",
    "            print(ricky[i])\n",
    "            continue\n",
    "        # If at least one of the 2 previous items is the chart week, \n",
    "        # insert the song and artist names into the list\n",
    "        else:\n",
    "            ricky.insert(i, song)\n",
    "            ricky.insert(i+1, artist)\n",
    "            print(ricky[i])\n",
    "            \n",
    "ricky"
   ]
  },
  {
   "cell_type": "markdown",
   "metadata": {
    "application/vnd.databricks.v1+cell": {
     "cellMetadata": {
      "byteLimit": 2048000,
      "rowLimit": 10000
     },
     "inputWidgets": {},
     "nuid": "13b2c450-6f1c-4cb7-bbff-a1e4fd78a530",
     "showTitle": false,
     "title": ""
    }
   },
   "source": [
    "We have a problem in the last example - \"Ricky Martin\" and \"Livin' La Vida Loca\" wasn't added to the list in relation to its last week at Number 1 (week ending 31st July). \n",
    "\n",
    "Why is this happening? Notice that the outer loop doesn't iterate through the original list but through its available indices. Since the loop aims to update the list, this method may not account for this or multiple occurences of the same item (for the case of the song and artist). \n",
    "\n",
    "Let's try again but this time iterate through the actual list of items instead. "
   ]
  },
  {
   "cell_type": "code",
   "execution_count": 0,
   "metadata": {
    "application/vnd.databricks.v1+cell": {
     "cellMetadata": {
      "byteLimit": 2048000,
      "rowLimit": 10000
     },
     "inputWidgets": {},
     "nuid": "150bff7b-11eb-44c1-b432-9b1eee9a0db7",
     "showTitle": false,
     "title": ""
    }
   },
   "outputs": [
    {
     "output_type": "stream",
     "name": "stdout",
     "output_type": "stream",
     "text": [
      "Check the following item: 17 July\nCheck the following item: \"Livin' la Vida Loca\"\nCheck the following item: Ricky Martin\nCheck the following item: 131,000\n\nCheck the following item: 24 July\nCheck the following item: 125,000\n\nCheck the following item: Ricky Martin\nCheck the following item: 125,000\n\nCheck the following item: 31 July\nCheck the following item: 96,600\n\nCheck the following item: Ricky Martin\nCheck the following item: 96,600\n\nOut[6]: ['17 July',\n '\"Livin\\' la Vida Loca\"',\n 'Ricky Martin',\n '131,000\\n',\n '24 July',\n '\"Livin\\' la Vida Loca\"',\n 'Ricky Martin',\n '125,000\\n',\n '31 July',\n '\"Livin\\' la Vida Loca\"',\n 'Ricky Martin',\n '96,600\\n']"
     ]
    }
   ],
   "source": [
    "ricky = ['17 July', \n",
    "         '\"Livin\\' la Vida Loca\"', \n",
    "         'Ricky Martin', \n",
    "         '131,000\\n', \n",
    "         '24 July', \n",
    "         '125,000\\n', \n",
    "         '31 July', \n",
    "         '96,600\\n']\n",
    "\n",
    "# Iterate through the actual items of the list\n",
    "for r in ricky:\n",
    "    \n",
    "    # Print out the current item in the list\n",
    "    print(f\"Check the following item: {r}\")\n",
    "    \n",
    "    # Find the index of the last occurence of the current item in the list\n",
    "    index = len(ricky) - [i for i in reversed(ricky)].index(r) - 1 \n",
    "    \n",
    "    # Check if the current item is the chart week \n",
    "    for m in months: # check if any of the months are contained within an element of the main list\n",
    "        if m in r:\n",
    "            month = m\n",
    "            break\n",
    "    if month in r: \n",
    "        continue\n",
    "    # Check if the current element is NOT the number of sales\n",
    "    if '\\n' not in r:\n",
    "        # If so and the next element also isn't the number of sales, \n",
    "        # prepare variables for the song and artist before continuing the loop to the next element\n",
    "        if '\\n' not in ricky[index + 1]:\n",
    "            song = r\n",
    "            artist = ricky[index + 1]\n",
    "            continue\n",
    "        # If so and the next element IS the number of sales, \n",
    "        # continue the loop to the next element without creating new variables\n",
    "        else:\n",
    "            continue\n",
    "    else:\n",
    "        # If the current element IS the number of sales, \n",
    "        # and none of the previous 2 elements relate to the chart week, continue the loop to the next element\n",
    "        if (month not in ricky[index - 1]) and (month not in ricky[index - 2]):\n",
    "            continue\n",
    "        # If at least one of the 2 previous elements is the chart week, \n",
    "        # insert the song and artist names into the list\n",
    "        else:\n",
    "            ricky.insert(index, song)\n",
    "            ricky.insert(index + 1, artist)\n",
    "            \n",
    "ricky"
   ]
  },
  {
   "cell_type": "markdown",
   "metadata": {
    "application/vnd.databricks.v1+cell": {
     "cellMetadata": {
      "byteLimit": 2048000,
      "rowLimit": 10000
     },
     "inputWidgets": {},
     "nuid": "e2b93f43-c2eb-496f-bc2b-cc1573596c32",
     "showTitle": false,
     "title": ""
    }
   },
   "source": [
    "Now that this new program works on these examples, let's apply it to the entire list of scraped data. If successful, the updated list should return 208 items - 4 items (chart week, song, artist(s), sales) for each week of the year."
   ]
  },
  {
   "cell_type": "code",
   "execution_count": 0,
   "metadata": {
    "application/vnd.databricks.v1+cell": {
     "cellMetadata": {
      "byteLimit": 2048000,
      "rowLimit": 10000
     },
     "inputWidgets": {},
     "nuid": "a49e585d-48e2-4578-9834-69d85ac8be57",
     "showTitle": false,
     "title": ""
    }
   },
   "outputs": [
    {
     "output_type": "stream",
     "name": "stdout",
     "output_type": "stream",
     "text": [
      "There are 206 items in the updated list\nOut[7]: ['2 January',\n '\"Chocolate Salty Balls\"',\n 'Chef',\n '320,000\\n',\n '9 January',\n '\"Heartbeat\" / \"Tragedy\"',\n 'Steps',\n '98,000\\n',\n '16 January',\n '\"Praise You\"',\n 'Fatboy Slim',\n '80,913\\n',\n '23 January',\n '\"A Little Bit More\"',\n '911',\n '75,400\\n',\n '30 January',\n '\"Pretty Fly (for a White Guy)\"',\n 'The Offspring',\n '140,000\\n',\n '6 February',\n '\"You Don\\'t Know Me\"',\n 'Armand Van Helden featuring Duane Harden',\n '118,500\\n',\n '13 February',\n '\"Maria\"',\n 'Blondie',\n '128,000\\n',\n '20 February',\n '\"Fly Away\"',\n 'Lenny Kravitz',\n '123,000\\n',\n '27 February',\n '\"...Baby One More Time\"',\n 'Britney Spears',\n '463,722\\n',\n '6 March',\n '\"...Baby One More Time\"',\n 'Britney Spears',\n '231,000\\n',\n '13 March',\n '\"When the Going Gets Tough\"',\n 'Boyzone',\n '213,000\\n',\n '20 March',\n '\"When the Going Gets Tough\"',\n 'Boyzone',\n '197,000\\n',\n '27 March',\n '\"Blame It on the Weatherman\"',\n 'B*Witched',\n '90,000\\n',\n '3 April',\n '\"Flat Beat\"',\n 'Mr. Oizo',\n '283,000\\n',\n '10 April',\n '\"Flat Beat\"',\n 'Mr. Oizo',\n '184,000\\n',\n '17 April',\n '\"Perfect Moment\"',\n 'Martine McCutcheon',\n '200,000\\n',\n '24 April',\n '\"Perfect Moment\"',\n 'Martine McCutcheon',\n '140,000\\n',\n '1 May',\n '\"Swear It Again\"',\n 'Westlife',\n '102,000\\n',\n '8 May',\n '\"Swear It Again\"',\n 'Westlife',\n '80,000\\n',\n '15 May',\n '\"I Want It That Way\"',\n 'Backstreet Boys',\n '93,000\\n',\n '22 May',\n '\"You Needed Me\"',\n 'Boyzone',\n '142,901\\n',\n '29 May',\n '\"Sweet Like Chocolate\"',\n 'Shanks & Bigfoot',\n '251,000\\n',\n '5 June',\n '141,000\\n',\n '12 June',\n '\"Everybody\\'s Free (To Wear Sunscreen)\"',\n 'Baz Luhrmann',\n '206,000\\n',\n '19 June',\n '\"Bring It All Back\"',\n 'S Club 7',\n '190,000\\n',\n '26 June',\n '\"Boom Boom Boom Boom\"',\n 'Vengaboys',\n '134,279\\n',\n '3 July',\n '\"9pm (Till I Come)\"',\n 'ATB',\n '270,000\\n',\n '10 July',\n '\"9pm (Till I Come)\"',\n 'ATB',\n '108,000\\n',\n '17 July',\n '\"Livin\\' la Vida Loca\"',\n 'Ricky Martin',\n '131,000\\n',\n '24 July',\n '\"Livin\\' la Vida Loca\"',\n 'Ricky Martin',\n '125,000\\n',\n '31 July',\n '\"Livin\\' la Vida Loca\"',\n 'Ricky Martin',\n '96,600\\n',\n '7 August',\n '\"When You Say Nothing at All\"',\n 'Ronan Keating',\n '197,565\\n',\n '14 August',\n '\"When You Say Nothing at All\"',\n 'Ronan Keating',\n '100,000\\n',\n '21 August',\n '\"If I Let You Go\"',\n 'Westlife',\n '90,491\\n',\n '28 August',\n '\"Mi Chico Latino\"',\n 'Geri Halliwell',\n '132,000\\n',\n '4 September',\n '\"Mambo No. 5 (A Little Bit of...)\"',\n 'Lou Bega',\n '224,000\\n',\n '11 September',\n '\"Mambo No. 5 (A Little Bit of...)\"',\n 'Lou Bega',\n '175,000\\n',\n '18 September',\n '\"We\\'re Going to Ibiza\"',\n 'Vengaboys',\n '142,809\\n',\n '25 September',\n '\"Blue (Da Ba Dee)\"',\n 'Eiffel 65',\n '226,500\\n',\n '2 October',\n '\"Blue (Da Ba Dee)\"',\n 'Eiffel 65',\n '164,500\\n',\n '9 October',\n '\"Blue (Da Ba Dee)\"',\n 'Eiffel 65',\n '141,000\\n',\n '16 October',\n '\"Genie in a Bottle\"',\n 'Christina Aguilera',\n '172,600\\n',\n '23 October',\n '\"Genie in a Bottle\"',\n 'Christina Aguilera',\n '123,000\\n',\n '30 October',\n '\"Flying Without Wings\"',\n 'Westlife',\n '92,000\\n',\n '6 November',\n '\"Keep on Movin\\'\"',\n 'Five',\n '137,000\\n',\n '13 November',\n '\"Lift Me Up\"',\n 'Geri Halliwell',\n '139,000\\n',\n '20 November',\n '\"She\\'s the One\" / \"It\\'s Only Us\"',\n 'Robbie Williams',\n '120,000\\n',\n '27 November',\n '\"King of My Castle\"',\n 'Wamdue Project',\n '148,000\\n',\n '4 December',\n '\"The Millennium Prayer\"',\n 'Cliff Richard',\n '147,000\\n',\n '11 December',\n '\"The Millennium Prayer\"',\n 'Cliff Richard',\n '158,000\\n',\n '18 December',\n '\"The Millennium Prayer\"',\n 'Cliff Richard',\n '159,000\\n',\n '25 December',\n '\"I Have a Dream\" / \"Seasons in the Sun\"',\n 'Westlife',\n '213,000\\n']"
     ]
    }
   ],
   "source": [
    "data = [td.text for td in soup.find('table', class_='wikitable plainrowheaders').tbody.findAll('td')]\n",
    "months = ['January', \n",
    "          'February', \n",
    "          'March', \n",
    "          'April', \n",
    "          'May', \n",
    "          'June', \n",
    "          'July', \n",
    "          'August', \n",
    "          'September', \n",
    "          'October', \n",
    "          'November', \n",
    "          'December']\n",
    "\n",
    "for d in data:\n",
    "    index = len(data) - [i for i in reversed(data)].index(d) - 1\n",
    "    for m in months: \n",
    "        if m in d:\n",
    "            month = m\n",
    "            break\n",
    "    if month in d: \n",
    "        continue  \n",
    "    if '\\n' not in d:\n",
    "        if '\\n' not in data[index + 1]:\n",
    "            song = d\n",
    "            artist = data[index + 1]\n",
    "            continue\n",
    "        else:\n",
    "            continue\n",
    "    else:\n",
    "        if (month not in data[index - 1]) and (month not in data[index - 2]):\n",
    "            continue\n",
    "        else:\n",
    "            data.insert(index, song)\n",
    "            data.insert(index + 1, artist)\n",
    "            \n",
    "print(f\"There are {len(data)} items in the updated list\")            \n",
    "data"
   ]
  },
  {
   "cell_type": "markdown",
   "metadata": {
    "application/vnd.databricks.v1+cell": {
     "cellMetadata": {
      "byteLimit": 2048000,
      "rowLimit": 10000
     },
     "inputWidgets": {},
     "nuid": "12bf41c4-dda7-455b-8a7b-d5709c375825",
     "showTitle": false,
     "title": ""
    }
   },
   "source": [
    "Almost there but not quite right! The list returned 206 items, so we are missing 2 items.\n",
    "\n",
    "Upon further investigation, the issue relates to the song \"Sweet Like Chocolate\" by Shanks & Bigfoot. Let's take a closer a look to see what's going wrong."
   ]
  },
  {
   "cell_type": "code",
   "execution_count": 0,
   "metadata": {
    "application/vnd.databricks.v1+cell": {
     "cellMetadata": {
      "byteLimit": 2048000,
      "rowLimit": 10000
     },
     "inputWidgets": {},
     "nuid": "a54ddb96-0a6e-4149-a4cf-0da45ab56ed4",
     "showTitle": false,
     "title": ""
    }
   },
   "outputs": [
    {
     "output_type": "stream",
     "name": "stdout",
     "output_type": "stream",
     "text": [
      "Check the following item: 29 May\nCheck the following item: \"Sweet Like Chocolate\"\nCheck the following item: Shanks & Bigfoot\nCheck the following item: 251,000\n\nCheck the following item: 5 June\nCheck the following item: 141,000\n\nCheck the following item: Shanks & Bigfoot\nCheck the following item: 141,000\n\nOut[8]: ['29 May',\n '\"Sweet Like Chocolate\"',\n 'Shanks & Bigfoot',\n '251,000\\n',\n '5 June',\n '\"Sweet Like Chocolate\"',\n 'Shanks & Bigfoot',\n '141,000\\n']"
     ]
    }
   ],
   "source": [
    "shanks = ['29 May',\n",
    " '\"Sweet Like Chocolate\"',\n",
    " 'Shanks & Bigfoot',\n",
    " '251,000\\n',\n",
    " '5 June',\n",
    " '141,000\\n']\n",
    "\n",
    "for d in shanks:\n",
    "    print(f\"Check the following item: {d}\")\n",
    "    index = len(shanks) - [i for i in reversed(shanks)].index(d) - 1\n",
    "    for m in months:\n",
    "        if m in d:\n",
    "            month = m\n",
    "            break\n",
    "    if month in d: \n",
    "        continue\n",
    "    if '\\n' not in d:\n",
    "        if '\\n' not in shanks[index + 1]:\n",
    "            song = d\n",
    "            artist = shanks[index + 1]\n",
    "            continue\n",
    "        else:\n",
    "            continue\n",
    "    else:\n",
    "        if (month not in shanks[index - 1]) and (month not in shanks[index - 2]):\n",
    "            continue\n",
    "        else:\n",
    "            shanks.insert(index, song)\n",
    "            shanks.insert(index + 1, artist)\n",
    "            \n",
    "shanks"
   ]
  },
  {
   "cell_type": "markdown",
   "metadata": {
    "application/vnd.databricks.v1+cell": {
     "cellMetadata": {
      "byteLimit": 2048000,
      "rowLimit": 10000
     },
     "inputWidgets": {},
     "nuid": "311ec379-9b06-4511-80d3-97dfd1d14977",
     "showTitle": false,
     "title": ""
    }
   },
   "source": [
    "One solution is to insert the correct missing data into the list. Note that this only works for this specific case - a more general solution would have to be applied in case we wanted to scrape data from similar Wikipedia tables and came across similar issues. Once a more general solution is found, this notebook will be updated. "
   ]
  },
  {
   "cell_type": "code",
   "execution_count": 0,
   "metadata": {
    "application/vnd.databricks.v1+cell": {
     "cellMetadata": {
      "byteLimit": 2048000,
      "rowLimit": 10000
     },
     "inputWidgets": {},
     "nuid": "aeabcc3b-4fef-438f-a331-3b66971ef226",
     "showTitle": false,
     "title": ""
    }
   },
   "outputs": [
    {
     "output_type": "stream",
     "name": "stdout",
     "output_type": "stream",
     "text": [
      "There are 208 items in the updated list\nOut[9]: ['2 January',\n '\"Chocolate Salty Balls\"',\n 'Chef',\n '320,000\\n',\n '9 January',\n '\"Heartbeat\" / \"Tragedy\"',\n 'Steps',\n '98,000\\n',\n '16 January',\n '\"Praise You\"',\n 'Fatboy Slim',\n '80,913\\n',\n '23 January',\n '\"A Little Bit More\"',\n '911',\n '75,400\\n',\n '30 January',\n '\"Pretty Fly (for a White Guy)\"',\n 'The Offspring',\n '140,000\\n',\n '6 February',\n '\"You Don\\'t Know Me\"',\n 'Armand Van Helden featuring Duane Harden',\n '118,500\\n',\n '13 February',\n '\"Maria\"',\n 'Blondie',\n '128,000\\n',\n '20 February',\n '\"Fly Away\"',\n 'Lenny Kravitz',\n '123,000\\n',\n '27 February',\n '\"...Baby One More Time\"',\n 'Britney Spears',\n '463,722\\n',\n '6 March',\n '\"...Baby One More Time\"',\n 'Britney Spears',\n '231,000\\n',\n '13 March',\n '\"When the Going Gets Tough\"',\n 'Boyzone',\n '213,000\\n',\n '20 March',\n '\"When the Going Gets Tough\"',\n 'Boyzone',\n '197,000\\n',\n '27 March',\n '\"Blame It on the Weatherman\"',\n 'B*Witched',\n '90,000\\n',\n '3 April',\n '\"Flat Beat\"',\n 'Mr. Oizo',\n '283,000\\n',\n '10 April',\n '\"Flat Beat\"',\n 'Mr. Oizo',\n '184,000\\n',\n '17 April',\n '\"Perfect Moment\"',\n 'Martine McCutcheon',\n '200,000\\n',\n '24 April',\n '\"Perfect Moment\"',\n 'Martine McCutcheon',\n '140,000\\n',\n '1 May',\n '\"Swear It Again\"',\n 'Westlife',\n '102,000\\n',\n '8 May',\n '\"Swear It Again\"',\n 'Westlife',\n '80,000\\n',\n '15 May',\n '\"I Want It That Way\"',\n 'Backstreet Boys',\n '93,000\\n',\n '22 May',\n '\"You Needed Me\"',\n 'Boyzone',\n '142,901\\n',\n '29 May',\n '\"Sweet Like Chocolate\"',\n 'Shanks & Bigfoot',\n '251,000\\n',\n '5 June',\n 'Sweet Like Chocolate',\n 'Shanks & Bigfoot',\n '141,000\\n',\n '12 June',\n '\"Everybody\\'s Free (To Wear Sunscreen)\"',\n 'Baz Luhrmann',\n '206,000\\n',\n '19 June',\n '\"Bring It All Back\"',\n 'S Club 7',\n '190,000\\n',\n '26 June',\n '\"Boom Boom Boom Boom\"',\n 'Vengaboys',\n '134,279\\n',\n '3 July',\n '\"9pm (Till I Come)\"',\n 'ATB',\n '270,000\\n',\n '10 July',\n '\"9pm (Till I Come)\"',\n 'ATB',\n '108,000\\n',\n '17 July',\n '\"Livin\\' la Vida Loca\"',\n 'Ricky Martin',\n '131,000\\n',\n '24 July',\n '\"Livin\\' la Vida Loca\"',\n 'Ricky Martin',\n '125,000\\n',\n '31 July',\n '\"Livin\\' la Vida Loca\"',\n 'Ricky Martin',\n '96,600\\n',\n '7 August',\n '\"When You Say Nothing at All\"',\n 'Ronan Keating',\n '197,565\\n',\n '14 August',\n '\"When You Say Nothing at All\"',\n 'Ronan Keating',\n '100,000\\n',\n '21 August',\n '\"If I Let You Go\"',\n 'Westlife',\n '90,491\\n',\n '28 August',\n '\"Mi Chico Latino\"',\n 'Geri Halliwell',\n '132,000\\n',\n '4 September',\n '\"Mambo No. 5 (A Little Bit of...)\"',\n 'Lou Bega',\n '224,000\\n',\n '11 September',\n '\"Mambo No. 5 (A Little Bit of...)\"',\n 'Lou Bega',\n '175,000\\n',\n '18 September',\n '\"We\\'re Going to Ibiza\"',\n 'Vengaboys',\n '142,809\\n',\n '25 September',\n '\"Blue (Da Ba Dee)\"',\n 'Eiffel 65',\n '226,500\\n',\n '2 October',\n '\"Blue (Da Ba Dee)\"',\n 'Eiffel 65',\n '164,500\\n',\n '9 October',\n '\"Blue (Da Ba Dee)\"',\n 'Eiffel 65',\n '141,000\\n',\n '16 October',\n '\"Genie in a Bottle\"',\n 'Christina Aguilera',\n '172,600\\n',\n '23 October',\n '\"Genie in a Bottle\"',\n 'Christina Aguilera',\n '123,000\\n',\n '30 October',\n '\"Flying Without Wings\"',\n 'Westlife',\n '92,000\\n',\n '6 November',\n '\"Keep on Movin\\'\"',\n 'Five',\n '137,000\\n',\n '13 November',\n '\"Lift Me Up\"',\n 'Geri Halliwell',\n '139,000\\n',\n '20 November',\n '\"She\\'s the One\" / \"It\\'s Only Us\"',\n 'Robbie Williams',\n '120,000\\n',\n '27 November',\n '\"King of My Castle\"',\n 'Wamdue Project',\n '148,000\\n',\n '4 December',\n '\"The Millennium Prayer\"',\n 'Cliff Richard',\n '147,000\\n',\n '11 December',\n '\"The Millennium Prayer\"',\n 'Cliff Richard',\n '158,000\\n',\n '18 December',\n '\"The Millennium Prayer\"',\n 'Cliff Richard',\n '159,000\\n',\n '25 December',\n '\"I Have a Dream\" / \"Seasons in the Sun\"',\n 'Westlife',\n '213,000\\n']"
     ]
    }
   ],
   "source": [
    "# Find the index of '5 June' within the list of scraped data\n",
    "shanks_date = data.index(\"5 June\")\n",
    "\n",
    "# Insert 'Sweet Like Chocolate' and 'Shanks & Bigfoot' into the list to complete the dataset\n",
    "data.insert(shanks_date + 1, \"Shanks & Bigfoot\")\n",
    "data.insert(shanks_date + 1, \"Sweet Like Chocolate\")\n",
    "\n",
    "print(f\"There are {len(data)} items in the updated list\")            \n",
    "data"
   ]
  },
  {
   "cell_type": "markdown",
   "metadata": {
    "application/vnd.databricks.v1+cell": {
     "cellMetadata": {
      "byteLimit": 2048000,
      "rowLimit": 10000
     },
     "inputWidgets": {},
     "nuid": "843b6af3-3b22-414a-9cdb-88bbed07cd7b",
     "showTitle": false,
     "title": ""
    }
   },
   "source": [
    "Perfect! We now have our complete dataset to create the final dataframe."
   ]
  },
  {
   "cell_type": "code",
   "execution_count": 0,
   "metadata": {
    "application/vnd.databricks.v1+cell": {
     "cellMetadata": {
      "byteLimit": 2048000,
      "rowLimit": 10000
     },
     "inputWidgets": {},
     "nuid": "d5eccb45-f29e-4f73-8aaf-849621ee0a63",
     "showTitle": false,
     "title": ""
    }
   },
   "outputs": [
    {
     "output_type": "stream",
     "name": "stdout",
     "output_type": "stream",
     "text": [
      "Out[10]: [('2 January', 'Chocolate Salty Balls', 'Chef', '320000'),\n ('9 January', 'Heartbeat / Tragedy', 'Steps', '98000'),\n ('16 January', 'Praise You', 'Fatboy Slim', '80913'),\n ('23 January', 'A Little Bit More', '911', '75400'),\n ('30 January', 'Pretty Fly (for a White Guy)', 'The Offspring', '140000'),\n ('6 February',\n  \"You Don't Know Me\",\n  'Armand Van Helden featuring Duane Harden',\n  '118500'),\n ('13 February', 'Maria', 'Blondie', '128000'),\n ('20 February', 'Fly Away', 'Lenny Kravitz', '123000'),\n ('27 February', '...Baby One More Time', 'Britney Spears', '463722'),\n ('6 March', '...Baby One More Time', 'Britney Spears', '231000'),\n ('13 March', 'When the Going Gets Tough', 'Boyzone', '213000'),\n ('20 March', 'When the Going Gets Tough', 'Boyzone', '197000'),\n ('27 March', 'Blame It on the Weatherman', 'B*Witched', '90000'),\n ('3 April', 'Flat Beat', 'Mr. Oizo', '283000'),\n ('10 April', 'Flat Beat', 'Mr. Oizo', '184000'),\n ('17 April', 'Perfect Moment', 'Martine McCutcheon', '200000'),\n ('24 April', 'Perfect Moment', 'Martine McCutcheon', '140000'),\n ('1 May', 'Swear It Again', 'Westlife', '102000'),\n ('8 May', 'Swear It Again', 'Westlife', '80000'),\n ('15 May', 'I Want It That Way', 'Backstreet Boys', '93000'),\n ('22 May', 'You Needed Me', 'Boyzone', '142901'),\n ('29 May', 'Sweet Like Chocolate', 'Shanks & Bigfoot', '251000'),\n ('5 June', 'Sweet Like Chocolate', 'Shanks & Bigfoot', '141000'),\n ('12 June', \"Everybody's Free (To Wear Sunscreen)\", 'Baz Luhrmann', '206000'),\n ('19 June', 'Bring It All Back', 'S Club 7', '190000'),\n ('26 June', 'Boom Boom Boom Boom', 'Vengaboys', '134279'),\n ('3 July', '9pm (Till I Come)', 'ATB', '270000'),\n ('10 July', '9pm (Till I Come)', 'ATB', '108000'),\n ('17 July', \"Livin' la Vida Loca\", 'Ricky Martin', '131000'),\n ('24 July', \"Livin' la Vida Loca\", 'Ricky Martin', '125000'),\n ('31 July', \"Livin' la Vida Loca\", 'Ricky Martin', '96600'),\n ('7 August', 'When You Say Nothing at All', 'Ronan Keating', '197565'),\n ('14 August', 'When You Say Nothing at All', 'Ronan Keating', '100000'),\n ('21 August', 'If I Let You Go', 'Westlife', '90491'),\n ('28 August', 'Mi Chico Latino', 'Geri Halliwell', '132000'),\n ('4 September', 'Mambo No. 5 (A Little Bit of...)', 'Lou Bega', '224000'),\n ('11 September', 'Mambo No. 5 (A Little Bit of...)', 'Lou Bega', '175000'),\n ('18 September', \"We're Going to Ibiza\", 'Vengaboys', '142809'),\n ('25 September', 'Blue (Da Ba Dee)', 'Eiffel 65', '226500'),\n ('2 October', 'Blue (Da Ba Dee)', 'Eiffel 65', '164500'),\n ('9 October', 'Blue (Da Ba Dee)', 'Eiffel 65', '141000'),\n ('16 October', 'Genie in a Bottle', 'Christina Aguilera', '172600'),\n ('23 October', 'Genie in a Bottle', 'Christina Aguilera', '123000'),\n ('30 October', 'Flying Without Wings', 'Westlife', '92000'),\n ('6 November', \"Keep on Movin'\", 'Five', '137000'),\n ('13 November', 'Lift Me Up', 'Geri Halliwell', '139000'),\n ('20 November', \"She's the One / It's Only Us\", 'Robbie Williams', '120000'),\n ('27 November', 'King of My Castle', 'Wamdue Project', '148000'),\n ('4 December', 'The Millennium Prayer', 'Cliff Richard', '147000'),\n ('11 December', 'The Millennium Prayer', 'Cliff Richard', '158000'),\n ('18 December', 'The Millennium Prayer', 'Cliff Richard', '159000'),\n ('25 December', 'I Have a Dream / Seasons in the Sun', 'Westlife', '213000')]"
     ]
    }
   ],
   "source": [
    "# Remove special characters from Sales data so that they only include digits\n",
    "for i in range(3,208,4):\n",
    "    data[i] = data[i].strip(\"\\n\").replace(\",\", \"\")\n",
    "\n",
    "# Remove extra quotation marks from Song data\n",
    "for i in range(1,206,4):\n",
    "    data[i] = data[i].replace('\"', \"\")\n",
    "\n",
    "# Convert the extracted data into a list of tuples, \n",
    "# each representing the rows that will form the subsequent dataframe\n",
    "it = iter(data)\n",
    "rows = list(zip(it, it, it, it))\n",
    "rows"
   ]
  },
  {
   "cell_type": "code",
   "execution_count": 0,
   "metadata": {
    "application/vnd.databricks.v1+cell": {
     "cellMetadata": {
      "byteLimit": 2048000,
      "rowLimit": 10000
     },
     "inputWidgets": {},
     "nuid": "b1552c10-562b-445b-b385-59557d379d1c",
     "showTitle": false,
     "title": ""
    }
   },
   "outputs": [
    {
     "output_type": "display_data",
     "data": {
      "text/html": [
       "<style scoped>\n",
       "  .table-result-container {\n",
       "    max-height: 300px;\n",
       "    overflow: auto;\n",
       "  }\n",
       "  table, th, td {\n",
       "    border: 1px solid black;\n",
       "    border-collapse: collapse;\n",
       "  }\n",
       "  th, td {\n",
       "    padding: 5px;\n",
       "  }\n",
       "  th {\n",
       "    text-align: left;\n",
       "  }\n",
       "</style><div class='table-result-container'><table class='table-result'><thead style='background-color: white'><tr><th>ChartDate_WeekEnding</th><th>Song</th><th>Artists</th><th>Sales</th></tr></thead><tbody><tr><td>2 January</td><td>Chocolate Salty Balls</td><td>Chef</td><td>320000</td></tr><tr><td>9 January</td><td>Heartbeat / Tragedy</td><td>Steps</td><td>98000</td></tr><tr><td>16 January</td><td>Praise You</td><td>Fatboy Slim</td><td>80913</td></tr><tr><td>23 January</td><td>A Little Bit More</td><td>911</td><td>75400</td></tr><tr><td>30 January</td><td>Pretty Fly (for a White Guy)</td><td>The Offspring</td><td>140000</td></tr><tr><td>6 February</td><td>You Don't Know Me</td><td>Armand Van Helden featuring Duane Harden</td><td>118500</td></tr><tr><td>13 February</td><td>Maria</td><td>Blondie</td><td>128000</td></tr><tr><td>20 February</td><td>Fly Away</td><td>Lenny Kravitz</td><td>123000</td></tr><tr><td>27 February</td><td>...Baby One More Time</td><td>Britney Spears</td><td>463722</td></tr><tr><td>6 March</td><td>...Baby One More Time</td><td>Britney Spears</td><td>231000</td></tr><tr><td>13 March</td><td>When the Going Gets Tough</td><td>Boyzone</td><td>213000</td></tr><tr><td>20 March</td><td>When the Going Gets Tough</td><td>Boyzone</td><td>197000</td></tr><tr><td>27 March</td><td>Blame It on the Weatherman</td><td>B*Witched</td><td>90000</td></tr><tr><td>3 April</td><td>Flat Beat</td><td>Mr. Oizo</td><td>283000</td></tr><tr><td>10 April</td><td>Flat Beat</td><td>Mr. Oizo</td><td>184000</td></tr><tr><td>17 April</td><td>Perfect Moment</td><td>Martine McCutcheon</td><td>200000</td></tr><tr><td>24 April</td><td>Perfect Moment</td><td>Martine McCutcheon</td><td>140000</td></tr><tr><td>1 May</td><td>Swear It Again</td><td>Westlife</td><td>102000</td></tr><tr><td>8 May</td><td>Swear It Again</td><td>Westlife</td><td>80000</td></tr><tr><td>15 May</td><td>I Want It That Way</td><td>Backstreet Boys</td><td>93000</td></tr><tr><td>22 May</td><td>You Needed Me</td><td>Boyzone</td><td>142901</td></tr><tr><td>29 May</td><td>Sweet Like Chocolate</td><td>Shanks & Bigfoot</td><td>251000</td></tr><tr><td>5 June</td><td>Sweet Like Chocolate</td><td>Shanks & Bigfoot</td><td>141000</td></tr><tr><td>12 June</td><td>Everybody's Free (To Wear Sunscreen)</td><td>Baz Luhrmann</td><td>206000</td></tr><tr><td>19 June</td><td>Bring It All Back</td><td>S Club 7</td><td>190000</td></tr><tr><td>26 June</td><td>Boom Boom Boom Boom</td><td>Vengaboys</td><td>134279</td></tr><tr><td>3 July</td><td>9pm (Till I Come)</td><td>ATB</td><td>270000</td></tr><tr><td>10 July</td><td>9pm (Till I Come)</td><td>ATB</td><td>108000</td></tr><tr><td>17 July</td><td>Livin' la Vida Loca</td><td>Ricky Martin</td><td>131000</td></tr><tr><td>24 July</td><td>Livin' la Vida Loca</td><td>Ricky Martin</td><td>125000</td></tr><tr><td>31 July</td><td>Livin' la Vida Loca</td><td>Ricky Martin</td><td>96600</td></tr><tr><td>7 August</td><td>When You Say Nothing at All</td><td>Ronan Keating</td><td>197565</td></tr><tr><td>14 August</td><td>When You Say Nothing at All</td><td>Ronan Keating</td><td>100000</td></tr><tr><td>21 August</td><td>If I Let You Go</td><td>Westlife</td><td>90491</td></tr><tr><td>28 August</td><td>Mi Chico Latino</td><td>Geri Halliwell</td><td>132000</td></tr><tr><td>4 September</td><td>Mambo No. 5 (A Little Bit of...)</td><td>Lou Bega</td><td>224000</td></tr><tr><td>11 September</td><td>Mambo No. 5 (A Little Bit of...)</td><td>Lou Bega</td><td>175000</td></tr><tr><td>18 September</td><td>We're Going to Ibiza</td><td>Vengaboys</td><td>142809</td></tr><tr><td>25 September</td><td>Blue (Da Ba Dee)</td><td>Eiffel 65</td><td>226500</td></tr><tr><td>2 October</td><td>Blue (Da Ba Dee)</td><td>Eiffel 65</td><td>164500</td></tr><tr><td>9 October</td><td>Blue (Da Ba Dee)</td><td>Eiffel 65</td><td>141000</td></tr><tr><td>16 October</td><td>Genie in a Bottle</td><td>Christina Aguilera</td><td>172600</td></tr><tr><td>23 October</td><td>Genie in a Bottle</td><td>Christina Aguilera</td><td>123000</td></tr><tr><td>30 October</td><td>Flying Without Wings</td><td>Westlife</td><td>92000</td></tr><tr><td>6 November</td><td>Keep on Movin'</td><td>Five</td><td>137000</td></tr><tr><td>13 November</td><td>Lift Me Up</td><td>Geri Halliwell</td><td>139000</td></tr><tr><td>20 November</td><td>She's the One / It's Only Us</td><td>Robbie Williams</td><td>120000</td></tr><tr><td>27 November</td><td>King of My Castle</td><td>Wamdue Project</td><td>148000</td></tr><tr><td>4 December</td><td>The Millennium Prayer</td><td>Cliff Richard</td><td>147000</td></tr><tr><td>11 December</td><td>The Millennium Prayer</td><td>Cliff Richard</td><td>158000</td></tr><tr><td>18 December</td><td>The Millennium Prayer</td><td>Cliff Richard</td><td>159000</td></tr><tr><td>25 December</td><td>I Have a Dream / Seasons in the Sun</td><td>Westlife</td><td>213000</td></tr></tbody></table></div>"
      ]
     },
     "metadata": {
      "application/vnd.databricks.v1+output": {
       "addedWidgets": {},
       "aggData": [],
       "aggError": "",
       "aggOverflow": false,
       "aggSchema": [],
       "aggSeriesLimitReached": false,
       "aggType": "",
       "arguments": {},
       "columnCustomDisplayInfos": {},
       "data": [
        [
         "2 January",
         "Chocolate Salty Balls",
         "Chef",
         "320000"
        ],
        [
         "9 January",
         "Heartbeat / Tragedy",
         "Steps",
         "98000"
        ],
        [
         "16 January",
         "Praise You",
         "Fatboy Slim",
         "80913"
        ],
        [
         "23 January",
         "A Little Bit More",
         "911",
         "75400"
        ],
        [
         "30 January",
         "Pretty Fly (for a White Guy)",
         "The Offspring",
         "140000"
        ],
        [
         "6 February",
         "You Don't Know Me",
         "Armand Van Helden featuring Duane Harden",
         "118500"
        ],
        [
         "13 February",
         "Maria",
         "Blondie",
         "128000"
        ],
        [
         "20 February",
         "Fly Away",
         "Lenny Kravitz",
         "123000"
        ],
        [
         "27 February",
         "...Baby One More Time",
         "Britney Spears",
         "463722"
        ],
        [
         "6 March",
         "...Baby One More Time",
         "Britney Spears",
         "231000"
        ],
        [
         "13 March",
         "When the Going Gets Tough",
         "Boyzone",
         "213000"
        ],
        [
         "20 March",
         "When the Going Gets Tough",
         "Boyzone",
         "197000"
        ],
        [
         "27 March",
         "Blame It on the Weatherman",
         "B*Witched",
         "90000"
        ],
        [
         "3 April",
         "Flat Beat",
         "Mr. Oizo",
         "283000"
        ],
        [
         "10 April",
         "Flat Beat",
         "Mr. Oizo",
         "184000"
        ],
        [
         "17 April",
         "Perfect Moment",
         "Martine McCutcheon",
         "200000"
        ],
        [
         "24 April",
         "Perfect Moment",
         "Martine McCutcheon",
         "140000"
        ],
        [
         "1 May",
         "Swear It Again",
         "Westlife",
         "102000"
        ],
        [
         "8 May",
         "Swear It Again",
         "Westlife",
         "80000"
        ],
        [
         "15 May",
         "I Want It That Way",
         "Backstreet Boys",
         "93000"
        ],
        [
         "22 May",
         "You Needed Me",
         "Boyzone",
         "142901"
        ],
        [
         "29 May",
         "Sweet Like Chocolate",
         "Shanks & Bigfoot",
         "251000"
        ],
        [
         "5 June",
         "Sweet Like Chocolate",
         "Shanks & Bigfoot",
         "141000"
        ],
        [
         "12 June",
         "Everybody's Free (To Wear Sunscreen)",
         "Baz Luhrmann",
         "206000"
        ],
        [
         "19 June",
         "Bring It All Back",
         "S Club 7",
         "190000"
        ],
        [
         "26 June",
         "Boom Boom Boom Boom",
         "Vengaboys",
         "134279"
        ],
        [
         "3 July",
         "9pm (Till I Come)",
         "ATB",
         "270000"
        ],
        [
         "10 July",
         "9pm (Till I Come)",
         "ATB",
         "108000"
        ],
        [
         "17 July",
         "Livin' la Vida Loca",
         "Ricky Martin",
         "131000"
        ],
        [
         "24 July",
         "Livin' la Vida Loca",
         "Ricky Martin",
         "125000"
        ],
        [
         "31 July",
         "Livin' la Vida Loca",
         "Ricky Martin",
         "96600"
        ],
        [
         "7 August",
         "When You Say Nothing at All",
         "Ronan Keating",
         "197565"
        ],
        [
         "14 August",
         "When You Say Nothing at All",
         "Ronan Keating",
         "100000"
        ],
        [
         "21 August",
         "If I Let You Go",
         "Westlife",
         "90491"
        ],
        [
         "28 August",
         "Mi Chico Latino",
         "Geri Halliwell",
         "132000"
        ],
        [
         "4 September",
         "Mambo No. 5 (A Little Bit of...)",
         "Lou Bega",
         "224000"
        ],
        [
         "11 September",
         "Mambo No. 5 (A Little Bit of...)",
         "Lou Bega",
         "175000"
        ],
        [
         "18 September",
         "We're Going to Ibiza",
         "Vengaboys",
         "142809"
        ],
        [
         "25 September",
         "Blue (Da Ba Dee)",
         "Eiffel 65",
         "226500"
        ],
        [
         "2 October",
         "Blue (Da Ba Dee)",
         "Eiffel 65",
         "164500"
        ],
        [
         "9 October",
         "Blue (Da Ba Dee)",
         "Eiffel 65",
         "141000"
        ],
        [
         "16 October",
         "Genie in a Bottle",
         "Christina Aguilera",
         "172600"
        ],
        [
         "23 October",
         "Genie in a Bottle",
         "Christina Aguilera",
         "123000"
        ],
        [
         "30 October",
         "Flying Without Wings",
         "Westlife",
         "92000"
        ],
        [
         "6 November",
         "Keep on Movin'",
         "Five",
         "137000"
        ],
        [
         "13 November",
         "Lift Me Up",
         "Geri Halliwell",
         "139000"
        ],
        [
         "20 November",
         "She's the One / It's Only Us",
         "Robbie Williams",
         "120000"
        ],
        [
         "27 November",
         "King of My Castle",
         "Wamdue Project",
         "148000"
        ],
        [
         "4 December",
         "The Millennium Prayer",
         "Cliff Richard",
         "147000"
        ],
        [
         "11 December",
         "The Millennium Prayer",
         "Cliff Richard",
         "158000"
        ],
        [
         "18 December",
         "The Millennium Prayer",
         "Cliff Richard",
         "159000"
        ],
        [
         "25 December",
         "I Have a Dream / Seasons in the Sun",
         "Westlife",
         "213000"
        ]
       ],
       "datasetInfos": [],
       "dbfsResultPath": null,
       "isJsonSchema": true,
       "metadata": {},
       "overflow": false,
       "plotOptions": {
        "customPlotOptions": {},
        "displayType": "table",
        "pivotAggregation": null,
        "pivotColumns": null,
        "xColumns": null,
        "yColumns": null
       },
       "removedWidgets": [],
       "schema": [
        {
         "metadata": "{}",
         "name": "ChartDate_WeekEnding",
         "type": "\"string\""
        },
        {
         "metadata": "{}",
         "name": "Song",
         "type": "\"string\""
        },
        {
         "metadata": "{}",
         "name": "Artists",
         "type": "\"string\""
        },
        {
         "metadata": "{}",
         "name": "Sales",
         "type": "\"string\""
        }
       ],
       "type": "table"
      }
     },
     "output_type": "display_data"
    }
   ],
   "source": [
    "# Initialise Spark session to create Spark dataframe\n",
    "spark = SparkSession.builder.appName(\"Spark DataFrames\").getOrCreate()\n",
    "columns = [\"ChartDate_WeekEnding\", \"Song\", \"Artists\", \"Sales\"]\n",
    "df = spark.createDataFrame(data = rows, schema = columns)\n",
    "\n",
    "# Display dataframe\n",
    "display(df)"
   ]
  },
  {
   "cell_type": "markdown",
   "metadata": {
    "application/vnd.databricks.v1+cell": {
     "cellMetadata": {
      "byteLimit": 2048000,
      "rowLimit": 10000
     },
     "inputWidgets": {},
     "nuid": "01944bf9-89ff-478c-809c-028eaad6ebf4",
     "showTitle": false,
     "title": ""
    }
   },
   "source": [
    "## 2. Transform the data"
   ]
  },
  {
   "cell_type": "code",
   "execution_count": 0,
   "metadata": {
    "application/vnd.databricks.v1+cell": {
     "cellMetadata": {
      "byteLimit": 2048000,
      "rowLimit": 10000
     },
     "inputWidgets": {},
     "nuid": "cca34635-6a41-418b-be07-cb2d621d82ba",
     "showTitle": false,
     "title": ""
    }
   },
   "outputs": [
    {
     "output_type": "stream",
     "name": "stdout",
     "output_type": "stream",
     "text": [
      "root\n |-- ChartDate_WeekEnding: string (nullable = true)\n |-- Song: string (nullable = true)\n |-- Artists: string (nullable = true)\n |-- Sales: string (nullable = true)\n\n"
     ]
    }
   ],
   "source": [
    "# Check the data type for each column\n",
    "df.printSchema()"
   ]
  },
  {
   "cell_type": "markdown",
   "metadata": {
    "application/vnd.databricks.v1+cell": {
     "cellMetadata": {
      "byteLimit": 2048000,
      "rowLimit": 10000
     },
     "inputWidgets": {},
     "nuid": "0f83ea40-a135-4ba7-bac4-31fa694d0852",
     "showTitle": false,
     "title": ""
    }
   },
   "source": [
    "As we can see from the dataframe's schema, we need to transform some columns. The Sales column should contain integer values only, and the Chart Date column should contain dates only. "
   ]
  },
  {
   "cell_type": "code",
   "execution_count": 0,
   "metadata": {
    "application/vnd.databricks.v1+cell": {
     "cellMetadata": {
      "byteLimit": 2048000,
      "rowLimit": 10000
     },
     "inputWidgets": {},
     "nuid": "a8eccc25-0023-4488-8b57-fc175100712e",
     "showTitle": false,
     "title": ""
    }
   },
   "outputs": [
    {
     "output_type": "display_data",
     "data": {
      "text/html": [
       "<style scoped>\n",
       "  .table-result-container {\n",
       "    max-height: 300px;\n",
       "    overflow: auto;\n",
       "  }\n",
       "  table, th, td {\n",
       "    border: 1px solid black;\n",
       "    border-collapse: collapse;\n",
       "  }\n",
       "  th, td {\n",
       "    padding: 5px;\n",
       "  }\n",
       "  th {\n",
       "    text-align: left;\n",
       "  }\n",
       "</style><div class='table-result-container'><table class='table-result'><thead style='background-color: white'><tr><th>ChartDate_WeekEnding</th><th>Song</th><th>Artists</th><th>Sales</th></tr></thead><tbody><tr><td>1999-01-02</td><td>Chocolate Salty Balls</td><td>Chef</td><td>320000</td></tr><tr><td>1999-01-09</td><td>Heartbeat / Tragedy</td><td>Steps</td><td>98000</td></tr><tr><td>1999-01-16</td><td>Praise You</td><td>Fatboy Slim</td><td>80913</td></tr><tr><td>1999-01-23</td><td>A Little Bit More</td><td>911</td><td>75400</td></tr><tr><td>1999-01-30</td><td>Pretty Fly (for a White Guy)</td><td>The Offspring</td><td>140000</td></tr><tr><td>1999-02-06</td><td>You Don't Know Me</td><td>Armand Van Helden featuring Duane Harden</td><td>118500</td></tr><tr><td>1999-02-13</td><td>Maria</td><td>Blondie</td><td>128000</td></tr><tr><td>1999-02-20</td><td>Fly Away</td><td>Lenny Kravitz</td><td>123000</td></tr><tr><td>1999-02-27</td><td>...Baby One More Time</td><td>Britney Spears</td><td>463722</td></tr><tr><td>1999-03-06</td><td>...Baby One More Time</td><td>Britney Spears</td><td>231000</td></tr><tr><td>1999-03-13</td><td>When the Going Gets Tough</td><td>Boyzone</td><td>213000</td></tr><tr><td>1999-03-20</td><td>When the Going Gets Tough</td><td>Boyzone</td><td>197000</td></tr><tr><td>1999-03-27</td><td>Blame It on the Weatherman</td><td>B*Witched</td><td>90000</td></tr><tr><td>1999-04-03</td><td>Flat Beat</td><td>Mr. Oizo</td><td>283000</td></tr><tr><td>1999-04-10</td><td>Flat Beat</td><td>Mr. Oizo</td><td>184000</td></tr><tr><td>1999-04-17</td><td>Perfect Moment</td><td>Martine McCutcheon</td><td>200000</td></tr><tr><td>1999-04-24</td><td>Perfect Moment</td><td>Martine McCutcheon</td><td>140000</td></tr><tr><td>1999-05-01</td><td>Swear It Again</td><td>Westlife</td><td>102000</td></tr><tr><td>1999-05-08</td><td>Swear It Again</td><td>Westlife</td><td>80000</td></tr><tr><td>1999-05-15</td><td>I Want It That Way</td><td>Backstreet Boys</td><td>93000</td></tr><tr><td>1999-05-22</td><td>You Needed Me</td><td>Boyzone</td><td>142901</td></tr><tr><td>1999-05-29</td><td>Sweet Like Chocolate</td><td>Shanks & Bigfoot</td><td>251000</td></tr><tr><td>1999-06-05</td><td>Sweet Like Chocolate</td><td>Shanks & Bigfoot</td><td>141000</td></tr><tr><td>1999-06-12</td><td>Everybody's Free (To Wear Sunscreen)</td><td>Baz Luhrmann</td><td>206000</td></tr><tr><td>1999-06-19</td><td>Bring It All Back</td><td>S Club 7</td><td>190000</td></tr><tr><td>1999-06-26</td><td>Boom Boom Boom Boom</td><td>Vengaboys</td><td>134279</td></tr><tr><td>1999-07-03</td><td>9pm (Till I Come)</td><td>ATB</td><td>270000</td></tr><tr><td>1999-07-10</td><td>9pm (Till I Come)</td><td>ATB</td><td>108000</td></tr><tr><td>1999-07-17</td><td>Livin' la Vida Loca</td><td>Ricky Martin</td><td>131000</td></tr><tr><td>1999-07-24</td><td>Livin' la Vida Loca</td><td>Ricky Martin</td><td>125000</td></tr><tr><td>1999-07-31</td><td>Livin' la Vida Loca</td><td>Ricky Martin</td><td>96600</td></tr><tr><td>1999-08-07</td><td>When You Say Nothing at All</td><td>Ronan Keating</td><td>197565</td></tr><tr><td>1999-08-14</td><td>When You Say Nothing at All</td><td>Ronan Keating</td><td>100000</td></tr><tr><td>1999-08-21</td><td>If I Let You Go</td><td>Westlife</td><td>90491</td></tr><tr><td>1999-08-28</td><td>Mi Chico Latino</td><td>Geri Halliwell</td><td>132000</td></tr><tr><td>1999-09-04</td><td>Mambo No. 5 (A Little Bit of...)</td><td>Lou Bega</td><td>224000</td></tr><tr><td>1999-09-11</td><td>Mambo No. 5 (A Little Bit of...)</td><td>Lou Bega</td><td>175000</td></tr><tr><td>1999-09-18</td><td>We're Going to Ibiza</td><td>Vengaboys</td><td>142809</td></tr><tr><td>1999-09-25</td><td>Blue (Da Ba Dee)</td><td>Eiffel 65</td><td>226500</td></tr><tr><td>1999-10-02</td><td>Blue (Da Ba Dee)</td><td>Eiffel 65</td><td>164500</td></tr><tr><td>1999-10-09</td><td>Blue (Da Ba Dee)</td><td>Eiffel 65</td><td>141000</td></tr><tr><td>1999-10-16</td><td>Genie in a Bottle</td><td>Christina Aguilera</td><td>172600</td></tr><tr><td>1999-10-23</td><td>Genie in a Bottle</td><td>Christina Aguilera</td><td>123000</td></tr><tr><td>1999-10-30</td><td>Flying Without Wings</td><td>Westlife</td><td>92000</td></tr><tr><td>1999-11-06</td><td>Keep on Movin'</td><td>Five</td><td>137000</td></tr><tr><td>1999-11-13</td><td>Lift Me Up</td><td>Geri Halliwell</td><td>139000</td></tr><tr><td>1999-11-20</td><td>She's the One / It's Only Us</td><td>Robbie Williams</td><td>120000</td></tr><tr><td>1999-11-27</td><td>King of My Castle</td><td>Wamdue Project</td><td>148000</td></tr><tr><td>1999-12-04</td><td>The Millennium Prayer</td><td>Cliff Richard</td><td>147000</td></tr><tr><td>1999-12-11</td><td>The Millennium Prayer</td><td>Cliff Richard</td><td>158000</td></tr><tr><td>1999-12-18</td><td>The Millennium Prayer</td><td>Cliff Richard</td><td>159000</td></tr><tr><td>1999-12-25</td><td>I Have a Dream / Seasons in the Sun</td><td>Westlife</td><td>213000</td></tr></tbody></table></div>"
      ]
     },
     "metadata": {
      "application/vnd.databricks.v1+output": {
       "addedWidgets": {},
       "aggData": [],
       "aggError": "",
       "aggOverflow": false,
       "aggSchema": [],
       "aggSeriesLimitReached": false,
       "aggType": "",
       "arguments": {},
       "columnCustomDisplayInfos": {},
       "data": [
        [
         "1999-01-02",
         "Chocolate Salty Balls",
         "Chef",
         320000
        ],
        [
         "1999-01-09",
         "Heartbeat / Tragedy",
         "Steps",
         98000
        ],
        [
         "1999-01-16",
         "Praise You",
         "Fatboy Slim",
         80913
        ],
        [
         "1999-01-23",
         "A Little Bit More",
         "911",
         75400
        ],
        [
         "1999-01-30",
         "Pretty Fly (for a White Guy)",
         "The Offspring",
         140000
        ],
        [
         "1999-02-06",
         "You Don't Know Me",
         "Armand Van Helden featuring Duane Harden",
         118500
        ],
        [
         "1999-02-13",
         "Maria",
         "Blondie",
         128000
        ],
        [
         "1999-02-20",
         "Fly Away",
         "Lenny Kravitz",
         123000
        ],
        [
         "1999-02-27",
         "...Baby One More Time",
         "Britney Spears",
         463722
        ],
        [
         "1999-03-06",
         "...Baby One More Time",
         "Britney Spears",
         231000
        ],
        [
         "1999-03-13",
         "When the Going Gets Tough",
         "Boyzone",
         213000
        ],
        [
         "1999-03-20",
         "When the Going Gets Tough",
         "Boyzone",
         197000
        ],
        [
         "1999-03-27",
         "Blame It on the Weatherman",
         "B*Witched",
         90000
        ],
        [
         "1999-04-03",
         "Flat Beat",
         "Mr. Oizo",
         283000
        ],
        [
         "1999-04-10",
         "Flat Beat",
         "Mr. Oizo",
         184000
        ],
        [
         "1999-04-17",
         "Perfect Moment",
         "Martine McCutcheon",
         200000
        ],
        [
         "1999-04-24",
         "Perfect Moment",
         "Martine McCutcheon",
         140000
        ],
        [
         "1999-05-01",
         "Swear It Again",
         "Westlife",
         102000
        ],
        [
         "1999-05-08",
         "Swear It Again",
         "Westlife",
         80000
        ],
        [
         "1999-05-15",
         "I Want It That Way",
         "Backstreet Boys",
         93000
        ],
        [
         "1999-05-22",
         "You Needed Me",
         "Boyzone",
         142901
        ],
        [
         "1999-05-29",
         "Sweet Like Chocolate",
         "Shanks & Bigfoot",
         251000
        ],
        [
         "1999-06-05",
         "Sweet Like Chocolate",
         "Shanks & Bigfoot",
         141000
        ],
        [
         "1999-06-12",
         "Everybody's Free (To Wear Sunscreen)",
         "Baz Luhrmann",
         206000
        ],
        [
         "1999-06-19",
         "Bring It All Back",
         "S Club 7",
         190000
        ],
        [
         "1999-06-26",
         "Boom Boom Boom Boom",
         "Vengaboys",
         134279
        ],
        [
         "1999-07-03",
         "9pm (Till I Come)",
         "ATB",
         270000
        ],
        [
         "1999-07-10",
         "9pm (Till I Come)",
         "ATB",
         108000
        ],
        [
         "1999-07-17",
         "Livin' la Vida Loca",
         "Ricky Martin",
         131000
        ],
        [
         "1999-07-24",
         "Livin' la Vida Loca",
         "Ricky Martin",
         125000
        ],
        [
         "1999-07-31",
         "Livin' la Vida Loca",
         "Ricky Martin",
         96600
        ],
        [
         "1999-08-07",
         "When You Say Nothing at All",
         "Ronan Keating",
         197565
        ],
        [
         "1999-08-14",
         "When You Say Nothing at All",
         "Ronan Keating",
         100000
        ],
        [
         "1999-08-21",
         "If I Let You Go",
         "Westlife",
         90491
        ],
        [
         "1999-08-28",
         "Mi Chico Latino",
         "Geri Halliwell",
         132000
        ],
        [
         "1999-09-04",
         "Mambo No. 5 (A Little Bit of...)",
         "Lou Bega",
         224000
        ],
        [
         "1999-09-11",
         "Mambo No. 5 (A Little Bit of...)",
         "Lou Bega",
         175000
        ],
        [
         "1999-09-18",
         "We're Going to Ibiza",
         "Vengaboys",
         142809
        ],
        [
         "1999-09-25",
         "Blue (Da Ba Dee)",
         "Eiffel 65",
         226500
        ],
        [
         "1999-10-02",
         "Blue (Da Ba Dee)",
         "Eiffel 65",
         164500
        ],
        [
         "1999-10-09",
         "Blue (Da Ba Dee)",
         "Eiffel 65",
         141000
        ],
        [
         "1999-10-16",
         "Genie in a Bottle",
         "Christina Aguilera",
         172600
        ],
        [
         "1999-10-23",
         "Genie in a Bottle",
         "Christina Aguilera",
         123000
        ],
        [
         "1999-10-30",
         "Flying Without Wings",
         "Westlife",
         92000
        ],
        [
         "1999-11-06",
         "Keep on Movin'",
         "Five",
         137000
        ],
        [
         "1999-11-13",
         "Lift Me Up",
         "Geri Halliwell",
         139000
        ],
        [
         "1999-11-20",
         "She's the One / It's Only Us",
         "Robbie Williams",
         120000
        ],
        [
         "1999-11-27",
         "King of My Castle",
         "Wamdue Project",
         148000
        ],
        [
         "1999-12-04",
         "The Millennium Prayer",
         "Cliff Richard",
         147000
        ],
        [
         "1999-12-11",
         "The Millennium Prayer",
         "Cliff Richard",
         158000
        ],
        [
         "1999-12-18",
         "The Millennium Prayer",
         "Cliff Richard",
         159000
        ],
        [
         "1999-12-25",
         "I Have a Dream / Seasons in the Sun",
         "Westlife",
         213000
        ]
       ],
       "datasetInfos": [],
       "dbfsResultPath": null,
       "isJsonSchema": true,
       "metadata": {},
       "overflow": false,
       "plotOptions": {
        "customPlotOptions": {},
        "displayType": "table",
        "pivotAggregation": null,
        "pivotColumns": null,
        "xColumns": null,
        "yColumns": null
       },
       "removedWidgets": [],
       "schema": [
        {
         "metadata": "{}",
         "name": "ChartDate_WeekEnding",
         "type": "\"date\""
        },
        {
         "metadata": "{}",
         "name": "Song",
         "type": "\"string\""
        },
        {
         "metadata": "{}",
         "name": "Artists",
         "type": "\"string\""
        },
        {
         "metadata": "{}",
         "name": "Sales",
         "type": "\"integer\""
        }
       ],
       "type": "table"
      }
     },
     "output_type": "display_data"
    }
   ],
   "source": [
    "# Create a UDF (user-defined function) to transform data in the Chart Date column\n",
    "def make_date(date):\n",
    "\n",
    "    # Isolate the day from the date argument, ensuring that it always contains 2 digits\n",
    "    if len(date.split()[0]) == 1:\n",
    "        day = \"0\" + date.split()[0]\n",
    "    else:\n",
    "        day = date.split()[0]\n",
    "\n",
    "    # Create a dictionary linking months to their associated numbers\n",
    "    keys = ['January', \n",
    "          'February', \n",
    "          'March', \n",
    "          'April', \n",
    "          'May', \n",
    "          'June', \n",
    "          'July', \n",
    "          'August', \n",
    "          'September', \n",
    "          'October', \n",
    "          'November', \n",
    "          'December']\n",
    "    values = [\"01\",\"02\",\"03\",\"04\",\"05\",\"06\",\"07\",\"08\",\"09\",\"10\",\"11\",\"12\"]\n",
    "    month_dict = dict(map(lambda x,y: (x,y), keys,values))\n",
    "    \n",
    "    # Based on this dictionary, isolate the month from the date argument in numbered form  \n",
    "    for m in keys:\n",
    "        if m == date.split()[1]:\n",
    "            month = month_dict[m]\n",
    "\n",
    "    # Now convert the date string argument to a datetime.date() object in desired format\n",
    "    return datetime.strptime(\"1999\" + \"-\" + month + \"-\" + day,\"%Y-%m-%d\")\n",
    "\n",
    "# Finalise UDF, specifying the data type it should return\n",
    "makeDateUDF = udf(lambda x: make_date(x), DateType())\n",
    "\n",
    "# Now apply UDF to Chart Date column, and convert Sales column from strings to integers \n",
    "df = df.withColumn('ChartDate_WeekEnding', makeDateUDF(col('ChartDate_WeekEnding'))) \\\n",
    "    .withColumn('Sales', col('Sales').cast('integer'))\n",
    "\n",
    "# Finally, make sure the dataframe is sorted in chronological order before it gets \n",
    "# loaded into the database later to avoid any potential discrepancies\n",
    "df = df.sort(df.ChartDate_WeekEnding.asc())\n",
    "\n",
    "# View transformed dataframe\n",
    "display(df)"
   ]
  },
  {
   "cell_type": "code",
   "execution_count": 0,
   "metadata": {
    "application/vnd.databricks.v1+cell": {
     "cellMetadata": {
      "byteLimit": 2048000,
      "rowLimit": 10000
     },
     "inputWidgets": {},
     "nuid": "a4cd25ed-a95f-4cc7-a168-026d50705824",
     "showTitle": false,
     "title": ""
    }
   },
   "outputs": [
    {
     "output_type": "stream",
     "name": "stdout",
     "output_type": "stream",
     "text": [
      "root\n |-- ChartDate_WeekEnding: date (nullable = true)\n |-- Song: string (nullable = true)\n |-- Artists: string (nullable = true)\n |-- Sales: integer (nullable = true)\n\n"
     ]
    }
   ],
   "source": [
    "# Check new dataframe schema for updated data types\n",
    "df.printSchema()"
   ]
  },
  {
   "cell_type": "markdown",
   "metadata": {
    "application/vnd.databricks.v1+cell": {
     "cellMetadata": {
      "byteLimit": 2048000,
      "rowLimit": 10000
     },
     "inputWidgets": {},
     "nuid": "48a24881-0bb7-4640-9b6d-946f349bbeb4",
     "showTitle": false,
     "title": ""
    }
   },
   "source": [
    "## 3. Load the data into the database"
   ]
  },
  {
   "cell_type": "code",
   "execution_count": 0,
   "metadata": {
    "application/vnd.databricks.v1+cell": {
     "cellMetadata": {
      "byteLimit": 2048000,
      "rowLimit": 10000
     },
     "inputWidgets": {},
     "nuid": "983bb32f-34a7-4b4a-8164-df17e625d11e",
     "showTitle": false,
     "title": ""
    }
   },
   "outputs": [],
   "source": [
    "# Prepare credentials to connect to the database and the table where the data will be stored\n",
    "driver = \"org.postgresql.Driver\"\n",
    "url = \"jdbc:postgresql://{insert database endpoint url}/\"\n",
    "table = \"mwag_pyspark.songsales\"\n",
    "user = \"{insert database username}\"\n",
    "password = \"{insert database password}\"\n",
    "\n",
    "# Write data to the database\n",
    "df.write \\\n",
    "    .format(\"jdbc\") \\\n",
    "    .option(\"driver\", driver) \\\n",
    "    .option(\"url\", url) \\\n",
    "    .option(\"dbtable\", table) \\\n",
    "    .option(\"mode\", \"append\") \\\n",
    "    .option(\"user\",user) \\\n",
    "    .option(\"password\", password) \\\n",
    "    .save()"
   ]
  },
  {
   "cell_type": "markdown",
   "metadata": {
    "application/vnd.databricks.v1+cell": {
     "cellMetadata": {
      "byteLimit": 2048000,
      "rowLimit": 10000
     },
     "inputWidgets": {},
     "nuid": "8c73ec26-ac17-4596-813b-2dcba7c879c6",
     "showTitle": false,
     "title": ""
    }
   },
   "source": [
    "All done! Now that we've completed this ETL pipeline, we can move on to the next project where we will build a CDC pipeline to migrate the data from our PostgreSQL database to a new target MySQL database, and replicate any changes we've made to the source data in the target. Click <a href='https://github.com/mwagaine/DataPortfolio/tree/main/Data%20Engineering%20projects/2.%20CDC%20pipeline'>here</a> to get started."
   ]
  }
 ],
 "metadata": {
  "application/vnd.databricks.v1+notebook": {
   "dashboards": [],
   "language": "python",
   "notebookMetadata": {
    "pythonIndentUnit": 4
   },
   "notebookName": "ETL pipeline",
   "widgets": {}
  }
 },
 "nbformat": 4,
 "nbformat_minor": 0
}
